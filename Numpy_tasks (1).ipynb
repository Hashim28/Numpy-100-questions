{
  "cells": [
    {
      "cell_type": "markdown",
      "metadata": {
        "id": "zZLkxWZp0ZPF"
      },
      "source": [
        "# Numpy\n",
        "\n"
      ]
    },
    {
      "cell_type": "markdown",
      "metadata": {
        "id": "IzOIlNmG0ZPO"
      },
      "source": [
        "#### 1. Import the numpy package under the name `np` (★☆☆) \n",
        "(**hint**: import … as …)"
      ]
    },
    {
      "cell_type": "code",
      "execution_count": 1,
      "metadata": {
        "collapsed": true,
        "id": "Dc3urMFY0ZPQ"
      },
      "outputs": [],
      "source": [
        "import numpy as np"
      ]
    },
    {
      "cell_type": "markdown",
      "metadata": {
        "id": "49dBMRkh0ZPR"
      },
      "source": [
        "#### 2. Print the numpy version and the configuration (★☆☆) \n",
        "(**hint**: np.\\_\\_version\\_\\_, np.show\\_config)"
      ]
    },
    {
      "cell_type": "code",
      "execution_count": 2,
      "metadata": {
        "id": "lDkzyNZJ0ZPS",
        "outputId": "a029512f-6052-4347-f08c-ac53d0d2464b",
        "colab": {
          "base_uri": "https://localhost:8080/"
        }
      },
      "outputs": [
        {
          "output_type": "stream",
          "name": "stdout",
          "text": [
            "1.21.6\n",
            "<module 'numpy.__config__' from '/usr/local/lib/python3.7/dist-packages/numpy/__config__.py'>\n"
          ]
        }
      ],
      "source": [
        "print(np.__version__)\n",
        "print(np.__config__)"
      ]
    },
    {
      "cell_type": "markdown",
      "metadata": {
        "id": "IgQHGfBT0ZPT"
      },
      "source": [
        "#### 3. Create a null vector of size 10 (★☆☆) \n",
        "(**hint**: np.zeros)"
      ]
    },
    {
      "cell_type": "code",
      "execution_count": 3,
      "metadata": {
        "id": "t8qwkHhS0ZPU",
        "outputId": "de2d2099-a171-4150-ba6f-110220eace8a",
        "colab": {
          "base_uri": "https://localhost:8080/"
        }
      },
      "outputs": [
        {
          "output_type": "stream",
          "name": "stdout",
          "text": [
            "[0. 0. 0. 0. 0. 0. 0. 0. 0. 0.]\n"
          ]
        }
      ],
      "source": [
        "a = np.zeros(10)\n",
        "print(a)"
      ]
    },
    {
      "cell_type": "markdown",
      "metadata": {
        "id": "57VGBZei0ZPV"
      },
      "source": [
        "#### 4.  How to find the memory size of any array (★☆☆) \n",
        "(**hint**: size, itemsize)"
      ]
    },
    {
      "cell_type": "code",
      "execution_count": 4,
      "metadata": {
        "id": "bYyEapCO0ZPW",
        "outputId": "7a171024-d0bb-40b2-9688-dcfd5a8c1ccd",
        "colab": {
          "base_uri": "https://localhost:8080/"
        }
      },
      "outputs": [
        {
          "output_type": "stream",
          "name": "stdout",
          "text": [
            "8\n",
            "10\n"
          ]
        }
      ],
      "source": [
        "print(a.itemsize)\n",
        "print(a.size)"
      ]
    },
    {
      "cell_type": "markdown",
      "metadata": {
        "id": "uQnfwtzY0ZPX"
      },
      "source": [
        "#### 5.  How to get the documentation of the numpy add function from the command line? (★☆☆) \n",
        "(**hint**: np.info)"
      ]
    },
    {
      "cell_type": "code",
      "execution_count": 5,
      "metadata": {
        "collapsed": true,
        "id": "RCWuofZQ0ZPY",
        "colab": {
          "base_uri": "https://localhost:8080/"
        },
        "outputId": "67ac573c-1186-4bf5-a2be-ddd7769829f4"
      },
      "outputs": [
        {
          "output_type": "stream",
          "name": "stdout",
          "text": [
            "add(x1, x2, /, out=None, *, where=True, casting='same_kind', order='K', dtype=None, subok=True[, signature, extobj])\n",
            "\n",
            "Add arguments element-wise.\n",
            "\n",
            "Parameters\n",
            "----------\n",
            "x1, x2 : array_like\n",
            "    The arrays to be added.\n",
            "    If ``x1.shape != x2.shape``, they must be broadcastable to a common\n",
            "    shape (which becomes the shape of the output).\n",
            "out : ndarray, None, or tuple of ndarray and None, optional\n",
            "    A location into which the result is stored. If provided, it must have\n",
            "    a shape that the inputs broadcast to. If not provided or None,\n",
            "    a freshly-allocated array is returned. A tuple (possible only as a\n",
            "    keyword argument) must have length equal to the number of outputs.\n",
            "where : array_like, optional\n",
            "    This condition is broadcast over the input. At locations where the\n",
            "    condition is True, the `out` array will be set to the ufunc result.\n",
            "    Elsewhere, the `out` array will retain its original value.\n",
            "    Note that if an uninitialized `out` array is created via the default\n",
            "    ``out=None``, locations within it where the condition is False will\n",
            "    remain uninitialized.\n",
            "**kwargs\n",
            "    For other keyword-only arguments, see the\n",
            "    :ref:`ufunc docs <ufuncs.kwargs>`.\n",
            "\n",
            "Returns\n",
            "-------\n",
            "add : ndarray or scalar\n",
            "    The sum of `x1` and `x2`, element-wise.\n",
            "    This is a scalar if both `x1` and `x2` are scalars.\n",
            "\n",
            "Notes\n",
            "-----\n",
            "Equivalent to `x1` + `x2` in terms of array broadcasting.\n",
            "\n",
            "Examples\n",
            "--------\n",
            ">>> np.add(1.0, 4.0)\n",
            "5.0\n",
            ">>> x1 = np.arange(9.0).reshape((3, 3))\n",
            ">>> x2 = np.arange(3.0)\n",
            ">>> np.add(x1, x2)\n",
            "array([[  0.,   2.,   4.],\n",
            "       [  3.,   5.,   7.],\n",
            "       [  6.,   8.,  10.]])\n",
            "\n",
            "The ``+`` operator can be used as a shorthand for ``np.add`` on ndarrays.\n",
            "\n",
            ">>> x1 = np.arange(9.0).reshape((3, 3))\n",
            ">>> x2 = np.arange(3.0)\n",
            ">>> x1 + x2\n",
            "array([[ 0.,  2.,  4.],\n",
            "       [ 3.,  5.,  7.],\n",
            "       [ 6.,  8., 10.]])\n"
          ]
        }
      ],
      "source": [
        "np.info(np.add)"
      ]
    },
    {
      "cell_type": "markdown",
      "metadata": {
        "id": "BU15-tEd0ZPY"
      },
      "source": [
        "#### 6.  Create a null vector of size 10 but the fifth value which is 1 (★☆☆) \n",
        "(**hint**: array\\[4\\])"
      ]
    },
    {
      "cell_type": "code",
      "execution_count": 6,
      "metadata": {
        "id": "KJBrkldI0ZPZ",
        "colab": {
          "base_uri": "https://localhost:8080/"
        },
        "outputId": "7fd79f26-150d-4ca0-c519-38d5dc69b59f"
      },
      "outputs": [
        {
          "output_type": "stream",
          "name": "stdout",
          "text": [
            "[0. 0. 0. 0. 1. 0. 0. 0. 0. 0.]\n"
          ]
        }
      ],
      "source": [
        "a = np.zeros(10)\n",
        "a[4] = 1\n",
        "print(a)"
      ]
    },
    {
      "cell_type": "markdown",
      "metadata": {
        "id": "D4VWOr_R0ZPa"
      },
      "source": [
        "#### 7.  Create a vector with values ranging from 10 to 49 (★☆☆) \n",
        "(**hint**: np.arange)"
      ]
    },
    {
      "cell_type": "code",
      "execution_count": 7,
      "metadata": {
        "id": "IUSgSFM10ZPb",
        "colab": {
          "base_uri": "https://localhost:8080/"
        },
        "outputId": "baa862b9-d258-413b-ed54-2b07f369d971"
      },
      "outputs": [
        {
          "output_type": "stream",
          "name": "stdout",
          "text": [
            "[10 11 12 13 14 15 16 17 18 19 20 21 22 23 24 25 26 27 28 29 30 31 32 33\n",
            " 34 35 36 37 38 39 40 41 42 43 44 45 46 47 48 49]\n"
          ]
        }
      ],
      "source": [
        "v = np.arange(10,50)\n",
        "print(v)"
      ]
    },
    {
      "cell_type": "markdown",
      "metadata": {
        "id": "Tj4Scwwg0ZPc"
      },
      "source": [
        "#### 8.  Reverse a vector (first element becomes last) (★☆☆) \n",
        "(**hint**: array\\[::-1\\])"
      ]
    },
    {
      "cell_type": "code",
      "execution_count": 8,
      "metadata": {
        "id": "wfUPIydL0ZPd",
        "colab": {
          "base_uri": "https://localhost:8080/"
        },
        "outputId": "6a15ca61-7228-41cc-ed82-bbd5d20e947c"
      },
      "outputs": [
        {
          "output_type": "stream",
          "name": "stdout",
          "text": [
            "[49 48 47 46 45 44 43 42 41 40 39 38 37 36 35 34 33 32 31 30 29 28 27 26\n",
            " 25 24 23 22 21 20 19 18 17 16 15 14 13 12 11 10]\n"
          ]
        }
      ],
      "source": [
        "print(v[::-1])"
      ]
    },
    {
      "cell_type": "markdown",
      "metadata": {
        "id": "Pq9w6Lna0ZPe"
      },
      "source": [
        "#### 9.  Create a 3x3 matrix with values ranging from 0 to 8 (★☆☆) \n",
        "(**hint**: reshape)"
      ]
    },
    {
      "cell_type": "code",
      "execution_count": 9,
      "metadata": {
        "id": "L94OHC8f0ZPe",
        "colab": {
          "base_uri": "https://localhost:8080/"
        },
        "outputId": "53aa638e-e6e2-4e36-cd72-30e221544fdc"
      },
      "outputs": [
        {
          "output_type": "stream",
          "name": "stdout",
          "text": [
            "[[0 1 2]\n",
            " [3 4 5]\n",
            " [6 7 8]]\n"
          ]
        }
      ],
      "source": [
        "A = np.arange(9).reshape(3,3)\n",
        "print(A)"
      ]
    },
    {
      "cell_type": "markdown",
      "metadata": {
        "id": "RBSeg4ir0ZPf"
      },
      "source": [
        "#### 10. Find indices of non-zero elements from \\[1,2,0,0,4,0\\] (★☆☆) \n",
        "(**hint**: np.nonzero)"
      ]
    },
    {
      "cell_type": "code",
      "execution_count": 10,
      "metadata": {
        "id": "_gLcsf4J0ZPg",
        "colab": {
          "base_uri": "https://localhost:8080/"
        },
        "outputId": "2eb8f0f9-54cb-4453-a4d4-123e11e7938a"
      },
      "outputs": [
        {
          "output_type": "stream",
          "name": "stdout",
          "text": [
            "(array([0, 1, 4]),)\n"
          ]
        }
      ],
      "source": [
        "print(np.nonzero([1,2,0,0,4,0]))"
      ]
    },
    {
      "cell_type": "markdown",
      "metadata": {
        "id": "gwsWPFLt0ZPg"
      },
      "source": [
        "#### 11. Create a 3x3 identity matrix (★☆☆) \n",
        "(**hint**: np.eye)"
      ]
    },
    {
      "cell_type": "code",
      "execution_count": 11,
      "metadata": {
        "id": "mNY9Ovgm0ZPh",
        "colab": {
          "base_uri": "https://localhost:8080/"
        },
        "outputId": "7a021145-c91a-4616-e962-3296dd4b2cf4"
      },
      "outputs": [
        {
          "output_type": "stream",
          "name": "stdout",
          "text": [
            "[[1. 0. 0.]\n",
            " [0. 1. 0.]\n",
            " [0. 0. 1.]]\n"
          ]
        }
      ],
      "source": [
        "print(np.eye(3))"
      ]
    },
    {
      "cell_type": "markdown",
      "metadata": {
        "id": "OHYHRgWK0ZPh"
      },
      "source": [
        "#### 12. Create a 3x3x3 array with random values (★☆☆) \n",
        "(**hint**: np.random.random)"
      ]
    },
    {
      "cell_type": "code",
      "execution_count": 12,
      "metadata": {
        "collapsed": true,
        "id": "yYekxUaD0ZPh",
        "colab": {
          "base_uri": "https://localhost:8080/"
        },
        "outputId": "22c65a78-84b0-4acb-f886-6dbcb3ca4bdd"
      },
      "outputs": [
        {
          "output_type": "stream",
          "name": "stdout",
          "text": [
            "[[[8.49374962e-01 4.72171548e-01 9.99034551e-01]\n",
            "  [1.81043823e-01 2.42635440e-01 7.74488514e-01]\n",
            "  [7.86371850e-01 5.54339092e-04 8.32525992e-01]]\n",
            "\n",
            " [[9.44722509e-01 2.76520809e-01 4.84675438e-01]\n",
            "  [3.13748207e-02 1.11400379e-01 7.10961472e-01]\n",
            "  [4.39669394e-02 1.62680945e-01 4.02322582e-01]]\n",
            "\n",
            " [[1.81609564e-01 2.35236958e-01 9.78918744e-02]\n",
            "  [4.34894590e-01 4.10434750e-02 4.41597849e-01]\n",
            "  [7.82353803e-01 2.11923373e-02 1.68296362e-01]]]\n"
          ]
        }
      ],
      "source": [
        "q = np.random.random((3,3,3))\n",
        "print(q)"
      ]
    },
    {
      "cell_type": "markdown",
      "metadata": {
        "id": "zGbynuI50ZPi"
      },
      "source": [
        "#### 13. Create a 10x10 array with random values and find the minimum and maximum values (★☆☆) \n",
        "(**hint**: min, max)"
      ]
    },
    {
      "cell_type": "code",
      "execution_count": 13,
      "metadata": {
        "id": "KBeKuLQj0ZPi",
        "colab": {
          "base_uri": "https://localhost:8080/"
        },
        "outputId": "006ef13a-e8d9-431c-d6fd-9ce70264d420"
      },
      "outputs": [
        {
          "output_type": "stream",
          "name": "stdout",
          "text": [
            "Max =  0.9968204085275072\n",
            "Min =  0.027419656119480607\n"
          ]
        }
      ],
      "source": [
        "c = np.random.random((10,10))\n",
        "print(\"Max = \",c.max())\n",
        "print(\"Min = \",c.min())"
      ]
    },
    {
      "cell_type": "markdown",
      "metadata": {
        "id": "MxvJsg2f0ZPi"
      },
      "source": [
        "#### 14. Create a random vector of size 30 and find the mean value (★☆☆) \n",
        "(**hint**: mean)"
      ]
    },
    {
      "cell_type": "code",
      "execution_count": 14,
      "metadata": {
        "id": "PxrMhxEE0ZPj",
        "colab": {
          "base_uri": "https://localhost:8080/"
        },
        "outputId": "f6e6e880-1b65-4e49-d067-56c10b90e973"
      },
      "outputs": [
        {
          "output_type": "stream",
          "name": "stdout",
          "text": [
            "0.4749920038909037\n"
          ]
        }
      ],
      "source": [
        "b = np.random.random(30)\n",
        "print(b.mean())"
      ]
    },
    {
      "cell_type": "markdown",
      "metadata": {
        "id": "FXhZ5Z2Q0ZPj"
      },
      "source": [
        "#### 15. Create a 2d array with 1 on the border and 0 inside (★☆☆) \n",
        "(**hint**: array\\[1:-1, 1:-1\\])"
      ]
    },
    {
      "cell_type": "code",
      "execution_count": 15,
      "metadata": {
        "id": "ooO-iFm10ZPj",
        "colab": {
          "base_uri": "https://localhost:8080/"
        },
        "outputId": "38067d77-364f-42ea-fa61-33b67d4bde32"
      },
      "outputs": [
        {
          "output_type": "stream",
          "name": "stdout",
          "text": [
            "[[1. 1. 1. 1. 1.]\n",
            " [1. 0. 0. 0. 1.]\n",
            " [1. 0. 0. 0. 1.]\n",
            " [1. 0. 0. 0. 1.]\n",
            " [1. 1. 1. 1. 1.]]\n"
          ]
        }
      ],
      "source": [
        "a = np.ones((5,5))\n",
        "a[1:-1,1:-1] = 0\n",
        "print(a)"
      ]
    },
    {
      "cell_type": "markdown",
      "metadata": {
        "id": "J9VhZWhf0ZPj"
      },
      "source": [
        "#### 16. How to add a border (filled with 0's) around an existing array? (★☆☆) \n",
        "(**hint**: np.pad)"
      ]
    },
    {
      "cell_type": "code",
      "execution_count": 16,
      "metadata": {
        "id": "JPhaG75t0ZPq",
        "colab": {
          "base_uri": "https://localhost:8080/"
        },
        "outputId": "1993f0f0-4936-44fc-fdbe-c140541a0091"
      },
      "outputs": [
        {
          "output_type": "execute_result",
          "data": {
            "text/plain": [
              "array([[0., 0., 0., 0., 0., 0., 0.],\n",
              "       [0., 1., 1., 1., 1., 1., 0.],\n",
              "       [0., 1., 1., 1., 1., 1., 0.],\n",
              "       [0., 1., 1., 1., 1., 1., 0.],\n",
              "       [0., 1., 1., 1., 1., 1., 0.],\n",
              "       [0., 1., 1., 1., 1., 1., 0.],\n",
              "       [0., 0., 0., 0., 0., 0., 0.]])"
            ]
          },
          "metadata": {},
          "execution_count": 16
        }
      ],
      "source": [
        "a = np.ones((5,5))\n",
        "a = np.pad(a,pad_width = 1,mode = 'constant', constant_values = 0)\n",
        "a"
      ]
    },
    {
      "cell_type": "markdown",
      "metadata": {
        "id": "PbsUyks30ZPr"
      },
      "source": [
        "#### 17. What is the result of the following expression? (★☆☆) \n",
        "(**hint**: NaN = not a number, inf = infinity)"
      ]
    },
    {
      "cell_type": "markdown",
      "metadata": {
        "id": "pltQCdi10ZPs"
      },
      "source": [
        "```python\n",
        "0 * np.nan\n",
        "np.nan == np.nan\n",
        "np.inf > np.nan\n",
        "np.nan - np.nan\n",
        "0.3 == 3 * 0.1\n",
        "```"
      ]
    },
    {
      "cell_type": "code",
      "execution_count": 17,
      "metadata": {
        "id": "yV3Wf99f0ZPs",
        "colab": {
          "base_uri": "https://localhost:8080/"
        },
        "outputId": "f0158ac3-4c64-42e8-d896-b3a03264763a"
      },
      "outputs": [
        {
          "output_type": "stream",
          "name": "stdout",
          "text": [
            "nan\n",
            "False\n",
            "False\n",
            "nan\n",
            "False\n"
          ]
        }
      ],
      "source": [
        "print(0 * np.nan)\n",
        "print(np.nan == np.nan)\n",
        "print(np.inf > np.nan)\n",
        "print(np.nan - np.nan)\n",
        "print(0.3 == 3 * 0.1)"
      ]
    },
    {
      "cell_type": "markdown",
      "metadata": {
        "id": "OSHO--TU0ZPt"
      },
      "source": [
        "#### 18. Create a 5x5 matrix with values 1,2,3,4 just below the diagonal (★☆☆) \n",
        "(**hint**: np.diag)"
      ]
    },
    {
      "cell_type": "code",
      "execution_count": 18,
      "metadata": {
        "id": "vD_9lJPK0ZPt",
        "colab": {
          "base_uri": "https://localhost:8080/"
        },
        "outputId": "5d330929-99d3-4861-b95a-3f92a52e6760"
      },
      "outputs": [
        {
          "output_type": "stream",
          "name": "stdout",
          "text": [
            "[[0 0 0 0 0]\n",
            " [1 0 0 0 0]\n",
            " [0 2 0 0 0]\n",
            " [0 0 3 0 0]\n",
            " [0 0 0 4 0]]\n"
          ]
        }
      ],
      "source": [
        "a = np.diag(1+np.arange(4),k=-1)\n",
        "print(a)"
      ]
    },
    {
      "cell_type": "markdown",
      "metadata": {
        "id": "cYYpiSeU0ZPu"
      },
      "source": [
        "#### 19. Create a 8x8 matrix and fill it with a checkerboard pattern (★☆☆) \n",
        "(**hint**: array\\[::2\\])"
      ]
    },
    {
      "cell_type": "code",
      "execution_count": 19,
      "metadata": {
        "id": "NE5kjA9_0ZPu",
        "colab": {
          "base_uri": "https://localhost:8080/"
        },
        "outputId": "e17e24b4-8a73-4b22-a638-5a52eb2ae0ae"
      },
      "outputs": [
        {
          "output_type": "stream",
          "name": "stdout",
          "text": [
            "[[0 1 0 1 0 1 0 1]\n",
            " [1 0 1 0 1 0 1 0]\n",
            " [0 1 0 1 0 1 0 1]\n",
            " [1 0 1 0 1 0 1 0]\n",
            " [0 1 0 1 0 1 0 1]\n",
            " [1 0 1 0 1 0 1 0]\n",
            " [0 1 0 1 0 1 0 1]\n",
            " [1 0 1 0 1 0 1 0]]\n"
          ]
        }
      ],
      "source": [
        "a = np.zeros((8,8),dtype = int)\n",
        "a[1::2,::2] = 1\n",
        "a[::2,1::2] = 1\n",
        "print(a)"
      ]
    },
    {
      "cell_type": "markdown",
      "metadata": {
        "id": "0MIW-KSK0ZPv"
      },
      "source": [
        "#### 20. Consider a (6,7,8) shape array, what is the index (x,y,z) of the 100th element? \n",
        "(**hint**: np.unravel_index)"
      ]
    },
    {
      "cell_type": "code",
      "execution_count": 20,
      "metadata": {
        "id": "41kpIccQ0ZPv",
        "colab": {
          "base_uri": "https://localhost:8080/"
        },
        "outputId": "08488a37-28f8-45a5-8d9c-aabf39fba259"
      },
      "outputs": [
        {
          "output_type": "stream",
          "name": "stdout",
          "text": [
            "(1, 5, 3)\n"
          ]
        }
      ],
      "source": [
        "print(np.unravel_index(99,(6,7,8)))"
      ]
    },
    {
      "cell_type": "markdown",
      "metadata": {
        "id": "sdyXcaIg0ZPv"
      },
      "source": [
        "#### 21. Create a checkerboard 8x8 matrix using the tile function (★☆☆) \n",
        "(**hint**: np.tile)"
      ]
    },
    {
      "cell_type": "code",
      "execution_count": 21,
      "metadata": {
        "id": "IxSfUIKv0ZPw",
        "colab": {
          "base_uri": "https://localhost:8080/"
        },
        "outputId": "b79453ea-3515-4b4d-fea0-fb09f27423b3"
      },
      "outputs": [
        {
          "output_type": "stream",
          "name": "stdout",
          "text": [
            "[[1 0 1 0 1 0 1 0]\n",
            " [0 1 0 1 0 1 0 1]\n",
            " [1 0 1 0 1 0 1 0]\n",
            " [0 1 0 1 0 1 0 1]\n",
            " [1 0 1 0 1 0 1 0]\n",
            " [0 1 0 1 0 1 0 1]\n",
            " [1 0 1 0 1 0 1 0]\n",
            " [0 1 0 1 0 1 0 1]]\n"
          ]
        }
      ],
      "source": [
        "z = np.tile(np.array([[1,0],[0,1]]),(4,4))\n",
        "print(z)"
      ]
    },
    {
      "cell_type": "markdown",
      "metadata": {
        "id": "CAPTPP8q0ZPw"
      },
      "source": [
        "#### 22. Normalize a 5x5 random matrix (★☆☆) \n",
        "(**hint**: (x - min) / (max - min))"
      ]
    },
    {
      "cell_type": "code",
      "execution_count": 22,
      "metadata": {
        "id": "6jBIP04x0ZPw",
        "colab": {
          "base_uri": "https://localhost:8080/"
        },
        "outputId": "a7d85f19-9916-44c7-dd7a-cc1cba5a0568"
      },
      "outputs": [
        {
          "output_type": "stream",
          "name": "stdout",
          "text": [
            "[[0.81938828 0.1556671  0.40885964 0.65018962 0.47619473]\n",
            " [0.027221   0.26626483 0.89004023 0.3104593  0.36879743]\n",
            " [0.30081076 0.11932459 0.65721047 0.42611659 0.08773123]\n",
            " [0.5128473  0.24476621 0.47757976 0.85456733 0.7924735 ]\n",
            " [0.         0.23455708 0.06627709 0.95833525 1.        ]]\n"
          ]
        }
      ],
      "source": [
        "z = np.random.random((5,5))\n",
        "max,min = z.max(),z.min()\n",
        "a = (z - min)/(max - min)\n",
        "print(a)"
      ]
    },
    {
      "cell_type": "markdown",
      "metadata": {
        "id": "ZfTuFK_u0ZPx"
      },
      "source": [
        "#### 23. Create a custom dtype that describes a color as four unsigned bytes (RGBA) (★☆☆) \n",
        "(**hint**: np.dtype)"
      ]
    },
    {
      "cell_type": "code",
      "execution_count": 23,
      "metadata": {
        "collapsed": true,
        "id": "cs7ZUxKg0ZPx"
      },
      "outputs": [],
      "source": [
        "b = np.dtype([('r',np.ubyte),('g',np.ubyte),('b',np.ubyte),('a',np.ubyte)])\n"
      ]
    },
    {
      "cell_type": "markdown",
      "metadata": {
        "id": "lQKM3yMe0ZPx"
      },
      "source": [
        "#### 24. Multiply a 5x3 matrix by a 3x2 matrix (real matrix product) (★☆☆) \n",
        "(**hint**: np.dot | @)"
      ]
    },
    {
      "cell_type": "code",
      "execution_count": 24,
      "metadata": {
        "id": "hmbuDa2o0ZPx",
        "colab": {
          "base_uri": "https://localhost:8080/"
        },
        "outputId": "7ab1d4da-d957-432c-a505-be2827da9f3f"
      },
      "outputs": [
        {
          "output_type": "stream",
          "name": "stdout",
          "text": [
            "[[3. 3.]\n",
            " [3. 3.]\n",
            " [3. 3.]\n",
            " [3. 3.]\n",
            " [3. 3.]]\n"
          ]
        }
      ],
      "source": [
        "a = np.ones((5,3))\n",
        "b = np.ones((3,2))\n",
        "print(np.dot(a,b))"
      ]
    },
    {
      "cell_type": "markdown",
      "metadata": {
        "id": "naetFmL60ZPy"
      },
      "source": [
        "#### 25. Given a 1D array, negate all elements which are between 3 and 8, in place. (★☆☆) \n",
        "(**hint**: >, <=)"
      ]
    },
    {
      "cell_type": "code",
      "execution_count": 25,
      "metadata": {
        "id": "q-FKCwjO0ZPy",
        "colab": {
          "base_uri": "https://localhost:8080/"
        },
        "outputId": "771fad29-cbc6-4933-e9c3-45c67a36d12a"
      },
      "outputs": [
        {
          "output_type": "stream",
          "name": "stdout",
          "text": [
            "[ 0  1  2  3 -4 -5 -6 -7  8  9 10]\n"
          ]
        }
      ],
      "source": [
        "a = np.arange(11)\n",
        "a[(3 < a) & (a < 8)] *= -1\n",
        "print(a)"
      ]
    },
    {
      "cell_type": "markdown",
      "metadata": {
        "id": "39oxtkCp0ZPy"
      },
      "source": [
        "#### 26. What is the output of the following script? (★☆☆) \n",
        "(**hint**: np.sum)"
      ]
    },
    {
      "cell_type": "markdown",
      "metadata": {
        "id": "5PPEvSOW0ZPz"
      },
      "source": [
        "```python\n",
        "# Author: Jake VanderPlas\n",
        "\n",
        "print(sum(range(5),-1))\n",
        "from numpy import *\n",
        "print(sum(range(5),-1))\n",
        "```"
      ]
    },
    {
      "cell_type": "code",
      "execution_count": 26,
      "metadata": {
        "id": "VMO0x2qz0ZPz",
        "colab": {
          "base_uri": "https://localhost:8080/"
        },
        "outputId": "968b2033-4ef6-42c3-c303-8e6f0617a0a5"
      },
      "outputs": [
        {
          "output_type": "stream",
          "name": "stdout",
          "text": [
            "9\n",
            "10\n"
          ]
        }
      ],
      "source": [
        "print(sum(range(5),-1))\n",
        "from numpy import *\n",
        "print(sum(range(5),-1))"
      ]
    },
    {
      "cell_type": "markdown",
      "metadata": {
        "id": "yMbcEgRX0ZPz"
      },
      "source": [
        "#### 27. Consider an integer vector Z, which of these expressions are legal? (★☆☆)"
      ]
    },
    {
      "cell_type": "markdown",
      "metadata": {
        "id": "gTxqBLu20ZPz"
      },
      "source": [
        "```python\n",
        "Z**Z\n",
        "2 << Z >> 2\n",
        "Z <- Z\n",
        "1j*Z\n",
        "Z/1/1\n",
        "Z<Z>Z\n",
        "```"
      ]
    },
    {
      "cell_type": "code",
      "execution_count": 27,
      "metadata": {
        "id": "DrW5fhW10ZP0",
        "colab": {
          "base_uri": "https://localhost:8080/"
        },
        "outputId": "b273e578-d8fc-4ef6-ddb4-90fbebf71921"
      },
      "outputs": [
        {
          "output_type": "stream",
          "name": "stdout",
          "text": [
            "[1 1 4]\n",
            "[0 1 2]\n",
            "[False False False]\n",
            "[0.+0.j 0.+1.j 0.+2.j]\n",
            "[0. 1. 2.]\n"
          ]
        }
      ],
      "source": [
        "Z = np.arange(3)\n",
        "print(Z**Z)\n",
        "print(2 << Z >> 2)\n",
        "print(Z <- Z)\n",
        "print(1j*Z)\n",
        "print(Z/1/1)\n",
        "# print(Z<Z>Z) --> Value error, all are legal except this one expression "
      ]
    },
    {
      "cell_type": "markdown",
      "metadata": {
        "id": "SgK6VYoP0ZP0"
      },
      "source": [
        "#### 28. What are the result of the following expressions?"
      ]
    },
    {
      "cell_type": "markdown",
      "metadata": {
        "id": "Bl861NMO0ZP0"
      },
      "source": [
        "```python\n",
        "np.array(0) / np.array(0)\n",
        "np.array(0) // np.array(0)\n",
        "np.array([np.nan]).astype(int).astype(float)\n",
        "```"
      ]
    },
    {
      "cell_type": "code",
      "execution_count": 113,
      "metadata": {
        "id": "ID4fkU0B0ZP0",
        "colab": {
          "base_uri": "https://localhost:8080/"
        },
        "outputId": "b00b1986-0fdd-4c79-f215-923ea2e465a4"
      },
      "outputs": [
        {
          "output_type": "stream",
          "name": "stdout",
          "text": [
            "nan\n",
            "0\n",
            "[-9.22337204e+18]\n"
          ]
        }
      ],
      "source": [
        "print(np.array(0) / np.array(0))\n",
        "print(np.array(0) // np.array(0))\n",
        "print(np.array([np.nan]).astype(int).astype(float))"
      ]
    },
    {
      "cell_type": "markdown",
      "metadata": {
        "id": "mgAXV8700ZP1"
      },
      "source": [
        "#### 29. How to round away from zero a float array ? (★☆☆) \n",
        "(**hint**: np.uniform, np.copysign, np.ceil, np.abs)"
      ]
    },
    {
      "cell_type": "code",
      "execution_count": 29,
      "metadata": {
        "id": "B7_mRnzu0ZP1",
        "colab": {
          "base_uri": "https://localhost:8080/"
        },
        "outputId": "dbefa114-0923-4ec1-b12c-e941bca2aa03"
      },
      "outputs": [
        {
          "output_type": "stream",
          "name": "stdout",
          "text": [
            "[ 0.44756388  9.28077139  0.0772579  -2.53319577  1.42685792  0.26203613\n",
            "  9.55386505 -8.73032995  3.95735965  6.68826049]\n",
            "[ 1. 10.  1. -3.  2.  1. 10. -9.  4.  7.]\n"
          ]
        }
      ],
      "source": [
        "q = np.random.uniform(-10,+10,10)\n",
        "print(q)\n",
        "print(np.copysign(np.ceil(np.abs(q)), q))"
      ]
    },
    {
      "cell_type": "markdown",
      "metadata": {
        "id": "37drsi3B0ZP1"
      },
      "source": [
        "#### 30. How to find common values between two arrays? (★☆☆) \n",
        "(**hint**: np.intersect1d)"
      ]
    },
    {
      "cell_type": "code",
      "execution_count": 30,
      "metadata": {
        "id": "fxhj-Pqm0ZP1",
        "colab": {
          "base_uri": "https://localhost:8080/"
        },
        "outputId": "e8c7840c-0f89-4d62-8653-eddd4111523a"
      },
      "outputs": [
        {
          "output_type": "stream",
          "name": "stdout",
          "text": [
            "[ 7  8  9 10 11 12 13 14]\n"
          ]
        }
      ],
      "source": [
        "a = np.arange(15)\n",
        "b = np.arange(7,20)\n",
        "print(np.intersect1d(a,b))"
      ]
    },
    {
      "cell_type": "markdown",
      "metadata": {
        "id": "0xo-sw2j0ZP2"
      },
      "source": [
        "#### 31. How to ignore all numpy warnings (not recommended)? (★☆☆) \n",
        "(**hint**: np.seterr, np.errstate)"
      ]
    },
    {
      "cell_type": "code",
      "execution_count": 31,
      "metadata": {
        "id": "Dw7y06-S0ZP2",
        "colab": {
          "base_uri": "https://localhost:8080/"
        },
        "outputId": "81aac1ca-a727-4099-e88a-37de180e8389"
      },
      "outputs": [
        {
          "output_type": "stream",
          "name": "stdout",
          "text": [
            "[inf]\n"
          ]
        }
      ],
      "source": [
        "d = np.seterr(all = 'ignore')\n",
        "print(np.ones(1)/0)"
      ]
    },
    {
      "cell_type": "markdown",
      "metadata": {
        "id": "NDrVheFd0ZP2"
      },
      "source": [
        "#### 32. Is the following expressions true? (★☆☆) \n",
        "(**hint**: imaginary number)"
      ]
    },
    {
      "cell_type": "markdown",
      "metadata": {
        "id": "y81C6Hrs0ZP2"
      },
      "source": [
        "```python\n",
        "np.sqrt(-1) == np.emath.sqrt(-1)\n",
        "```"
      ]
    },
    {
      "cell_type": "code",
      "execution_count": 32,
      "metadata": {
        "id": "Tv-TXMzM0ZP3",
        "colab": {
          "base_uri": "https://localhost:8080/"
        },
        "outputId": "9f08eb8d-0163-438c-ad25-40ae0f55154a"
      },
      "outputs": [
        {
          "output_type": "stream",
          "name": "stdout",
          "text": [
            "False\n"
          ]
        }
      ],
      "source": [
        "print(np.sqrt(-1) == np.emath.sqrt(-1))"
      ]
    },
    {
      "cell_type": "markdown",
      "metadata": {
        "id": "ZMIsgK-y0ZP3"
      },
      "source": [
        "#### 33. How to get the dates of yesterday, today and tomorrow? (★☆☆) \n",
        "(**hint**: np.datetime64, np.timedelta64)"
      ]
    },
    {
      "cell_type": "code",
      "execution_count": 33,
      "metadata": {
        "collapsed": true,
        "id": "Auj_9hMC0ZP3",
        "colab": {
          "base_uri": "https://localhost:8080/"
        },
        "outputId": "43cb30dd-a3af-4d01-8842-a47504fe0209"
      },
      "outputs": [
        {
          "output_type": "stream",
          "name": "stdout",
          "text": [
            "2022-05-14 2022-05-15 2022-05-16\n"
          ]
        }
      ],
      "source": [
        "yesterday = np.datetime64('today') - np.timedelta64(1)\n",
        "today = np.datetime64('today')\n",
        "tomorrow = np.datetime64('today') + np.timedelta64(1)\n",
        "print(yesterday,today,tomorrow)"
      ]
    },
    {
      "cell_type": "markdown",
      "metadata": {
        "id": "J76mL3100ZP3"
      },
      "source": [
        "#### 34. How to get all the dates corresponding to the month of July 2016? (★★☆) \n",
        "(**hint**: np.arange(dtype=datetime64\\['D'\\]))"
      ]
    },
    {
      "cell_type": "code",
      "execution_count": 34,
      "metadata": {
        "id": "-bOA9KLD0ZP4",
        "colab": {
          "base_uri": "https://localhost:8080/"
        },
        "outputId": "98318f4b-13d7-453e-e80a-df3e326b0f43"
      },
      "outputs": [
        {
          "output_type": "stream",
          "name": "stdout",
          "text": [
            "['2016-07-01' '2016-07-02' '2016-07-03' '2016-07-04' '2016-07-05'\n",
            " '2016-07-06' '2016-07-07' '2016-07-08' '2016-07-09' '2016-07-10'\n",
            " '2016-07-11' '2016-07-12' '2016-07-13' '2016-07-14' '2016-07-15'\n",
            " '2016-07-16' '2016-07-17' '2016-07-18' '2016-07-19' '2016-07-20'\n",
            " '2016-07-21' '2016-07-22' '2016-07-23' '2016-07-24' '2016-07-25'\n",
            " '2016-07-26' '2016-07-27' '2016-07-28' '2016-07-29' '2016-07-30'\n",
            " '2016-07-31']\n"
          ]
        }
      ],
      "source": [
        "a = np.arange('2016-07', '2016-08',dtype = 'datetime64[D]')\n",
        "print(a)"
      ]
    },
    {
      "cell_type": "markdown",
      "metadata": {
        "id": "Jbs-Sdxw0ZP4"
      },
      "source": [
        "#### 35. How to compute ((A+B)\\*(-A/2)) in place (without copy)? (★★☆) \n",
        "(**hint**: np.add(out=), np.negative(out=), np.multiply(out=), np.divide(out=))"
      ]
    },
    {
      "cell_type": "code",
      "execution_count": 35,
      "metadata": {
        "id": "kcpr7F430ZP4",
        "colab": {
          "base_uri": "https://localhost:8080/"
        },
        "outputId": "c1adc0c0-26ae-4014-c18f-40a7502a3e02"
      },
      "outputs": [
        {
          "output_type": "stream",
          "name": "stdout",
          "text": [
            "[-1.5 -1.5 -1.5]\n"
          ]
        }
      ],
      "source": [
        "A = np.ones(3)\n",
        "B = np.ones(3) * 2\n",
        "np.add(A, B, out = B)\n",
        "np.divide(A, 2, out = A)\n",
        "np.negative(A, out = A)\n",
        "np.multiply(A, B, out = A)\n",
        "print(A)"
      ]
    },
    {
      "cell_type": "markdown",
      "metadata": {
        "id": "yRGHU6uq0ZP5"
      },
      "source": [
        "#### 36. Extract the integer part of a random array using 5 different methods (★★☆) \n",
        "(**hint**: %, np.floor, np.ceil, astype, np.trunc)"
      ]
    },
    {
      "cell_type": "code",
      "execution_count": 36,
      "metadata": {
        "id": "CKLpYQUN0ZP5",
        "colab": {
          "base_uri": "https://localhost:8080/"
        },
        "outputId": "91558e83-0caf-4e67-f32e-bd53f0baccf2"
      },
      "outputs": [
        {
          "output_type": "stream",
          "name": "stdout",
          "text": [
            "[0.45131382 3.37627793 7.03525304]\n",
            "[0. 3. 7.]\n",
            "[0. 3. 7.]\n",
            "[0 3 7]\n",
            "[0. 3. 7.]\n"
          ]
        }
      ],
      "source": [
        "Z = np.random.uniform((0,10,10))\n",
        "print(Z)\n",
        "print(Z - Z%1)\n",
        "print(np.floor(Z))\n",
        "print(Z.astype(int))\n",
        "print(np.trunc(Z))"
      ]
    },
    {
      "cell_type": "markdown",
      "metadata": {
        "id": "Bg1FNFF10ZP5"
      },
      "source": [
        "#### 37. Create a 5x5 matrix with row values ranging from 0 to 4 (★★☆) \n",
        "(**hint**: np.arange)"
      ]
    },
    {
      "cell_type": "code",
      "execution_count": 37,
      "metadata": {
        "id": "wI1GNy2h0ZP5",
        "colab": {
          "base_uri": "https://localhost:8080/"
        },
        "outputId": "3aff42c4-c4d0-4447-9fb4-f5107124c3ff"
      },
      "outputs": [
        {
          "output_type": "stream",
          "name": "stdout",
          "text": [
            "[[0. 1. 2. 3. 4.]\n",
            " [0. 1. 2. 3. 4.]\n",
            " [0. 1. 2. 3. 4.]\n",
            " [0. 1. 2. 3. 4.]\n",
            " [0. 1. 2. 3. 4.]]\n"
          ]
        }
      ],
      "source": [
        "a = np.zeros((5,5))\n",
        "a = a + np.arange(5)\n",
        "print(a)"
      ]
    },
    {
      "cell_type": "markdown",
      "metadata": {
        "id": "P9mu4Pim0ZP6"
      },
      "source": [
        "#### 38. Consider a generator function that generates 10 integers and use it to build an array (★☆☆) \n",
        "(**hint**: np.fromiter)"
      ]
    },
    {
      "cell_type": "code",
      "execution_count": 38,
      "metadata": {
        "id": "maI2Rwwe0ZP6",
        "colab": {
          "base_uri": "https://localhost:8080/"
        },
        "outputId": "8d62cfa3-e0a6-4bd8-cd1e-7bfb96f096f7"
      },
      "outputs": [
        {
          "output_type": "stream",
          "name": "stdout",
          "text": [
            "[0. 1. 2. 3. 4. 5. 6. 7. 8. 9.]\n"
          ]
        }
      ],
      "source": [
        "def generator():\n",
        "  for i in range(10):\n",
        "    yield(i)\n",
        "g = np.fromiter(generator(),dtype=float,count=-1)\n",
        "print(g)"
      ]
    },
    {
      "cell_type": "markdown",
      "metadata": {
        "id": "e4Jdejd-0ZP6"
      },
      "source": [
        "#### 39. Create a vector of size 10 with values ranging from 0 to 1, both excluded (★★☆) \n",
        "(**hint**: np.linspace)"
      ]
    },
    {
      "cell_type": "code",
      "execution_count": 39,
      "metadata": {
        "id": "UOmp99Q_0ZP6",
        "colab": {
          "base_uri": "https://localhost:8080/"
        },
        "outputId": "35f8c352-6564-4c26-96ad-cf2899bf761c"
      },
      "outputs": [
        {
          "output_type": "stream",
          "name": "stdout",
          "text": [
            "[0.09090909 0.18181818 0.27272727 0.36363636 0.45454545 0.54545455\n",
            " 0.63636364 0.72727273 0.81818182 0.90909091]\n"
          ]
        }
      ],
      "source": [
        "a = np.linspace(0,1,11,endpoint=False)[1:]\n",
        "print(a)"
      ]
    },
    {
      "cell_type": "markdown",
      "metadata": {
        "id": "FXfxHlE90ZP7"
      },
      "source": [
        "#### 40. Create a random vector of size 10 and sort it (★★☆) \n",
        "(**hint**: sort)"
      ]
    },
    {
      "cell_type": "code",
      "execution_count": 40,
      "metadata": {
        "id": "1G60Abf10ZP7",
        "colab": {
          "base_uri": "https://localhost:8080/"
        },
        "outputId": "56aeaff7-c7de-4ae5-999a-fa94bccaacbc"
      },
      "outputs": [
        {
          "output_type": "stream",
          "name": "stdout",
          "text": [
            "[0.00675463 0.2782378  0.33854103 0.47771982 0.4861956  0.48771168\n",
            " 0.71464154 0.80391766 0.89076806 0.92214057]\n"
          ]
        }
      ],
      "source": [
        "r = np.random.random(10)\n",
        "r.sort()\n",
        "print(r)"
      ]
    },
    {
      "cell_type": "markdown",
      "metadata": {
        "id": "pJdgGCpU0ZP7"
      },
      "source": [
        "#### 41. How to sum a small array faster than np.sum? (★★☆) \n",
        "(**hint**: np.add.reduce)"
      ]
    },
    {
      "cell_type": "code",
      "execution_count": 41,
      "metadata": {
        "id": "IntBLwxu0ZP7",
        "colab": {
          "base_uri": "https://localhost:8080/"
        },
        "outputId": "79ebdf02-6464-4ede-87f2-420658ed4d5e"
      },
      "outputs": [
        {
          "output_type": "stream",
          "name": "stdout",
          "text": [
            "45\n"
          ]
        }
      ],
      "source": [
        "a = np.arange(10)\n",
        "print(np.add.reduce(a))"
      ]
    },
    {
      "cell_type": "markdown",
      "metadata": {
        "id": "ptEpkImY0ZP8"
      },
      "source": [
        "#### 42. Consider two random array A and B, check if they are equal (★★☆) \n",
        "(**hint**: np.allclose, np.array\\_equal)"
      ]
    },
    {
      "cell_type": "code",
      "execution_count": 42,
      "metadata": {
        "id": "Yj3lrbuo0ZP8",
        "colab": {
          "base_uri": "https://localhost:8080/"
        },
        "outputId": "4fe45c05-44a9-4a78-fcbe-c12fcf70ae26"
      },
      "outputs": [
        {
          "output_type": "stream",
          "name": "stdout",
          "text": [
            "False\n",
            "False\n"
          ]
        }
      ],
      "source": [
        "A = np.random.randint(0,2,5)\n",
        "B = np.random.randint(0,2,5)\n",
        "equal = np.allclose(A,B)\n",
        "print(equal)\n",
        "equal = np.array_equal(A,B)\n",
        "print(equal)"
      ]
    },
    {
      "cell_type": "markdown",
      "metadata": {
        "id": "-RCjwRw80ZP8"
      },
      "source": [
        "#### 43. Make an array immutable (read-only) (★★☆) \n",
        "(**hint**: flags.writeable)"
      ]
    },
    {
      "cell_type": "code",
      "execution_count": 43,
      "metadata": {
        "id": "yRItcTMw0ZP9"
      },
      "outputs": [],
      "source": [
        "a = np.zeros(10)\n",
        "a.flags.writeable = False"
      ]
    },
    {
      "cell_type": "markdown",
      "metadata": {
        "id": "xuYGS7p80ZP9"
      },
      "source": [
        "#### 44. Consider a random 10x2 matrix representing cartesian coordinates, convert them to polar coordinates (★★☆) \n",
        "(**hint**: np.sqrt, np.arctan2)"
      ]
    },
    {
      "cell_type": "code",
      "execution_count": 44,
      "metadata": {
        "id": "LQxaEAlh0ZP9",
        "colab": {
          "base_uri": "https://localhost:8080/"
        },
        "outputId": "5e192be2-018c-4be3-ed15-01d9ec46535a"
      },
      "outputs": [
        {
          "output_type": "stream",
          "name": "stdout",
          "text": [
            "[1.109488   1.08167762 0.49844672 0.90468832 1.07169077 1.07635949\n",
            " 0.45271626 0.74424844 0.36654975 0.66070347]\n",
            "[0.79879384 0.63137066 1.18843117 1.23372853 0.47314448 1.11733771\n",
            " 0.99217688 0.60936568 1.38590886 0.95075265]\n"
          ]
        }
      ],
      "source": [
        "a = np.random.random((10,2))\n",
        "b,c = a[:,0], a[:,1]\n",
        "x = np.sqrt(b**2+c**2)\n",
        "y = np.arctan2(c,b)\n",
        "print(x)\n",
        "print(y)"
      ]
    },
    {
      "cell_type": "markdown",
      "metadata": {
        "id": "53fXO_ht0ZP-"
      },
      "source": [
        "#### 45. Create random vector of size 10 and replace the maximum value by 0 (★★☆) \n",
        "(**hint**: argmax)"
      ]
    },
    {
      "cell_type": "code",
      "execution_count": 45,
      "metadata": {
        "id": "Zt6DshIy0ZP_",
        "colab": {
          "base_uri": "https://localhost:8080/"
        },
        "outputId": "4c795c2b-0cf1-4da2-ed20-61fcf9e4da8d"
      },
      "outputs": [
        {
          "output_type": "stream",
          "name": "stdout",
          "text": [
            "[0.785983   0.16653183 0.82561029 0.         0.45770324 0.06672754\n",
            " 0.17773487 0.01033824 0.73870806 0.00831411]\n"
          ]
        }
      ],
      "source": [
        "a = np.random.random(10)\n",
        "a[a.argmax()] = 0\n",
        "print(a)"
      ]
    },
    {
      "cell_type": "markdown",
      "metadata": {
        "id": "NHIF8WWe0ZP_"
      },
      "source": [
        "#### 46. Create a structured array with `x` and `y` coordinates covering the \\[0,1\\]x\\[0,1\\] area (★★☆) \n",
        "(**hint**: np.meshgrid)"
      ]
    },
    {
      "cell_type": "code",
      "execution_count": 46,
      "metadata": {
        "id": "eSA3zRLg0ZP_",
        "colab": {
          "base_uri": "https://localhost:8080/"
        },
        "outputId": "f9d215a0-d655-41f1-95a0-65372c52270b"
      },
      "outputs": [
        {
          "output_type": "stream",
          "name": "stdout",
          "text": [
            "[[(0.  , 0.  ) (0.25, 0.  ) (0.5 , 0.  ) (0.75, 0.  ) (1.  , 0.  )]\n",
            " [(0.  , 0.25) (0.25, 0.25) (0.5 , 0.25) (0.75, 0.25) (1.  , 0.25)]\n",
            " [(0.  , 0.5 ) (0.25, 0.5 ) (0.5 , 0.5 ) (0.75, 0.5 ) (1.  , 0.5 )]\n",
            " [(0.  , 0.75) (0.25, 0.75) (0.5 , 0.75) (0.75, 0.75) (1.  , 0.75)]\n",
            " [(0.  , 1.  ) (0.25, 1.  ) (0.5 , 1.  ) (0.75, 1.  ) (1.  , 1.  )]]\n"
          ]
        }
      ],
      "source": [
        "a = np.zeros((5,5), [('x',float),('y',float)])\n",
        "a['x'], a['y'] = np.meshgrid(np.linspace(0,1,5),np.linspace(0,1,5))\n",
        "print(a)"
      ]
    },
    {
      "cell_type": "markdown",
      "metadata": {
        "id": "dKUQb0x-0ZP_"
      },
      "source": [
        "####  47. Given two arrays, X and Y, construct the Cauchy matrix C (Cij =1/(xi - yj)) \n",
        "(**hint**: np.subtract.outer)"
      ]
    },
    {
      "cell_type": "code",
      "execution_count": 47,
      "metadata": {
        "id": "srFhLzul0ZQA",
        "colab": {
          "base_uri": "https://localhost:8080/"
        },
        "outputId": "9e5904d2-ad4e-4d1b-dd82-dcf8df42b814"
      },
      "outputs": [
        {
          "output_type": "stream",
          "name": "stdout",
          "text": [
            "3638.163637117973\n"
          ]
        }
      ],
      "source": [
        "x = np.arange(8)\n",
        "y = x + 0.5\n",
        "z = 1.0 / np.subtract.outer(x, y)\n",
        "print(np.linalg.det(z))"
      ]
    },
    {
      "cell_type": "markdown",
      "metadata": {
        "id": "5vAP_pNU0ZQA"
      },
      "source": [
        "#### 48. Print the minimum and maximum representable value for each numpy scalar type (★★☆) \n",
        "(**hint**: np.iinfo, np.finfo, eps)"
      ]
    },
    {
      "cell_type": "code",
      "execution_count": 48,
      "metadata": {
        "id": "-EUr31Wy0ZQA",
        "colab": {
          "base_uri": "https://localhost:8080/"
        },
        "outputId": "853c4b23-f98e-4d11-ddb5-7bb07f3f8444"
      },
      "outputs": [
        {
          "output_type": "stream",
          "name": "stdout",
          "text": [
            "-128\n",
            "127\n",
            "-2147483648\n",
            "2147483647\n",
            "-9223372036854775808\n",
            "9223372036854775807\n",
            "-3.4028235e+38\n",
            "3.4028235e+38\n",
            "1.1920929e-07\n",
            "-1.7976931348623157e+308\n",
            "1.7976931348623157e+308\n",
            "2.220446049250313e-16\n"
          ]
        }
      ],
      "source": [
        "for dtype in [np.int8, np.int32, np.int64]:\n",
        "   print(np.iinfo(dtype).min)\n",
        "   print(np.iinfo(dtype).max)\n",
        "for dtype in [np.float32, np.float64]:\n",
        "   print(np.finfo(dtype).min)\n",
        "   print(np.finfo(dtype).max)\n",
        "   print(np.finfo(dtype).eps)"
      ]
    },
    {
      "cell_type": "markdown",
      "metadata": {
        "id": "WrY7o23k0ZQA"
      },
      "source": [
        "#### 49. How to print all the values of an array? (★★☆) \n",
        "(**hint**: np.set\\_printoptions)"
      ]
    },
    {
      "cell_type": "code",
      "execution_count": 49,
      "metadata": {
        "id": "Vt9YVHLR0ZQB",
        "colab": {
          "base_uri": "https://localhost:8080/"
        },
        "outputId": "de3f787d-21b8-461a-dfb9-18ba470b7dc7"
      },
      "outputs": [
        {
          "output_type": "stream",
          "name": "stdout",
          "text": [
            "[[0. 0. 0. 0. 0. 0. 0. 0. 0. 0. 0. 0. 0. 0. 0. 0. 0. 0. 0. 0. 0. 0. 0. 0.\n",
            "  0. 0. 0. 0. 0. 0.]\n",
            " [0. 0. 0. 0. 0. 0. 0. 0. 0. 0. 0. 0. 0. 0. 0. 0. 0. 0. 0. 0. 0. 0. 0. 0.\n",
            "  0. 0. 0. 0. 0. 0.]\n",
            " [0. 0. 0. 0. 0. 0. 0. 0. 0. 0. 0. 0. 0. 0. 0. 0. 0. 0. 0. 0. 0. 0. 0. 0.\n",
            "  0. 0. 0. 0. 0. 0.]\n",
            " [0. 0. 0. 0. 0. 0. 0. 0. 0. 0. 0. 0. 0. 0. 0. 0. 0. 0. 0. 0. 0. 0. 0. 0.\n",
            "  0. 0. 0. 0. 0. 0.]\n",
            " [0. 0. 0. 0. 0. 0. 0. 0. 0. 0. 0. 0. 0. 0. 0. 0. 0. 0. 0. 0. 0. 0. 0. 0.\n",
            "  0. 0. 0. 0. 0. 0.]\n",
            " [0. 0. 0. 0. 0. 0. 0. 0. 0. 0. 0. 0. 0. 0. 0. 0. 0. 0. 0. 0. 0. 0. 0. 0.\n",
            "  0. 0. 0. 0. 0. 0.]\n",
            " [0. 0. 0. 0. 0. 0. 0. 0. 0. 0. 0. 0. 0. 0. 0. 0. 0. 0. 0. 0. 0. 0. 0. 0.\n",
            "  0. 0. 0. 0. 0. 0.]\n",
            " [0. 0. 0. 0. 0. 0. 0. 0. 0. 0. 0. 0. 0. 0. 0. 0. 0. 0. 0. 0. 0. 0. 0. 0.\n",
            "  0. 0. 0. 0. 0. 0.]\n",
            " [0. 0. 0. 0. 0. 0. 0. 0. 0. 0. 0. 0. 0. 0. 0. 0. 0. 0. 0. 0. 0. 0. 0. 0.\n",
            "  0. 0. 0. 0. 0. 0.]\n",
            " [0. 0. 0. 0. 0. 0. 0. 0. 0. 0. 0. 0. 0. 0. 0. 0. 0. 0. 0. 0. 0. 0. 0. 0.\n",
            "  0. 0. 0. 0. 0. 0.]\n",
            " [0. 0. 0. 0. 0. 0. 0. 0. 0. 0. 0. 0. 0. 0. 0. 0. 0. 0. 0. 0. 0. 0. 0. 0.\n",
            "  0. 0. 0. 0. 0. 0.]\n",
            " [0. 0. 0. 0. 0. 0. 0. 0. 0. 0. 0. 0. 0. 0. 0. 0. 0. 0. 0. 0. 0. 0. 0. 0.\n",
            "  0. 0. 0. 0. 0. 0.]\n",
            " [0. 0. 0. 0. 0. 0. 0. 0. 0. 0. 0. 0. 0. 0. 0. 0. 0. 0. 0. 0. 0. 0. 0. 0.\n",
            "  0. 0. 0. 0. 0. 0.]\n",
            " [0. 0. 0. 0. 0. 0. 0. 0. 0. 0. 0. 0. 0. 0. 0. 0. 0. 0. 0. 0. 0. 0. 0. 0.\n",
            "  0. 0. 0. 0. 0. 0.]\n",
            " [0. 0. 0. 0. 0. 0. 0. 0. 0. 0. 0. 0. 0. 0. 0. 0. 0. 0. 0. 0. 0. 0. 0. 0.\n",
            "  0. 0. 0. 0. 0. 0.]\n",
            " [0. 0. 0. 0. 0. 0. 0. 0. 0. 0. 0. 0. 0. 0. 0. 0. 0. 0. 0. 0. 0. 0. 0. 0.\n",
            "  0. 0. 0. 0. 0. 0.]\n",
            " [0. 0. 0. 0. 0. 0. 0. 0. 0. 0. 0. 0. 0. 0. 0. 0. 0. 0. 0. 0. 0. 0. 0. 0.\n",
            "  0. 0. 0. 0. 0. 0.]\n",
            " [0. 0. 0. 0. 0. 0. 0. 0. 0. 0. 0. 0. 0. 0. 0. 0. 0. 0. 0. 0. 0. 0. 0. 0.\n",
            "  0. 0. 0. 0. 0. 0.]\n",
            " [0. 0. 0. 0. 0. 0. 0. 0. 0. 0. 0. 0. 0. 0. 0. 0. 0. 0. 0. 0. 0. 0. 0. 0.\n",
            "  0. 0. 0. 0. 0. 0.]\n",
            " [0. 0. 0. 0. 0. 0. 0. 0. 0. 0. 0. 0. 0. 0. 0. 0. 0. 0. 0. 0. 0. 0. 0. 0.\n",
            "  0. 0. 0. 0. 0. 0.]\n",
            " [0. 0. 0. 0. 0. 0. 0. 0. 0. 0. 0. 0. 0. 0. 0. 0. 0. 0. 0. 0. 0. 0. 0. 0.\n",
            "  0. 0. 0. 0. 0. 0.]\n",
            " [0. 0. 0. 0. 0. 0. 0. 0. 0. 0. 0. 0. 0. 0. 0. 0. 0. 0. 0. 0. 0. 0. 0. 0.\n",
            "  0. 0. 0. 0. 0. 0.]\n",
            " [0. 0. 0. 0. 0. 0. 0. 0. 0. 0. 0. 0. 0. 0. 0. 0. 0. 0. 0. 0. 0. 0. 0. 0.\n",
            "  0. 0. 0. 0. 0. 0.]\n",
            " [0. 0. 0. 0. 0. 0. 0. 0. 0. 0. 0. 0. 0. 0. 0. 0. 0. 0. 0. 0. 0. 0. 0. 0.\n",
            "  0. 0. 0. 0. 0. 0.]\n",
            " [0. 0. 0. 0. 0. 0. 0. 0. 0. 0. 0. 0. 0. 0. 0. 0. 0. 0. 0. 0. 0. 0. 0. 0.\n",
            "  0. 0. 0. 0. 0. 0.]\n",
            " [0. 0. 0. 0. 0. 0. 0. 0. 0. 0. 0. 0. 0. 0. 0. 0. 0. 0. 0. 0. 0. 0. 0. 0.\n",
            "  0. 0. 0. 0. 0. 0.]\n",
            " [0. 0. 0. 0. 0. 0. 0. 0. 0. 0. 0. 0. 0. 0. 0. 0. 0. 0. 0. 0. 0. 0. 0. 0.\n",
            "  0. 0. 0. 0. 0. 0.]\n",
            " [0. 0. 0. 0. 0. 0. 0. 0. 0. 0. 0. 0. 0. 0. 0. 0. 0. 0. 0. 0. 0. 0. 0. 0.\n",
            "  0. 0. 0. 0. 0. 0.]\n",
            " [0. 0. 0. 0. 0. 0. 0. 0. 0. 0. 0. 0. 0. 0. 0. 0. 0. 0. 0. 0. 0. 0. 0. 0.\n",
            "  0. 0. 0. 0. 0. 0.]\n",
            " [0. 0. 0. 0. 0. 0. 0. 0. 0. 0. 0. 0. 0. 0. 0. 0. 0. 0. 0. 0. 0. 0. 0. 0.\n",
            "  0. 0. 0. 0. 0. 0.]]\n"
          ]
        }
      ],
      "source": [
        "np.set_printoptions(threshold=float(\"inf\"))\n",
        "a = np.zeros((30,30))\n",
        "print(a)"
      ]
    },
    {
      "cell_type": "markdown",
      "metadata": {
        "id": "HJjbSdEP0ZQB"
      },
      "source": [
        "#### 50. How to find the closest value (to a given scalar) in a vector? (★★☆) \n",
        "(**hint**: argmin)"
      ]
    },
    {
      "cell_type": "code",
      "execution_count": 50,
      "metadata": {
        "id": "7VduMxED0ZQB",
        "colab": {
          "base_uri": "https://localhost:8080/"
        },
        "outputId": "c28a531c-4da1-40cd-a2dc-ad67f72415a0"
      },
      "outputs": [
        {
          "output_type": "stream",
          "name": "stdout",
          "text": [
            "61\n"
          ]
        }
      ],
      "source": [
        "a = np.arange(100)\n",
        "b = np.random.uniform(0,100)\n",
        "index = (np.abs(a-b)).argmin()\n",
        "print(a[index])"
      ]
    },
    {
      "cell_type": "markdown",
      "metadata": {
        "id": "cgzU53NJ0ZQB"
      },
      "source": [
        "#### 51. Create a structured array representing a position (x,y) and a color (r,g,b) (★★☆) \n",
        "(**hint**: dtype)"
      ]
    },
    {
      "cell_type": "code",
      "execution_count": 51,
      "metadata": {
        "id": "SgCxCvq10ZQC",
        "colab": {
          "base_uri": "https://localhost:8080/"
        },
        "outputId": "9d6b87e2-664b-4e40-dca4-1118471ff4c7"
      },
      "outputs": [
        {
          "output_type": "stream",
          "name": "stdout",
          "text": [
            "[((0., 0.), (0., 0., 0.)) ((0., 0.), (0., 0., 0.))\n",
            " ((0., 0.), (0., 0., 0.)) ((0., 0.), (0., 0., 0.))\n",
            " ((0., 0.), (0., 0., 0.)) ((0., 0.), (0., 0., 0.))\n",
            " ((0., 0.), (0., 0., 0.)) ((0., 0.), (0., 0., 0.))\n",
            " ((0., 0.), (0., 0., 0.)) ((0., 0.), (0., 0., 0.))]\n"
          ]
        },
        {
          "output_type": "stream",
          "name": "stderr",
          "text": [
            "/usr/local/lib/python3.7/dist-packages/ipykernel_launcher.py:5: FutureWarning: Passing (type, 1) or '1type' as a synonym of type is deprecated; in a future version of numpy, it will be understood as (type, (1,)) / '(1,)type'.\n",
            "  \"\"\"\n"
          ]
        }
      ],
      "source": [
        "a = np.zeros(10, [ ('position', [ ('x', float, 1),\n",
        "                                 ('y', float, 1)]),\n",
        "                    ('color',    [ ('r', float, 1),\n",
        "                                   ('g', float, 1),\n",
        "                                   ('b', float, 1)])])\n",
        "print(a)"
      ]
    },
    {
      "cell_type": "markdown",
      "metadata": {
        "id": "Z1DIe9Kp0ZQC"
      },
      "source": [
        "#### 52. Consider a random vector with shape (100,2) representing coordinates, find point by point distances (★★☆) \n",
        "(**hint**: np.atleast\\_2d, T, np.sqrt)"
      ]
    },
    {
      "cell_type": "code",
      "execution_count": 52,
      "metadata": {
        "id": "nu04_WeB0ZQC",
        "colab": {
          "base_uri": "https://localhost:8080/"
        },
        "outputId": "37efb18a-f765-498a-f08d-a46d4cc017b9"
      },
      "outputs": [
        {
          "output_type": "stream",
          "name": "stdout",
          "text": [
            "[[0.         0.53409658 0.4923004  0.47433401 0.47866567 0.34587502\n",
            "  0.48867361 0.55846607 0.47322192 0.40517338 0.13699255 0.6085141\n",
            "  0.50918981 0.76562053 0.63625219 0.61346686 0.36201646 0.44773472\n",
            "  0.32548897 0.43604599 0.58555574 0.34074259 0.42602012 0.0437072\n",
            "  0.34774535 0.31738331 0.50776351 0.64696153 0.45651126 0.0940991\n",
            "  0.63263988 0.6443251  0.20867152 0.34057632 0.72110055 0.52753252\n",
            "  0.2951871  0.33981459 0.5168241  0.0882156  0.15346508 0.10477851\n",
            "  0.52990538 0.57415211 0.4220908  0.50546979 0.09973601 0.71848307\n",
            "  0.70445924 0.45656042 0.78077588 0.17749026 0.5019195  0.61045119\n",
            "  0.28805984 0.2358519  0.65387673 0.65421717 0.2710605  0.57709277\n",
            "  0.3088058  0.48883109 0.51304048 0.42537846 0.64997957 0.33660555\n",
            "  0.26354371 0.11688414 0.00846475 0.52379344 0.26600268 0.20714926\n",
            "  0.43695671 0.28789911 0.16679757 0.71844617 0.53395461 0.30564591\n",
            "  0.48702784 0.48173209 0.62096631 0.6444883  0.29127643 0.32211754\n",
            "  0.68103283 0.43922884 0.16816056 0.3099746  0.34180545 0.50325872\n",
            "  0.10563271 0.4668002  0.24347945 0.69245896 0.47689624 0.44853005\n",
            "  0.62418605 0.0570876  0.25401257 0.64089779]\n",
            " [0.53409658 0.         0.48729673 0.85519175 0.15077576 0.83526986\n",
            "  0.6743534  0.7027781  0.83344976 0.27376873 0.60768583 0.69490083\n",
            "  0.84148105 0.60115501 0.84627724 0.38705737 0.84530518 0.15964593\n",
            "  0.57447139 0.64729515 0.2999779  0.25777048 0.86855124 0.51383087\n",
            "  0.49927893 0.22310052 0.2270606  0.31300568 0.08630535 0.50387467\n",
            "  0.61561256 0.28847542 0.66179625 0.32955484 0.43366326 0.45075801\n",
            "  0.4753216  0.4994149  0.27493332 0.51497726 0.60576049 0.56246722\n",
            "  0.36805719 0.18316812 0.29800309 0.12970355 0.44037746 0.45787302\n",
            "  0.50039512 0.22585489 0.54763829 0.65268329 0.50029486 0.46674551\n",
            "  0.73792213 0.63582891 0.95642661 0.20263077 0.36015357 0.90087613\n",
            "  0.40802629 0.77607823 0.22681023 0.21734281 0.20320979 0.63525436\n",
            "  0.274599   0.61022695 0.52644902 0.56030849 0.2694316  0.49488524\n",
            "  0.87539452 0.81568712 0.43982922 0.63366304 0.34011581 0.54479751\n",
            "  0.35061821 0.6482529  0.70048781 0.66744473 0.77442329 0.26040326\n",
            "  0.22988429 0.89733318 0.56921356 0.82293194 0.74728189 0.79566452\n",
            "  0.55768769 0.17687451 0.36701472 0.2827317  0.17443015 0.2000816\n",
            "  0.96217144 0.49129858 0.77101919 0.37571345]\n",
            " [0.4923004  0.48729673 0.         0.47889748 0.33687562 0.82711716\n",
            "  0.21951972 0.22375925 0.44622518 0.22194386 0.44003162 0.20761195\n",
            "  0.43133128 0.27871603 0.3719956  0.20928523 0.84518117 0.32978635\n",
            "  0.76176757 0.21996284 0.25781806 0.54560255 0.9171854  0.51348431\n",
            "  0.1570312  0.45340419 0.27186607 0.7799857  0.41809069 0.54915357\n",
            "  0.15400834 0.33085492 0.70058517 0.61290913 0.30685498 0.06591551\n",
            "  0.68531926 0.16503546 0.23027979 0.40838431 0.64288883 0.59009571\n",
            "  0.76590182 0.35518727 0.65028575 0.36205524 0.41877962 0.28627179\n",
            "  0.2423064  0.26146457 0.31634762 0.66973383 0.01378719 0.14589239\n",
            "  0.47024216 0.37787284 0.5085428  0.68947252 0.5792596  0.47298219\n",
            "  0.64938221 0.35232903 0.65593999 0.27389943 0.4197591  0.79660324\n",
            "  0.37778679 0.46450984 0.48508937 0.07305717 0.39171522 0.29210473\n",
            "  0.54751572 0.7329132  0.32838558 0.2271779  0.17749439 0.22622191\n",
            "  0.7297356  0.19124419 0.21351012 0.19085365 0.53159854 0.52686629\n",
            "  0.43578833 0.92748495 0.37163173 0.77665209 0.83207311 0.37001122\n",
            "  0.41824731 0.3104749  0.55949733 0.39833279 0.31363621 0.28765308\n",
            "  0.53357357 0.43807276 0.58411322 0.25027081]\n",
            " [0.47433401 0.85519175 0.47889748 0.         0.72968317 0.64126396\n",
            "  0.27789578 0.32770134 0.03598752 0.60073751 0.33735241 0.4017967\n",
            "  0.0797709  0.70567682 0.27748897 0.68748855 0.66120081 0.70702173\n",
            "  0.7925545  0.25985978 0.72227364 0.76470536 0.75948188 0.51795093\n",
            "  0.37105329 0.70059047 0.70004082 1.06959043 0.76942396 0.56837076\n",
            "  0.512588   0.79746029 0.61767285 0.79189715 0.78478053 0.54476108\n",
            "  0.76943082 0.3680423  0.67414444 0.41427767 0.59033477 0.56226996\n",
            "  0.98298606 0.78983375 0.86534737 0.76110027 0.4977558  0.76165003\n",
            "  0.7079018  0.66445558 0.77339079 0.58137132 0.47556665 0.61940456\n",
            "  0.19525346 0.24740714 0.19996881 1.03256394 0.72717794 0.12396872\n",
            "  0.777072   0.14533898 0.93021606 0.65403911 0.86610551 0.78971888\n",
            "  0.61203571 0.35987669 0.47451064 0.43916607 0.62405627 0.36925017\n",
            "  0.106375   0.50582845 0.44007661 0.61050728 0.64120672 0.31238672\n",
            "  0.93983422 0.30145587 0.41267687 0.47779648 0.23038428 0.74284107\n",
            "  0.88884567 0.74834144 0.3254532  0.57025517 0.73816863 0.13690864\n",
            "  0.37561343 0.70498353 0.69884281 0.86400741 0.71287629 0.67833286\n",
            "  0.15406203 0.46434247 0.31778478 0.72822676]\n",
            " [0.47866567 0.15077576 0.33687562 0.72968317 0.         0.81026184\n",
            "  0.52995485 0.55445199 0.70506716 0.13103691 0.52142507 0.54440483\n",
            "  0.70828088 0.46734195 0.69948449 0.25237858 0.82326514 0.03095749\n",
            "  0.60545774 0.5068033  0.1725654  0.30279622 0.86329471 0.47017389\n",
            "  0.36326473 0.22546854 0.08322224 0.45543824 0.09666827 0.47537899\n",
            "  0.46580635 0.19347904 0.64387596 0.38225742 0.32219572 0.30039107\n",
            "  0.50869419 0.36467203 0.12984092 0.43675369 0.58352108 0.5334293\n",
            "  0.47884039 0.09848016 0.38237659 0.03162803 0.37901789 0.33920254\n",
            "  0.3694288  0.07557051 0.42680439 0.62681574 0.34976459 0.3226591\n",
            "  0.63399158 0.52854675 0.81616312 0.35338421 0.38579555 0.76461877\n",
            "  0.4491193  0.6389734  0.34761933 0.07570235 0.17134726 0.65970581\n",
            "  0.22186194 0.53031495 0.47031291 0.40992825 0.22508832 0.38706889\n",
            "  0.76162613 0.76653478 0.34835492 0.489339   0.1940178  0.41736397\n",
            "  0.45171022 0.50312527 0.54984389 0.51694803 0.67836032 0.29400854\n",
            "  0.20257295 0.8869416  0.47146727 0.78534149 0.74959325 0.65849753\n",
            "  0.47467857 0.02680899 0.38130133 0.2228603  0.02384012 0.05274059\n",
            "  0.82637895 0.42688772 0.68966928 0.25103995]\n",
            " [0.34587502 0.83526986 0.82711716 0.64126396 0.81026184 0.\n",
            "  0.77353021 0.84650088 0.65889036 0.74945368 0.39577815 0.90886763\n",
            "  0.70700385 1.10456383 0.88277268 0.95930366 0.02015782 0.77952833\n",
            "  0.3489839  0.72203078 0.92983589 0.59272702 0.119279   0.3426435\n",
            "  0.67384282 0.61294733 0.84869159 0.84722255 0.76960319 0.335773\n",
            "  0.95657917 0.98581496 0.17432666 0.54812609 1.06695089 0.86831225\n",
            "  0.41429346 0.6656406  0.86101392 0.42101773 0.22979746 0.27711174\n",
            "  0.69013726 0.90818044 0.62525251 0.83399483 0.44114922 1.06422133\n",
            "  1.04833647 0.79754775 1.12490982 0.18403217 0.83527111 0.95298345\n",
            "  0.46015902 0.48890514 0.84121559 0.90395176 0.49057514 0.76464047\n",
            "  0.47516354 0.72279707 0.73941045 0.76488888 0.98031947 0.29727435\n",
            "  0.58848702 0.36806338 0.35414712 0.84771231 0.58635943 0.53501678\n",
            "  0.55324869 0.13701852 0.51087736 1.04868082 0.87982329 0.61635995\n",
            "  0.65593322 0.77531793 0.92186366 0.95837477 0.41176379 0.58267249\n",
            "  1.01195345 0.10882697 0.46191263 0.07185817 0.16095723 0.73033695\n",
            "  0.40925372 0.80208684 0.47530227 1.03004297 0.81201512 0.78652749\n",
            "  0.7902301  0.40293886 0.32387141 0.98667103]\n",
            " [0.48867361 0.6743534  0.21951972 0.27789578 0.52995485 0.77353021\n",
            "  0.         0.072971   0.24253227 0.40086384 0.38303771 0.14081238\n",
            "  0.21800315 0.4280971  0.17581784 0.42641736 0.79330303 0.51516691\n",
            "  0.80479233 0.05290756 0.47665618 0.66592667 0.88036135 0.52408883\n",
            "  0.18797888 0.58153738 0.47849022 0.94088804 0.59523623 0.57123225\n",
            "  0.23585543 0.55023437 0.68690819 0.71779993 0.5156165  0.28363964\n",
            "  0.7492468  0.19152749 0.44225954 0.40194831 0.63907313 0.59335404\n",
            "  0.89469636 0.56627354 0.77394122 0.55885904 0.4543728  0.48990281\n",
            "  0.43258522 0.4559777  0.49608894 0.65123299 0.21243484 0.34872939\n",
            "  0.33836707 0.28462593 0.29074492 0.87087352 0.66716544 0.25393273\n",
            "  0.73190789 0.1379853  0.80683928 0.45755495 0.6353958  0.8238612\n",
            "  0.49237197 0.41210608 0.48413821 0.1656768  0.50676237 0.29271228\n",
            "  0.3652452  0.65534179 0.36380237 0.3352349  0.3954712  0.18883437\n",
            "  0.85418888 0.02834653 0.15363178 0.20812912 0.40143395 0.64452463\n",
            "  0.65324459 0.88121773 0.32516474 0.71107412 0.82087792 0.1537998\n",
            "  0.38764392 0.5032365  0.64182077 0.61773745 0.50875568 0.4774526\n",
            "  0.3141521  0.44861705 0.47614424 0.4674111 ]\n",
            " [0.55846607 0.7027781  0.22375925 0.32770134 0.55445199 0.84650088\n",
            "  0.072971   0.         0.29171399 0.42989393 0.45560113 0.07458909\n",
            "  0.25794325 0.38389914 0.14838025 0.41729252 0.86627392 0.54323371\n",
            "  0.87133791 0.12513637 0.47860316 0.71703985 0.95320636 0.59275757\n",
            "  0.24015226 0.62978153 0.49456139 0.98143094 0.62759637 0.63900381\n",
            "  0.19078916 0.54923805 0.75849981 0.77297691 0.49552306 0.28073775\n",
            "  0.8124564  0.24532104 0.4539629  0.47107981 0.70979387 0.66324248\n",
            "  0.94506077 0.5789104  0.8250109  0.58154126 0.51908092 0.46667137\n",
            "  0.4037986  0.47905898 0.46033398 0.72301077 0.21315836 0.33065326\n",
            "  0.40870859 0.35759689 0.29561509 0.90278365 0.72550545 0.27760624\n",
            "  0.79176672 0.18238804 0.85023574 0.4856791  0.64281904 0.89238231\n",
            "  0.54274453 0.4846296  0.55363546 0.15520449 0.55726664 0.35860067\n",
            "  0.42281666 0.72798109 0.42670639 0.28480303 0.40009861 0.25494524\n",
            "  0.90550473 0.07717435 0.08631612 0.15025978 0.47124198 0.69610347\n",
            "  0.65760922 0.95418023 0.39671319 0.78395885 0.89263945 0.19306159\n",
            "  0.4587559  0.52767377 0.70102245 0.61608589 0.53201842 0.5030783\n",
            "  0.33274663 0.51650551 0.54765782 0.45741145]\n",
            " [0.47322192 0.83344976 0.44622518 0.03598752 0.70506716 0.65889036\n",
            "  0.24253227 0.29171399 0.         0.57529549 0.33695111 0.36582305\n",
            "  0.04980311 0.6700442  0.24594685 0.65520938 0.67894605 0.68321697\n",
            "  0.79490652 0.22652596 0.69207414 0.75257695 0.77628004 0.51651986\n",
            "  0.3440165  0.68545869 0.67268863 1.05520942 0.748084   0.56726991\n",
            "  0.47684328 0.76723318 0.62624252 0.78306673 0.75143376 0.51213798\n",
            "  0.76735997 0.34152759 0.6454553  0.40812605 0.59576158 0.56490916\n",
            "  0.97341572 0.76258095 0.85479237 0.73633393 0.48943304 0.72785254\n",
            "  0.67339421 0.63845749 0.73836611 0.58963188 0.44247152 0.58565693\n",
            "  0.20431253 0.24079809 0.1863646  1.0138669  0.71963632 0.1080133\n",
            "  0.77182635 0.10935829 0.91596402 0.62936482 0.83817011 0.7949592\n",
            "  0.5959786  0.36125961 0.47275607 0.40473247 0.60841481 0.35345327\n",
            "  0.13855078 0.52476112 0.42639622 0.57461997 0.61074313 0.288897\n",
            "  0.93040126 0.26652887 0.37672765 0.44181328 0.24717133 0.73060642\n",
            "  0.86032979 0.76672508 0.31781778 0.58853301 0.74960887 0.10141348\n",
            "  0.37165686 0.67999879 0.69143146 0.83403588 0.68765224 0.65329986\n",
            "  0.1510657  0.45895549 0.33507817 0.69605214]\n",
            " [0.40517338 0.27376873 0.22194386 0.60073751 0.13103691 0.74945368\n",
            "  0.40086384 0.42989393 0.57529549 0.         0.41946088 0.42752219\n",
            "  0.57748879 0.41521349 0.57254761 0.22117961 0.76459227 0.11431255\n",
            "  0.60010482 0.3760636  0.18044326 0.33858844 0.81766762 0.4078037\n",
            "  0.23246896 0.24653101 0.11018445 0.5581388  0.19808919 0.42620925\n",
            "  0.36624798 0.24156995 0.59437563 0.41264405 0.3221069  0.20284671\n",
            "  0.51124585 0.23414594 0.11166034 0.34559134 0.53307945 0.47982668\n",
            "  0.54961696 0.19473288 0.43802781 0.16166844 0.30831777 0.32568335\n",
            "  0.33023999 0.06490921 0.40119021 0.57123285 0.23560498 0.254847\n",
            "  0.51665793 0.41068405 0.68553089 0.47288999 0.39331409 0.63358245\n",
            "  0.46304117 0.50793806 0.43468002 0.05671574 0.27411829 0.64613151\n",
            "  0.19212142 0.43317678 0.39674026 0.29338188 0.20299419 0.27285618\n",
            "  0.63754282 0.68716137 0.25148352 0.41074796 0.1409015  0.28919386\n",
            "  0.51561764 0.37456169 0.43439377 0.41092781 0.56557818 0.32250843\n",
            "  0.30125598 0.83648087 0.36208929 0.71483577 0.71351938 0.52746437\n",
            "  0.37729207 0.10511167 0.37967702 0.29637608 0.11240326 0.0784528\n",
            "  0.69534646 0.34895373 0.58710901 0.24123643]\n",
            " [0.13699255 0.60768583 0.44003162 0.33735241 0.52142507 0.39577815\n",
            "  0.38303771 0.45560113 0.33695111 0.41946088 0.         0.51472112\n",
            "  0.37448911 0.71868787 0.51447231 0.59974131 0.41500333 0.49194796\n",
            "  0.45856706 0.33046649 0.59161421 0.45376031 0.49831844 0.18064683\n",
            "  0.28344881 0.40982271 0.52930556 0.76351356 0.52365814 0.23102049\n",
            "  0.5619526  0.65923366 0.3073097  0.46674381 0.70960417 0.48869151\n",
            "  0.43215932 0.27531914 0.52584389 0.09521257 0.26619136 0.22960626\n",
            "  0.65815514 0.6083284  0.54532367 0.55157816 0.18084624 0.70035624\n",
            "  0.67334965 0.48049492 0.74983159 0.27083585 0.44667706 0.57556717\n",
            "  0.15389085 0.10566058 0.51934485 0.75333981 0.39888358 0.44193759\n",
            "  0.4429726  0.36091748 0.625962   0.45525578 0.68757776 0.4626438\n",
            "  0.33480604 0.0291318  0.13744465 0.45367319 0.34249742 0.15535129\n",
            "  0.3042569  0.29292585 0.1730865  0.65596806 0.52614286 0.22134\n",
            "  0.61494655 0.38199874 0.52765316 0.56260078 0.17071747 0.43311439\n",
            "  0.71678217 0.50151855 0.06840361 0.33931431 0.43984646 0.37380341\n",
            "  0.05067974 0.50363476 0.37057618 0.71583412 0.51350265 0.48068725\n",
            "  0.48770533 0.13615554 0.16846847 0.63317692]\n",
            " [0.6085141  0.69490083 0.20761195 0.4017967  0.54440483 0.90886763\n",
            "  0.14081238 0.07458909 0.36582305 0.42752219 0.51472112 0.\n",
            "  0.33057126 0.3160681  0.19245737 0.37711006 0.92843802 0.53720876\n",
            "  0.91304663 0.18842672 0.44736389 0.7359155  1.01300498 0.64010145\n",
            "  0.27185513 0.64583904 0.476939   0.98523688 0.62495372 0.68421631\n",
            "  0.12737007 0.51389869 0.81260858 0.79693715 0.44413951 0.25233639\n",
            "  0.84841815 0.27849092 0.43289431 0.52034825 0.76144177 0.71294663\n",
            "  0.96142752 0.55625125 0.84301216 0.56912452 0.55969704 0.41313552\n",
            "  0.34683092 0.46905483 0.39730921 0.7778584  0.1946404  0.28496604\n",
            "  0.47917403 0.42104372 0.35288012 0.89707092 0.75434953 0.34475683\n",
            "  0.82246409 0.25646819 0.85828868 0.48089093 0.61415504 0.93808594\n",
            "  0.56265606 0.54340309 0.60304057 0.13468559 0.57713267 0.4035029\n",
            "  0.49740574 0.79368804 0.46569956 0.21437733 0.37357063 0.3029408\n",
            "  0.9233513  0.13380518 0.0130278  0.07813262 0.54223628 0.71577985\n",
            "  0.62584692 1.01573534 0.45251119 0.84804816 0.94702266 0.26627592\n",
            "  0.51280373 0.51805814 0.73132753 0.57920658 0.52107762 0.49522747\n",
            "  0.39661534 0.56284574 0.61649551 0.41548671]\n",
            " [0.50918981 0.84148105 0.43133128 0.0797709  0.70828088 0.70700385\n",
            "  0.21800315 0.25794325 0.04980311 0.57748879 0.37448911 0.33057126\n",
            "  0.         0.64062073 0.19774883 0.640484   0.72709357 0.68804922\n",
            "  0.83303926 0.21257701 0.68305545 0.77522474 0.8239849  0.55198394\n",
            "  0.34503275 0.70426863 0.67044841 1.07416111 0.75706304 0.60284063\n",
            "  0.44695529 0.75790503 0.66949213 0.80973633 0.7329005  0.49696853\n",
            "  0.8014311  0.34369951 0.64031616 0.43952568 0.63680798 0.60381075\n",
            "  0.99879163 0.76023789 0.87918209 0.73914556 0.51786534 0.70772412\n",
            "  0.6504735  0.63921208 0.71275711 0.63274148 0.42616423 0.56617228\n",
            "  0.24981201 0.2739102  0.14485604 1.02650769 0.74798682 0.06829564\n",
            "  0.80259788 0.08005055 0.93535153 0.63278484 0.83411724 0.83549014\n",
            "  0.61385904 0.40010053 0.50812663 0.38339936 0.62682977 0.37369262\n",
            "  0.18596724 0.5734347  0.44870716 0.54269029 0.60136062 0.29798278\n",
            "  0.95602202 0.24433247 0.34072102 0.40792414 0.29562289 0.75318348\n",
            "  0.85490847 0.81507091 0.34857386 0.63693703 0.79453686 0.06533584\n",
            "  0.40560371 0.68259641 0.72001624 0.82518113 0.68975031 0.65591514\n",
            "  0.12359848 0.49079493 0.38344758 0.68151072]\n",
            " [0.76562053 0.60115501 0.27871603 0.70567682 0.46734195 1.10456383\n",
            "  0.4280971  0.38389914 0.6700442  0.41521349 0.71868787 0.3160681\n",
            "  0.64062073 0.         0.5033117  0.21535729 1.1223617  0.47898634\n",
            "  1.01041467 0.45584374 0.30119129 0.75003589 1.19162473 0.78283127\n",
            "  0.43536626 0.65964424 0.38419364 0.91414696 0.56400025 0.81381234\n",
            "  0.19366657 0.32900138 0.97215369 0.82626931 0.19482518 0.23844225\n",
            "  0.92480803 0.44345259 0.33936391 0.68424433 0.91293651 0.85937309\n",
            "  0.94537206 0.42092467 0.84295806 0.47650819 0.6844878  0.16048518\n",
            "  0.10138817 0.41178906 0.09462311 0.94285656 0.27218098 0.16185462\n",
            "  0.73767194 0.65211275 0.66709742 0.79204646 0.80834184 0.66036197\n",
            "  0.87821304 0.56249526 0.81469842 0.44213384 0.44119117 1.05204672\n",
            "  0.60540385 0.74321961 0.75803653 0.27858289 0.61718164 0.57001992\n",
            "  0.79168776 1.0115983  0.59924225 0.10416427 0.28093799 0.50223535\n",
            "  0.91628581 0.40642164 0.30881377 0.23863174 0.80065656 0.73553143\n",
            "  0.43723851 1.2035146  0.65028428 1.05514599 1.10113567 0.57531081\n",
            "  0.6964249  0.4490527  0.79374777 0.37442444 0.44562135 0.43965039\n",
            "  0.71265983 0.70989063 0.85910168 0.2269655 ]\n",
            " [0.63625219 0.84627724 0.3719956  0.27748897 0.69948449 0.88277268\n",
            "  0.17581784 0.14838025 0.24594685 0.57254761 0.51447231 0.19245737\n",
            "  0.19774883 0.5033117  0.         0.56338449 0.9029208  0.68666176\n",
            "  0.95967778 0.21714921 0.62676156 0.84017564 0.99646071 0.67531587\n",
            "  0.36349501 0.75682305 0.6419919  1.11663832 0.7688051  0.72468408\n",
            "  0.3195949  0.69687485 0.8214016  0.88964891 0.63594127 0.42884119\n",
            "  0.91162219 0.36668015 0.60202552 0.5538124  0.77984978 0.73887334\n",
            "  1.06896537 0.72699407 0.94804701 0.72730237 0.61646601 0.60535677\n",
            "  0.53928783 0.6244641  0.58813787 0.78472175 0.3615268  0.47411744\n",
            "  0.42369367 0.4090112  0.16489719 1.04452712 0.8364561  0.17944284\n",
            "  0.89925531 0.16002388 0.98264371 0.62894783 0.79119627 0.97255678\n",
            "  0.667223   0.54307939 0.63299456 0.30334924 0.68154012 0.45551216\n",
            "  0.38370105 0.75378595 0.53003573 0.39944719 0.54847257 0.35461713\n",
            "  1.0280811  0.19943674 0.19684998 0.26590943 0.47878138 0.81861233\n",
            "  0.80583643 0.99159239 0.46813679 0.81504763 0.95250216 0.15430231\n",
            "  0.53114691 0.67267568 0.81031531 0.76347083 0.67747838 0.64753523\n",
            "  0.21815463 0.60348151 0.56440902 0.60297519]\n",
            " [0.61346686 0.38705737 0.20928523 0.68748855 0.25237858 0.95930366\n",
            "  0.42641736 0.41729252 0.65520938 0.22117961 0.59974131 0.37711006\n",
            "  0.640484   0.21535729 0.56338449 0.         0.97545585 0.26577809\n",
            "  0.82031509 0.42919937 0.08821128 0.5424359  1.03383963 0.62174972\n",
            "  0.33909974 0.45465422 0.16951561 0.69994667 0.34902972 0.64435435\n",
            "  0.26377594 0.13906411 0.81069412 0.62036412 0.10986459 0.14351681\n",
            "  0.72965737 0.34552964 0.12688645 0.54274376 0.74966357 0.69595834\n",
            "  0.7310526  0.21057135 0.63121826 0.26122732 0.52126401 0.1055281\n",
            "  0.11730758 0.20220619 0.18157103 0.78549096 0.21447564 0.09510651\n",
            "  0.6607205  0.56028991 0.71091558 0.5817297  0.60946961 0.68033517\n",
            "  0.67793978 0.56123021 0.59941541 0.23512868 0.24758254 0.86719172\n",
            "  0.41232248 0.61925286 0.60523783 0.26403436 0.42232768 0.44440802\n",
            "  0.75182888 0.88460962 0.44958999 0.25279188 0.08093079 0.41181698\n",
            "  0.70297477 0.39850392 0.37733129 0.32272118 0.71872823 0.52957769\n",
            "  0.25352755 1.05069559 0.53420262 0.91895003 0.9327948  0.57863054\n",
            "  0.56597955 0.23526336 0.59800299 0.20244945 0.23116879 0.22859069\n",
            "  0.74019808 0.55638422 0.75911042 0.04104201]\n",
            " [0.36201646 0.84530518 0.84518117 0.66120081 0.82326514 0.02015782\n",
            "  0.79330303 0.86627392 0.67894605 0.76459227 0.41500333 0.92843802\n",
            "  0.72709357 1.1223617  0.9029208  0.97545585 0.         0.79260858\n",
            "  0.34828258 0.74173906 0.94487729 0.6006165  0.10016945 0.35717079\n",
            "  0.69230176 0.62349456 0.86299703 0.85020375 0.78084112 0.34812271\n",
            "  0.97539011 1.00013215 0.18351743 0.55386448 1.08283176 0.88580366\n",
            "  0.41744999 0.68410177 0.87605945 0.43844642 0.2410015  0.28983584\n",
            "  0.69166711 0.92135459 0.62990139 0.84660108 0.45630274 1.08049953\n",
            "  1.06534758 0.81191198 1.14186868 0.19645334 0.85345146 0.97024303\n",
            "  0.48031434 0.50867917 0.86114018 0.90993702 0.49779928 0.78462424\n",
            "  0.47967206 0.74294802 0.74462184 0.77903664 0.99293339 0.29431568\n",
            "  0.60140703 0.38714813 0.37022305 0.86645363 0.59890179 0.55312728\n",
            "  0.57279748 0.15646337 0.5276213  1.0671879  0.89578175 0.6353332\n",
            "  0.6582667  0.79493644 0.94142911 0.97759451 0.43180277 0.59117739\n",
            "  1.02460561 0.08869268 0.48087256 0.09133081 0.15425346 0.75049474\n",
            "  0.42762339 0.81556892 0.4834541  1.04362434 0.8254604  0.80041331\n",
            "  0.80997337 0.41910384 0.34390196 1.00243716]\n",
            " [0.44773472 0.15964593 0.32978635 0.70702173 0.03095749 0.77952833\n",
            "  0.51516691 0.54323371 0.68321697 0.11431255 0.49194796 0.53720876\n",
            "  0.68804922 0.47898634 0.68666176 0.26577809 0.79260858 0.\n",
            "  0.57886557 0.48957741 0.19113424 0.28086325 0.8333024  0.43925842\n",
            "  0.34358611 0.19975232 0.09741679 0.4539737  0.09018726 0.44483076\n",
            "  0.4648856  0.21973103 0.61350391 0.36007911 0.34277031 0.29879156\n",
            "  0.48281866 0.34444994 0.13964068 0.40652766 0.55304791 0.5027795\n",
            "  0.46655618 0.12880949 0.36555417 0.05963195 0.34810235 0.35755762\n",
            "  0.3830546  0.07168447 0.44369113 0.59617064 0.34305881 0.32925371\n",
            "  0.60676178 0.501637   0.79904815 0.36023051 0.35997037 0.74562971\n",
            "  0.42460727 0.62024036 0.33964643 0.05771621 0.20230093 0.63226742\n",
            "  0.19126588 0.50036663 0.43938597 0.40252801 0.19488357 0.35981906\n",
            "  0.73626053 0.73561277 0.31886884 0.49466473 0.20066209 0.39468708\n",
            "  0.43742253 0.4888672  0.54329644 0.51402714 0.65014198 0.27061448\n",
            "  0.23352791 0.85668301 0.44306107 0.75440211 0.72016977 0.63981038\n",
            "  0.44484938 0.03105651 0.35426194 0.25255284 0.03794113 0.04310759\n",
            "  0.80724156 0.39607518 0.66003445 0.26867342]\n",
            " [0.32548897 0.57447139 0.76176757 0.7925545  0.60545774 0.3489839\n",
            "  0.80479233 0.87133791 0.79490652 0.60010482 0.45856706 0.91304663\n",
            "  0.83303926 1.01041467 0.95967778 0.82031509 0.34828258 0.57886557\n",
            "  0.         0.75325978 0.76312083 0.31723136 0.32669041 0.28468806\n",
            "  0.64189398 0.38011806 0.66979494 0.50997217 0.53346271 0.23499413\n",
            "  0.91357117 0.79852018 0.21121221 0.2467692  0.91445391 0.77812344\n",
            "  0.09927001 0.63492154 0.6992031  0.40588944 0.20923121 0.23028604\n",
            "  0.34662584 0.70031673 0.30562987 0.61929915 0.3533687  0.92294403\n",
            "  0.93007326 0.62422972 1.00118836 0.23705726 0.77383362 0.84857424\n",
            "  0.59926827 0.56093066 0.97789396 0.5892571  0.22040111 0.90048397\n",
            "  0.16677848 0.81424989 0.42113435 0.5894643  0.75747058 0.0640203\n",
            "  0.40809773 0.43364693 0.32778925 0.80964499 0.39802534 0.51275216\n",
            "  0.73982061 0.41627343 0.44737557 0.98598784 0.74085539 0.61659307\n",
            "  0.31685111 0.79420041 0.92476219 0.93676875 0.58426078 0.31819555\n",
            "  0.78843762 0.36346826 0.49287009 0.38024509 0.20396406 0.82874769\n",
            "  0.431033   0.60820224 0.22481599 0.8244402  0.61651998 0.60301733\n",
            "  0.94501202 0.35686163 0.51677046 0.83532591]\n",
            " [0.43604599 0.64729515 0.21996284 0.25985978 0.5068033  0.72203078\n",
            "  0.05290756 0.12513637 0.22652596 0.3760636  0.33046649 0.18842672\n",
            "  0.21257701 0.45584374 0.21714921 0.42919937 0.74173906 0.48957741\n",
            "  0.75325978 0.         0.47058797 0.6233968  0.82816315 0.47182256\n",
            "  0.15063529 0.54122478 0.46208349 0.90456763 0.56589377 0.51929402\n",
            "  0.2682904  0.54536951 0.63400738 0.67256697 0.52497905 0.28586227\n",
            "  0.6993478  0.15251353 0.42959718 0.34958351 0.58621784 0.54067519\n",
            "  0.85212716 0.55135325 0.73115977 0.53674245 0.4040657  0.50184709\n",
            "  0.44931942 0.43473725 0.51697578 0.59834997 0.21594929 0.35959506\n",
            "  0.29353292 0.23329792 0.30949115 0.84055393 0.62011161 0.26057309\n",
            "  0.68386262 0.1356507  0.76896088 0.43258445 0.62363107 0.77155363\n",
            "  0.45108094 0.35950116 0.43160192 0.18116546 0.46529695 0.24221907\n",
            "  0.33680666 0.6053608  0.31484328 0.36869163 0.38887819 0.13901779\n",
            "  0.81109388 0.05541103 0.20144195 0.2491784  0.35712385 0.60175909\n",
            "  0.64354857 0.82947917 0.27225724 0.66025213 0.76799564 0.15455512\n",
            "  0.33475758 0.48041169 0.59430254 0.61268567 0.48672451 0.45406277\n",
            "  0.32237771 0.39672175 0.4287445  0.47014215]\n",
            " [0.58555574 0.2999779  0.25781806 0.72227364 0.1725654  0.92983589\n",
            "  0.47665618 0.47860316 0.69207414 0.18044326 0.59161421 0.44736389\n",
            "  0.68305545 0.30119129 0.62676156 0.08821128 0.94487729 0.19113424\n",
            "  0.76312083 0.47058797 0.         0.47190919 0.99635868 0.58788436\n",
            "  0.35729616 0.38833431 0.09445096 0.61298191 0.26796617 0.60436863\n",
            "  0.34270755 0.07518668 0.77329692 0.55099368 0.15220699 0.19792217\n",
            "  0.66924536 0.36228532 0.06882236 0.52353915 0.71197706 0.65906327\n",
            "  0.6502442  0.1224326  0.55486674 0.17679191 0.48868684 0.16674792\n",
            "  0.20069879 0.13932355 0.25434008 0.75100279 0.26664156 0.17761891\n",
            "  0.67172947 0.56749503 0.76634719 0.49354459 0.54709609 0.7287924\n",
            "  0.61356044 0.60579486 0.51600503 0.17420994 0.16707774 0.81349717\n",
            "  0.35946536 0.60779176 0.57712988 0.32342883 0.36742676 0.43896878\n",
            "  0.77663519 0.8661794  0.4290385  0.34032841 0.08171256 0.42715301\n",
            "  0.62402852 0.44831065 0.44923439 0.40035334 0.72595073 0.4610684\n",
            "  0.17913922 1.01600158 0.5299286  0.89504436 0.88968836 0.62420204\n",
            "  0.55252403 0.160098   0.53859225 0.14214096 0.15398156 0.16047239\n",
            "  0.78991914 0.52919964 0.75675724 0.07855518]\n",
            " [0.34074259 0.25777048 0.54560255 0.76470536 0.30279622 0.59272702\n",
            "  0.66592667 0.71703985 0.75257695 0.33858844 0.45376031 0.7359155\n",
            "  0.77522474 0.75003589 0.84017564 0.5424359  0.6006165  0.28086325\n",
            "  0.31723136 0.6233968  0.47190919 0.         0.61510962 0.30708184\n",
            "  0.4785663  0.09264976 0.37771049 0.30976649 0.21999726 0.27988665\n",
            "  0.69774373 0.49500004 0.41856098 0.07946869 0.62362233 0.53949984\n",
            "  0.21796399 0.47451836 0.41574772 0.36059988 0.36809959 0.3337667\n",
            "  0.22880222 0.39150044 0.108061   0.31084733 0.27360864 0.63792779\n",
            "  0.65858256 0.34026793 0.72280432 0.41596135 0.55924418 0.59213596\n",
            "  0.60462555 0.5194743  0.91062021 0.31900557 0.10430701 0.84191885\n",
            "  0.15193283 0.72791972 0.1728338  0.30827436 0.44270967 0.37752874\n",
            "  0.17429714 0.4450939  0.33516428 0.60976574 0.15977328 0.4016858\n",
            "  0.75411267 0.59474069 0.32661998 0.74908915 0.46937029 0.49031676\n",
            "  0.18849281 0.64606881 0.74524925 0.7358082  0.6230523  0.02204813\n",
            "  0.47317556 0.64572995 0.44195248 0.59055088 0.49223501 0.74637302\n",
            "  0.40470058 0.31184634 0.1175562  0.51323905 0.31846014 0.31414749\n",
            "  0.89850727 0.31835659 0.59461058 0.54891736]\n",
            " [0.42602012 0.86855124 0.9171854  0.75948188 0.86329471 0.119279\n",
            "  0.88036135 0.95320636 0.77628004 0.81766762 0.49831844 1.01300498\n",
            "  0.8239849  1.19162473 0.99646071 1.03383963 0.10016945 0.8333024\n",
            "  0.32669041 0.82816315 0.99635868 0.61510962 0.         0.41232431\n",
            "  0.76788066 0.65177414 0.91042246 0.83664868 0.81122226 0.39203064\n",
            "  1.05286756 1.04693976 0.22332735 0.55806142 1.13908344 0.95354165\n",
            "  0.41215063 0.75973575 0.92790288 0.5088777  0.2845932  0.33803642\n",
            "  0.67251275 0.96176533 0.62723966 0.88418928 0.51277722 1.13934892\n",
            "  1.12916875 0.86000112 1.20512614 0.24927796 0.92629252 1.03606988\n",
            "  0.57574315 0.59655209 0.95944595 0.91119522 0.5108081  0.88255703\n",
            "  0.47928924 0.83678793 0.74335859 0.82606104 1.02971666 0.26467778\n",
            "  0.64304255 0.46960324 0.43366868 0.94362705 0.63845632 0.62697832\n",
            "  0.67242835 0.25629412 0.59265599 1.14199107 0.9532481  0.71522689\n",
            "  0.64354077 0.88026587 1.02592261 1.05864123 0.52946939 0.60904754\n",
            "  1.06145714 0.03988404 0.56154837 0.19113717 0.12473076 0.84510259\n",
            "  0.50443182 0.85842807 0.50158883 1.08583612 0.86803783 0.84574207\n",
            "  0.90908836 0.4821081  0.44174015 1.05823183]\n",
            " [0.0437072  0.51383087 0.51348431 0.51795093 0.47017389 0.3426435\n",
            "  0.52408883 0.59275757 0.51651986 0.4078037  0.18064683 0.64010145\n",
            "  0.55198394 0.78283127 0.67531587 0.62174972 0.35717079 0.43925842\n",
            "  0.28468806 0.47182256 0.58788436 0.30708184 0.41232431 0.\n",
            "  0.3746988  0.29309738 0.50605245 0.61013137 0.43958765 0.05085683\n",
            "  0.65765473 0.64317241 0.18992723 0.30111395 0.72774282 0.54439661\n",
            "  0.25151254 0.367006   0.51908868 0.1223139  0.13010581 0.07668886\n",
            "  0.48900766 0.5673249  0.38345899 0.49540471 0.10049385 0.72721553\n",
            "  0.71729208 0.45490426 0.79304447 0.16380472 0.52381573 0.62522389\n",
            "  0.33160885 0.2782749  0.69654647 0.62374521 0.23130463 0.61999099\n",
            "  0.26599167 0.52983602 0.47806732 0.42232432 0.64123585 0.29977516\n",
            "  0.25006581 0.1603981  0.04385752 0.54957042 0.25020847 0.23667084\n",
            "  0.4802055  0.30205455 0.18509899 0.74054119 0.54133385 0.33833327\n",
            "  0.44633619 0.51570374 0.65235514 0.67258131 0.3331508  0.28960429\n",
            "  0.67265187 0.4291749  0.20822362 0.31533344 0.31880335 0.54463281\n",
            "  0.14701197 0.46056444 0.20434983 0.68810731 0.47056972 0.44423345\n",
            "  0.66753279 0.07749474 0.29102182 0.64703095]\n",
            " [0.34774535 0.49927893 0.1570312  0.37105329 0.36326473 0.67384282\n",
            "  0.18797888 0.24015226 0.3440165  0.23246896 0.28344881 0.27185513\n",
            "  0.34503275 0.43536626 0.36349501 0.33909974 0.69230176 0.34358611\n",
            "  0.64189398 0.15063529 0.35729616 0.4785663  0.76788066 0.3746988\n",
            "  0.         0.3935659  0.32898973 0.75437197 0.41664415 0.41603103\n",
            "  0.28535815 0.43195132 0.55604294 0.53289936 0.44629937 0.2108183\n",
            "  0.57669173 0.00820339 0.30439638 0.26062183 0.50092227 0.44990766\n",
            "  0.70720092 0.41880553 0.58662636 0.39411486 0.28897009 0.43128792\n",
            "  0.39563456 0.29473592 0.47114781 0.52337756 0.1632438  0.29760208\n",
            "  0.32180048 0.22381012 0.45762509 0.69052218 0.48576162 0.40207884\n",
            "  0.55269515 0.27688296 0.61942445 0.28784167 0.49517292 0.66916082\n",
            "  0.30464472 0.30855941 0.34128748 0.17622469 0.31908277 0.1412435\n",
            "  0.41936937 0.57636572 0.19474311 0.37490079 0.27886325 0.07285062\n",
            "  0.66700208 0.16751619 0.28325922 0.29794282 0.38081746 0.4573283\n",
            "  0.51842356 0.77610191 0.21507113 0.62137361 0.68954727 0.29646854\n",
            "  0.26470547 0.3375693  0.46171115 0.49710008 0.34478947 0.31088412\n",
            "  0.46365838 0.29731026 0.4284203  0.37737465]\n",
            " [0.31738331 0.22310052 0.45340419 0.70059047 0.22546854 0.61294733\n",
            "  0.58153738 0.62978153 0.68545869 0.24653101 0.40982271 0.64583904\n",
            "  0.70426863 0.65964424 0.75682305 0.45465422 0.62349456 0.19975232\n",
            "  0.38011806 0.54122478 0.38833431 0.09264976 0.65177414 0.29309738\n",
            "  0.3935659  0.         0.29393248 0.36996387 0.15952398 0.280802\n",
            "  0.60523418 0.4188246  0.44020118 0.16662533 0.54054127 0.44690401\n",
            "  0.28326069 0.39015318 0.32880354 0.31461131 0.38320066 0.33936675\n",
            "  0.31579561 0.32045317 0.19741232 0.23964014 0.23134683 0.55269866\n",
            "  0.56981223 0.25280489 0.63587651 0.42985861 0.46708037 0.50078234\n",
            "  0.55394517 0.46079392 0.83566545 0.34351835 0.16035706 0.76964923\n",
            "  0.22526614 0.65201034 0.23110858 0.21954375 0.38121627 0.43534749\n",
            "  0.09093829 0.40668212 0.31028317 0.51835059 0.07749209 0.33200586\n",
            "  0.70039427 0.59391068 0.26102209 0.65668493 0.37969858 0.41234605\n",
            "  0.27756906 0.56049691 0.65489239 0.6438557  0.5804542  0.07602411\n",
            "  0.41273113 0.67874415 0.38583419 0.5998609  0.53339392 0.6709118\n",
            "  0.35921432 0.22989116 0.15690986 0.44496481 0.23766012 0.22829532\n",
            "  0.8278664  0.28135593 0.56427485 0.46380352]\n",
            " [0.50776351 0.2270606  0.27186607 0.70004082 0.08322224 0.84869159\n",
            "  0.47849022 0.49456139 0.67268863 0.11018445 0.52930556 0.476939\n",
            "  0.67044841 0.38419364 0.6419919  0.16951561 0.86299703 0.09741679\n",
            "  0.66979494 0.46208349 0.09445096 0.37771049 0.91042246 0.50605245\n",
            "  0.32898973 0.29393248 0.         0.53671316 0.17982532 0.5187004\n",
            "  0.38974109 0.13713544 0.68814057 0.45668562 0.24663629 0.22695974\n",
            "  0.57533802 0.33212823 0.04790336 0.45324943 0.62695356 0.57480508\n",
            "  0.56154399 0.08990746 0.4626976  0.09737591 0.40893231 0.26028456\n",
            "  0.2867596  0.0512321  0.34629272 0.66762579 0.28376603 0.24067442\n",
            "  0.62555121 0.51967116 0.76850271 0.42836732 0.45298341 0.72256064\n",
            "  0.51918489 0.59709728 0.43083578 0.08436349 0.16691801 0.72106474\n",
            "  0.26926594 0.5423928  0.4992988  0.34419063 0.27618768 0.38288093\n",
            "  0.74279467 0.79280023 0.35986876 0.40764706 0.11307314 0.39200185\n",
            "  0.5336199  0.45068515 0.48124724 0.44312471 0.67536188 0.36665229\n",
            "  0.19239447 0.9315157  0.47227145 0.81765705 0.80123167 0.61631432\n",
            "  0.48640048 0.06642439 0.44506192 0.18696389 0.06167214 0.06683349\n",
            "  0.78440858 0.45267987 0.6971542  0.1713279 ]\n",
            " [0.64696153 0.31300568 0.7799857  1.06959043 0.45543824 0.84722255\n",
            "  0.94088804 0.98143094 1.05520942 0.5581388  0.76351356 0.98523688\n",
            "  1.07416111 0.91414696 1.11663832 0.69994667 0.85020375 0.4539737\n",
            "  0.50997217 0.90456763 0.61298191 0.30976649 0.83664868 0.61013137\n",
            "  0.75437197 0.36996387 0.53671316 0.         0.36384395 0.57534031\n",
            "  0.91884835 0.5964948  0.68174894 0.31278522 0.74278681 0.75274934\n",
            "  0.43293385 0.75208086 0.58443202 0.67025467 0.64383358 0.62189587\n",
            "  0.16729279 0.49467174 0.22954614 0.44013748 0.58329626 0.76880372\n",
            "  0.81330163 0.52548953 0.858474   0.68974749 0.79359006 0.77738753\n",
            "  0.91417546 0.82680074 1.20424917 0.14622399 0.38155904 1.13928723\n",
            "  0.37457033 1.02044691 0.13938293 0.50704034 0.49679575 0.57239645\n",
            "  0.46033267 0.75436182 0.64201603 0.85146055 0.44734358 0.70180578\n",
            "  1.06332441 0.87805768 0.62951467 0.94434551 0.6492299  0.7805265\n",
            "  0.19315326 0.9176137  0.99239542 0.96727059 0.9325238  0.33064836\n",
            "  0.51572286 0.8733251  0.74997037 0.86151869 0.71353212 1.03953603\n",
            "  0.71443968 0.47882499 0.40676947 0.57770415 0.47905536 0.49708128\n",
            "  1.1977516  0.62793004 0.90069798 0.68833815]\n",
            " [0.45651126 0.08630535 0.41809069 0.76942396 0.09666827 0.76960319\n",
            "  0.59523623 0.62759637 0.748084   0.19808919 0.52365814 0.62495372\n",
            "  0.75706304 0.56400025 0.7688051  0.34902972 0.78084112 0.09018726\n",
            "  0.53346271 0.56589377 0.26796617 0.21999726 0.81122226 0.43958765\n",
            "  0.41664415 0.15952398 0.17982532 0.36384395 0.         0.43474188\n",
            "  0.55500708 0.27865185 0.59807458 0.29854032 0.41505506 0.38890786\n",
            "  0.43471403 0.41634559 0.22579982 0.43193985 0.53992713 0.49369755\n",
            "  0.38244382 0.17270373 0.28933092 0.09410548 0.36038636 0.4339281\n",
            "  0.46601039 0.16183676 0.52225428 0.58577352 0.43152523 0.41779891\n",
            "  0.65202052 0.54964545 0.87426111 0.27573173 0.31349792 0.81724103\n",
            "  0.37105072 0.69292271 0.25125252 0.14419204 0.22401742 0.591155\n",
            "  0.19370491 0.52731769 0.44860829 0.49042919 0.19051794 0.40859749\n",
            "  0.78909977 0.74144475 0.35445307 0.58389449 0.28895326 0.45975992\n",
            "  0.35623404 0.56980544 0.63143292 0.60375208 0.68935762 0.21560355\n",
            "  0.25509985 0.83786935 0.48360601 0.75256828 0.69285407 0.71249485\n",
            "  0.47400991 0.11670426 0.31448197 0.29325195 0.11875467 0.1332798\n",
            "  0.87832035 0.41104117 0.68832316 0.3465116 ]\n",
            " [0.0940991  0.50387467 0.54915357 0.56837076 0.47537899 0.335773\n",
            "  0.57123225 0.63900381 0.56726991 0.42620925 0.23102049 0.68421631\n",
            "  0.60284063 0.81381234 0.72468408 0.64435435 0.34812271 0.44483076\n",
            "  0.23499413 0.51929402 0.60436863 0.27988665 0.39203064 0.05085683\n",
            "  0.41603103 0.280802   0.5187004  0.57534031 0.43474188 0.\n",
            "  0.69621894 0.65549538 0.16946283 0.26328334 0.74815835 0.57592123\n",
            "  0.20143923 0.40857462 0.53598944 0.17090753 0.10842888 0.05895698\n",
            "  0.44718286 0.57363724 0.34654319 0.49848013 0.13038971 0.74982746\n",
            "  0.74413716 0.46811005 0.81907745 0.15178326 0.56007353 0.65435081\n",
            "  0.38076552 0.32911898 0.74739963 0.59884041 0.19384812 0.67084375\n",
            "  0.2204668  0.58023907 0.44693091 0.43434973 0.64481132 0.25388971\n",
            "  0.25356693 0.2097539  0.09471401 0.58911671 0.25078129 0.28106448\n",
            "  0.52846611 0.31612047 0.2226217  0.77626354 0.56347484 0.38409956\n",
            "  0.40506967 0.56184329 0.69629249 0.71377292 0.37918981 0.26466831\n",
            "  0.67648655 0.41293208 0.25850396 0.3190601  0.28884993 0.59517671\n",
            "  0.19775671 0.4685145  0.1689166  0.69656802 0.47830785 0.45459208\n",
            "  0.71825773 0.12261728 0.33100078 0.66726003]\n",
            " [0.63263988 0.61561256 0.15400834 0.512588   0.46580635 0.95657917\n",
            "  0.23585543 0.19078916 0.47684328 0.36624798 0.5619526  0.12737007\n",
            "  0.44695529 0.19366657 0.3195949  0.26377594 0.97539011 0.4648856\n",
            "  0.91357117 0.2682904  0.34270755 0.69774373 1.05286756 0.65765473\n",
            "  0.28535815 0.60523418 0.38974109 0.91884835 0.55500708 0.69621894\n",
            "  0.         0.40280624 0.84117911 0.7662603  0.3195392  0.16609924\n",
            "  0.83872391 0.2934347  0.34260703 0.54591474 0.78538179 0.73365758\n",
            "  0.91518144 0.4596899  0.80124762 0.48631386 0.56644321 0.28750767\n",
            "  0.22002852 0.3934969  0.27054795 0.80870945 0.14100541 0.16874687\n",
            "  0.55829472 0.48220096 0.48002982 0.81780418 0.73326792 0.468157\n",
            "  0.80338401 0.36893022 0.80007781 0.41282205 0.50901651 0.94644063\n",
            "  0.53150625 0.58888063 0.62597649 0.10924454 0.5453386  0.42660121\n",
            "  0.60087766 0.85219323 0.47370558 0.10040186 0.2784644  0.34061519\n",
            "  0.88008147 0.21603306 0.12300709 0.05934562 0.6219433  0.67944879\n",
            "  0.51701314 1.0601913  0.49480455 0.90121682 0.97435665 0.38164425\n",
            "  0.54874345 0.44102958 0.71343072 0.46551551 0.44196641 0.42178021\n",
            "  0.52203542 0.58080284 0.68733603 0.29923285]\n",
            " [0.6443251  0.28847542 0.33085492 0.79746029 0.19347904 0.98581496\n",
            "  0.55023437 0.54923805 0.76723318 0.24156995 0.65923366 0.51389869\n",
            "  0.75790503 0.32900138 0.69687485 0.13906411 1.00013215 0.21973103\n",
            "  0.79852018 0.54536951 0.07518668 0.49500004 1.04693976 0.64317241\n",
            "  0.43195132 0.4188246  0.13713544 0.5964948  0.27865185 0.65549538\n",
            "  0.40280624 0.         0.82495786 0.57440874 0.14631085 0.26889995\n",
            "  0.70208517 0.43678182 0.13373475 0.58715967 0.76382565 0.71182305\n",
            "  0.65290823 0.1076225  0.56745527 0.18490374 0.54578886 0.17392043\n",
            "  0.22856132 0.18827299 0.2628388  0.80471198 0.33897429 0.23416991\n",
            "  0.74444906 0.63967464 0.83916209 0.4668748  0.57918118 0.80297627\n",
            "  0.64251048 0.68039617 0.51373887 0.22126231 0.11271172 0.85193726\n",
            "  0.40456223 0.67407808 0.63586187 0.39415891 0.41050586 0.50846928\n",
            "  0.85131805 0.92830854 0.49301631 0.38600844 0.15662046 0.5012618\n",
            "  0.63090382 0.52190981 0.51480044 0.4616597  0.79770101 0.48712129\n",
            "  0.11470677 1.06839776 0.59918132 0.95429441 0.936628   0.69870099\n",
            "  0.61836096 0.19115875 0.57398697 0.06751054 0.1823599  0.20127312\n",
            "  0.86394151 0.58886545 0.82570146 0.10750473]\n",
            " [0.20867152 0.66179625 0.70058517 0.61767285 0.64387596 0.17432666\n",
            "  0.68690819 0.75849981 0.62624252 0.59437563 0.3073097  0.81260858\n",
            "  0.66949213 0.97215369 0.8214016  0.81069412 0.18351743 0.61350391\n",
            "  0.21121221 0.63400738 0.77329692 0.41856098 0.22332735 0.18992723\n",
            "  0.55604294 0.44020118 0.68814057 0.68174894 0.59807458 0.16946283\n",
            "  0.84117911 0.82495786 0.         0.37671712 0.91576229 0.73372953\n",
            "  0.25216863 0.5480533  0.70476172 0.29549683 0.0613216  0.114748\n",
            "  0.53064755 0.74228395 0.45598591 0.66614384 0.29006155 0.91621757\n",
            "  0.90720396 0.63749561 0.98290051 0.03685896 0.7103857  0.81505505\n",
            "  0.42272212 0.41242615 0.81253679 0.73149518 0.31701165 0.73415734\n",
            "  0.30726537 0.66590132 0.56852781 0.60379746 0.81232541 0.18283172\n",
            "  0.42240608 0.27845974 0.21561999 0.73222043 0.41882803 0.41499499\n",
            "  0.55091195 0.20648141 0.37313949 0.92701127 0.73003733 0.51018526\n",
            "  0.49364679 0.68287891 0.82526979 0.85178398 0.39491707 0.40834673\n",
            "  0.84405576 0.24349367 0.36180364 0.17994188 0.13441502 0.67748137\n",
            "  0.3000353  0.63767715 0.3010658  0.8656265  0.64742108 0.62403006\n",
            "  0.7717265  0.26267734 0.31809734 0.83490694]\n",
            " [0.34057632 0.32955484 0.61290913 0.79189715 0.38225742 0.54812609\n",
            "  0.71779993 0.77297691 0.78306673 0.41264405 0.46674381 0.79693715\n",
            "  0.80973633 0.82626931 0.88964891 0.62036412 0.55386448 0.36007911\n",
            "  0.2467692  0.67256697 0.55099368 0.07946869 0.55806142 0.30111395\n",
            "  0.53289936 0.16662533 0.45668562 0.31278522 0.29854032 0.26328334\n",
            "  0.7662603  0.57440874 0.37671712 0.         0.702844   0.61118417\n",
            "  0.14905799 0.52805182 0.49393528 0.37894273 0.33361574 0.30917543\n",
            "  0.19166743 0.47057771 0.08335696 0.39009118 0.29414247 0.71675593\n",
            "  0.73603896 0.41817758 0.80114388 0.38055471 0.62637024 0.66723892\n",
            "  0.62043241 0.54452166 0.94890773 0.3560972  0.06984469 0.87745109\n",
            "  0.08038963 0.76849509 0.19183082 0.38556118 0.51998556 0.30928365\n",
            "  0.23558553 0.45340832 0.33663723 0.67436353 0.22140866 0.44029543\n",
            "  0.77087734 0.56690618 0.36396176 0.82168616 0.54618435 0.53585828\n",
            "  0.14841134 0.69977789 0.8068468  0.80169081 0.63099516 0.09086462\n",
            "  0.55008032 0.59094255 0.46644487 0.55455794 0.4336184  0.78627889\n",
            "  0.42074253 0.39101366 0.09710398 0.59170433 0.39775795 0.39256008\n",
            "  0.93183494 0.33124252 0.59198588 0.62773714]\n",
            " [0.72110055 0.43366326 0.30685498 0.78478053 0.32219572 1.06695089\n",
            "  0.5156165  0.49552306 0.75143376 0.3221069  0.70960417 0.44413951\n",
            "  0.7329005  0.19482518 0.63594127 0.10986459 1.08283176 0.34277031\n",
            "  0.91445391 0.52497905 0.15220699 0.62362233 1.13908344 0.72774282\n",
            "  0.44629937 0.54054127 0.24663629 0.74278681 0.41505506 0.74815835\n",
            "  0.3195392  0.14631085 0.91576229 0.702844   0.         0.24181035\n",
            "  0.82112897 0.45302133 0.21560436 0.65186413 0.85454538 0.80105126\n",
            "  0.79484644 0.25082265 0.70397354 0.32138669 0.62742289 0.03518917\n",
            "  0.10515092 0.29023697 0.11755737 0.89153841 0.30929754 0.16690339\n",
            "  0.76807832 0.66874389 0.79110795 0.61250679 0.69915573 0.76762145\n",
            "  0.76576194 0.65294247 0.65727772 0.32499079 0.25339535 0.96390702\n",
            "  0.50879658 0.72907711 0.7128096  0.349987   0.5175127  0.55426758\n",
            "  0.85405189 0.99409927 0.55832699 0.27277848 0.18719295 0.51914925\n",
            "  0.77081898 0.4886617  0.4415642  0.37789674 0.82682476 0.61312369\n",
            "  0.24539547 1.15691768 0.64399172 1.02772592 1.03560882 0.66936032\n",
            "  0.67568516 0.31183572 0.69020998 0.18118284 0.30519754 0.31255193\n",
            "  0.82583012 0.6640776  0.86861142 0.08089836]\n",
            " [0.52753252 0.45075801 0.06591551 0.54476108 0.30039107 0.86831225\n",
            "  0.28363964 0.28073775 0.51213798 0.20284671 0.48869151 0.25233639\n",
            "  0.49696853 0.23844225 0.42884119 0.14351681 0.88580366 0.29879156\n",
            "  0.77812344 0.28586227 0.19792217 0.53949984 0.95354165 0.54439661\n",
            "  0.2108183  0.44690401 0.22695974 0.75274934 0.38890786 0.57592123\n",
            "  0.16609924 0.26889995 0.73372953 0.61118417 0.24181035 0.\n",
            "  0.69638111 0.21828096 0.18139339 0.44735726 0.67450047 0.62095639\n",
            "  0.75239443 0.30394727 0.64058292 0.32212855 0.44626839 0.22280992\n",
            "  0.18518215 0.2274644  0.26131088 0.70459945 0.07122251 0.08708603\n",
            "  0.53020913 0.4345232  0.57068215 0.65329113 0.58448734 0.53751933\n",
            "  0.65491997 0.41776262 0.63470995 0.24707726 0.36324663 0.81715574\n",
            "  0.38028038 0.5115545  0.51987677 0.12553512 0.39329926 0.33606033\n",
            "  0.61224278 0.78033494 0.36095292 0.21091339 0.12131655 0.28284496\n",
            "  0.71843619 0.25554788 0.25562264 0.21671661 0.59055724 0.52233423\n",
            "  0.37702747 0.96604417 0.42072999 0.82105553 0.86279518 0.43525424\n",
            "  0.46228697 0.27526661 0.56718795 0.33608652 0.27657617 0.25568832\n",
            "  0.59775484 0.47159371 0.63900814 0.18454252]\n",
            " [0.2951871  0.4753216  0.68531926 0.76943082 0.50869419 0.41429346\n",
            "  0.7492468  0.8124564  0.76735997 0.51124585 0.43215932 0.84841815\n",
            "  0.8014311  0.92480803 0.91162219 0.72965737 0.41744999 0.48281866\n",
            "  0.09927001 0.6993478  0.66924536 0.21796399 0.41215063 0.25151254\n",
            "  0.57669173 0.28326069 0.57533802 0.43293385 0.43471403 0.20143923\n",
            "  0.83872391 0.70208517 0.25216863 0.14905799 0.82112897 0.69638111\n",
            "  0.         0.5703085  0.60668398 0.36308754 0.22492576 0.22225055\n",
            "  0.2785047  0.60262418 0.21522571 0.52153025 0.29541559 0.83100922\n",
            "  0.84139898 0.53111181 0.91108365 0.26614763 0.69792137 0.76310926\n",
            "  0.58207153 0.52761404 0.94540595 0.49904481 0.12290417 0.86965085\n",
            "  0.06867627 0.77384357 0.33129284 0.49659465 0.65865528 0.16047234\n",
            "  0.31953181 0.41118039 0.29494067 0.73787859 0.30825283 0.45718147\n",
            "  0.72904323 0.45566646 0.38583638 0.90621883 0.65119507 0.56056019\n",
            "  0.24223227 0.73594211 0.85960878 0.86600064 0.57765512 0.2192143\n",
            "  0.68953266 0.44648424 0.45372772 0.43176925 0.28742107 0.78974082\n",
            "  0.395985   0.51260814 0.13168801 0.72639452 0.52064864 0.50879704\n",
            "  0.91842562 0.31180594 0.52140795 0.74278194]\n",
            " [0.33981459 0.4994149  0.16503546 0.3680423  0.36467203 0.6656406\n",
            "  0.19152749 0.24532104 0.34152759 0.23414594 0.27531914 0.27849092\n",
            "  0.34369951 0.44345259 0.36668015 0.34552964 0.68410177 0.34444994\n",
            "  0.63492154 0.15251353 0.36228532 0.47451836 0.75973575 0.367006\n",
            "  0.00820339 0.39015318 0.33212823 0.75208086 0.41634559 0.40857462\n",
            "  0.2934347  0.43678182 0.5480533  0.52805182 0.45302133 0.21828096\n",
            "  0.5703085  0.         0.30849192 0.25260362 0.49303904 0.4421135\n",
            "  0.70324368 0.42184261 0.58256246 0.39566355 0.28184065 0.43833143\n",
            "  0.40321569 0.2969403  0.47882139 0.51533283 0.17135999 0.30515171\n",
            "  0.31521309 0.21656792 0.45814826 0.68970445 0.48026984 0.40155462\n",
            "  0.54694455 0.27668447 0.61674257 0.28911024 0.49857321 0.66183173\n",
            "  0.30084494 0.30038453 0.33339159 0.18427091 0.31524004 0.13318332\n",
            "  0.41460981 0.5682413  0.18763237 0.38309788 0.28432303 0.0662976\n",
            "  0.66288049 0.17186674 0.2899999  0.30558263 0.3739029  0.45319244\n",
            "  0.52213569 0.76791784 0.20693384 0.61318474 0.68160674 0.29626846\n",
            "  0.25650882 0.33915911 0.45602863 0.50166827 0.34654344 0.31245378\n",
            "  0.46300798 0.28958577 0.42081037 0.38358594]\n",
            " [0.5168241  0.27493332 0.23027979 0.67414444 0.12984092 0.86101392\n",
            "  0.44225954 0.4539629  0.6454553  0.11166034 0.52584389 0.43289431\n",
            "  0.64031616 0.33936391 0.60202552 0.12688645 0.87605945 0.13964068\n",
            "  0.6992031  0.42959718 0.06882236 0.41574772 0.92790288 0.51908868\n",
            "  0.30439638 0.32880354 0.04790336 0.58443202 0.22579982 0.53598944\n",
            "  0.34260703 0.13373475 0.70476172 0.49393528 0.21560436 0.18139339\n",
            "  0.60668398 0.30849192 0.         0.45574813 0.64344018 0.59044012\n",
            "  0.60605386 0.12496883 0.50458415 0.14526965 0.41986507 0.22442139\n",
            "  0.2438497  0.07602125 0.30722205 0.68227029 0.24150144 0.19301735\n",
            "  0.61186659 0.5067165  0.7329625  0.47599324 0.48539973 0.69000534\n",
            "  0.55310151 0.56519768 0.47705226 0.11011919 0.19403431 0.74830903\n",
            "  0.29323583 0.54120561 0.50839324 0.30154292 0.30191846 0.37473457\n",
            "  0.72258234 0.79807342 0.36130538 0.35991882 0.06518259 0.37137728\n",
            "  0.57704369 0.41413727 0.43670794 0.39663963 0.66440179 0.40325644\n",
            "  0.21489455 0.94733573 0.46545903 0.82641625 0.82191935 0.5841513\n",
            "  0.48567686 0.1097929  0.47537837 0.19476534 0.10705314 0.10171796\n",
            "  0.75169132 0.46054229 0.6920341  0.13615417]\n",
            " [0.0882156  0.51497726 0.40838431 0.41427767 0.43675369 0.42101773\n",
            "  0.40194831 0.47107981 0.40812605 0.34559134 0.09521257 0.52034825\n",
            "  0.43952568 0.68424433 0.5538124  0.54274376 0.43844642 0.40652766\n",
            "  0.40588944 0.34958351 0.52353915 0.36059988 0.5088777  0.1223139\n",
            "  0.26062183 0.31461131 0.45324943 0.67025467 0.43193985 0.17090753\n",
            "  0.54591474 0.58715967 0.29549683 0.37894273 0.65186413 0.44735726\n",
            "  0.36308754 0.25260362 0.45574813 0.         0.24157091 0.19265476\n",
            "  0.57056648 0.52748221 0.45525139 0.46596747 0.08699886 0.64654209\n",
            "  0.62770406 0.40291481 0.7043676  0.2628072  0.41741489 0.53200341\n",
            "  0.24406489 0.16741097 0.58282326 0.65812764 0.31310524 0.50782132\n",
            "  0.36371216 0.41119242 0.53213531 0.3748759  0.60581245 0.42197141\n",
            "  0.24095206 0.09537973 0.08274751 0.43684227 0.24803527 0.11949816\n",
            "  0.39392316 0.34299114 0.09450415 0.63330468 0.46515091 0.21756394\n",
            "  0.52731599 0.39416975 0.53278241 0.55659746 0.2658959  0.33960821\n",
            "  0.63586758 0.51937351 0.09096415 0.37650892 0.42930895 0.42680278\n",
            "  0.04469068 0.42098793 0.28472887 0.64011966 0.43102808 0.39965256\n",
            "  0.55871039 0.05135275 0.2564012  0.57286711]\n",
            " [0.15346508 0.60576049 0.64288883 0.59033477 0.58352108 0.22979746\n",
            "  0.63907313 0.70979387 0.59576158 0.53307945 0.26619136 0.76144177\n",
            "  0.63680798 0.91293651 0.77984978 0.74966357 0.2410015  0.55304791\n",
            "  0.20923121 0.58621784 0.71197706 0.36809959 0.2845932  0.13010581\n",
            "  0.50092227 0.38320066 0.62695356 0.64383358 0.53992713 0.10842888\n",
            "  0.78538179 0.76382565 0.0613216  0.33361574 0.85454538 0.67450047\n",
            "  0.22492576 0.49303904 0.64344018 0.24157091 0.         0.053848\n",
            "  0.49951834 0.68185558 0.41530369 0.60621383 0.22957273 0.85519143\n",
            "  0.84684656 0.5762642  0.92239534 0.04786244 0.65298829 0.75519796\n",
            "  0.39537482 0.37178665 0.78113109 0.68462599 0.26975352 0.70296227\n",
            "  0.27078124 0.62710365 0.52477134 0.542625   0.75249514 0.19939041\n",
            "  0.36182505 0.23843743 0.15965838 0.67675576 0.35863188 0.36059053\n",
            "  0.53211863 0.23434466 0.31470033 0.86973699 0.66895777 0.45850378\n",
            "  0.46036614 0.63346347 0.77396118 0.79793517 0.37603048 0.35622925\n",
            "  0.78420328 0.30457262 0.31454713 0.22260361 0.18922845 0.63981272\n",
            "  0.25155938 0.57691432 0.25086937 0.80494499 0.58669429 0.56299637\n",
            "  0.74401292 0.20495372 0.30764149 0.7736798 ]\n",
            " [0.10477851 0.56246722 0.59009571 0.56226996 0.5334293  0.27711174\n",
            "  0.59335404 0.66324248 0.56490916 0.47982668 0.22960626 0.71294663\n",
            "  0.60381075 0.85937309 0.73887334 0.69595834 0.28983584 0.5027795\n",
            "  0.23028604 0.54067519 0.65906327 0.3337667  0.33803642 0.07668886\n",
            "  0.44990766 0.33936675 0.57480508 0.62189587 0.49369755 0.05895698\n",
            "  0.73365758 0.71182305 0.114748   0.30917543 0.80105126 0.62095639\n",
            "  0.22225055 0.4421135  0.59044012 0.19265476 0.053848   0.\n",
            "  0.48586956 0.63154061 0.39235061 0.55690813 0.17573173 0.80148369\n",
            "  0.79300292 0.52395917 0.86854757 0.09339147 0.60035984 0.70144116\n",
            "  0.36933031 0.33379897 0.74862602 0.65255205 0.24154891 0.67093741\n",
            "  0.25588055 0.58890863 0.49716788 0.49056089 0.70323975 0.23393368\n",
            "  0.31157204 0.20379319 0.10991603 0.6253129  0.30924996 0.31046864\n",
            "  0.51208553 0.26100499 0.26172835 0.8171041  0.61529095 0.41021868\n",
            "  0.44493713 0.58650714 0.72534698 0.7474894  0.3580964  0.31979079\n",
            "  0.73488799 0.3569829  0.27109548 0.2606483  0.2421146  0.60252423\n",
            "  0.20787912 0.52595534 0.21911922 0.75404885 0.53581109 0.51135863\n",
            "  0.71480365 0.15285741 0.29915752 0.72020657]\n",
            " [0.52990538 0.36805719 0.76590182 0.98298606 0.47884039 0.69013726\n",
            "  0.89469636 0.94506077 0.97341572 0.54961696 0.65815514 0.96142752\n",
            "  0.99879163 0.94537206 1.06896537 0.7310526  0.69166711 0.46655618\n",
            "  0.34662584 0.85212716 0.6502442  0.22880222 0.67251275 0.48900766\n",
            "  0.70720092 0.31579561 0.56154399 0.16729279 0.38244382 0.44718286\n",
            "  0.91518144 0.65290823 0.53064755 0.19166743 0.79484644 0.75239443\n",
            "  0.2785047  0.70324368 0.60605386 0.57056648 0.49951834 0.48586956\n",
            "  0.         0.54542293 0.12100884 0.47423104 0.48539645 0.81548725\n",
            "  0.8482298  0.53562778 0.90430575 0.54309169 0.77967097 0.79449068\n",
            "  0.81193987 0.73572894 1.1363835  0.28001702 0.25948305 1.06615491\n",
            "  0.23012547 0.95455805 0.14216019 0.50872328 0.57069084 0.40783808\n",
            "  0.4026156  0.64414283 0.52647331 0.8327504  0.38814472 0.62681815\n",
            "  0.96237555 0.73286498 0.55078368 0.95758978 0.66670648 0.71830735\n",
            "  0.04325618 0.87465656 0.97032219 0.95675548 0.82107152 0.25036901\n",
            "  0.59581322 0.70984517 0.65761785 0.71025774 0.55058148 0.97274597\n",
            "  0.61239813 0.4963197  0.28766782 0.65074182 0.4999254  0.5070626\n",
            "  1.12142829 0.52286406 0.77814737 0.72872877]\n",
            " [0.57415211 0.18316812 0.35518727 0.78983375 0.09848016 0.90818044\n",
            "  0.56627354 0.5789104  0.76258095 0.19473288 0.6083284  0.55625125\n",
            "  0.76023789 0.42092467 0.72699407 0.21057135 0.92135459 0.12880949\n",
            "  0.70031673 0.55135325 0.1224326  0.39150044 0.96176533 0.5673249\n",
            "  0.41880553 0.32045317 0.08990746 0.49467174 0.17270373 0.57363724\n",
            "  0.4596899  0.1076225  0.74228395 0.47057771 0.25082265 0.30394727\n",
            "  0.60262418 0.42184261 0.12496883 0.52748221 0.68185558 0.63154061\n",
            "  0.54542293 0.         0.46042778 0.08110786 0.4744205  0.27472633\n",
            "  0.31962601 0.13009965 0.36449575 0.7249316  0.36625154 0.29850632\n",
            "  0.7112755  0.60529481 0.85675189 0.37162773 0.48001377 0.81191194\n",
            "  0.54104146 0.68657233 0.40674593 0.15311418 0.07964993 0.75574062\n",
            "  0.32007049 0.61934898 0.56574453 0.42607019 0.32354563 0.46638967\n",
            "  0.83127571 0.86165559 0.43629762 0.46263273 0.18307661 0.48105636\n",
            "  0.52329047 0.53827364 0.55951564 0.51582572 0.75933903 0.38514934\n",
            "  0.10851239 0.98540028 0.5542475  0.88211623 0.84780563 0.70573457\n",
            "  0.56335736 0.10738179 0.4771988  0.12487132 0.09727613 0.12791109\n",
            "  0.87373039 0.52117684 0.7767622  0.19413315]\n",
            " [0.4220908  0.29800309 0.65028575 0.86534737 0.38237659 0.62525251\n",
            "  0.77394122 0.8250109  0.85479237 0.43802781 0.54532367 0.84301216\n",
            "  0.87918209 0.84295806 0.94804701 0.63121826 0.62990139 0.36555417\n",
            "  0.30562987 0.73115977 0.55486674 0.108061   0.62723966 0.38345899\n",
            "  0.58662636 0.19741232 0.4626976  0.22954614 0.28933092 0.34654319\n",
            "  0.80124762 0.56745527 0.45598591 0.08335696 0.70397354 0.64058292\n",
            "  0.21522571 0.58256246 0.50458415 0.45525139 0.41530369 0.39235061\n",
            "  0.12100884 0.46042778 0.         0.38342814 0.36899005 0.7215693\n",
            "  0.74840261 0.43117201 0.80879337 0.46177723 0.66400242 0.68810154\n",
            "  0.69843146 0.61858173 1.01605406 0.28416195 0.15278401 0.94633004\n",
            "  0.15023428 0.83393249 0.11612366 0.4016861  0.49867122 0.36962886\n",
            "  0.28228212 0.53334369 0.41779425 0.71573754 0.26777032 0.50652089\n",
            "  0.84875896 0.64917868 0.43069392 0.848416   0.56227152 0.59734005\n",
            "  0.08050729 0.75412979 0.85217189 0.84094944 0.71141625 0.1294426\n",
            "  0.52686508 0.66170914 0.54053127 0.63494223 0.50253627 0.85220076\n",
            "  0.49810684 0.39634092 0.1791155  0.57526633 0.40136486 0.40341171\n",
            "  1.00209246 0.40923639 0.67447687 0.63320631]\n",
            " [0.50546979 0.12970355 0.36205524 0.76110027 0.03162803 0.83399483\n",
            "  0.55885904 0.58154126 0.73633393 0.16166844 0.55157816 0.56912452\n",
            "  0.73914556 0.47650819 0.72730237 0.26122732 0.84660108 0.05963195\n",
            "  0.61929915 0.53674245 0.17679191 0.31084733 0.88418928 0.49540471\n",
            "  0.39411486 0.23964014 0.09737591 0.44013748 0.09410548 0.49848013\n",
            "  0.48631386 0.18490374 0.66614384 0.39009118 0.32138669 0.32212855\n",
            "  0.52153025 0.39566355 0.14526965 0.46596747 0.60621383 0.55690813\n",
            "  0.47423104 0.08110786 0.38342814 0.         0.40605168 0.34125662\n",
            "  0.3769418  0.10295681 0.43017711 0.65019911 0.37465923 0.33758974\n",
            "  0.66535406 0.55997942 0.84592004 0.33149033 0.39895913 0.79508454\n",
            "  0.45999543 0.6693887  0.33921317 0.10706197 0.14633461 0.67498761\n",
            "  0.24577746 0.5599369  0.49716907 0.43505749 0.24769931 0.41840333\n",
            "  0.79324914 0.79334582 0.37849709 0.50459122 0.2104478  0.44882614\n",
            "  0.44944796 0.53181209 0.57413697 0.53880935 0.70937017 0.30412356\n",
            "  0.17800851 0.90867518 0.50237163 0.8107376  0.76900455 0.68889058\n",
            "  0.50445457 0.05655925 0.39650471 0.20532467 0.05012239 0.08323075\n",
            "  0.8568811  0.45455231 0.71966259 0.25492214]\n",
            " [0.09973601 0.44037746 0.41877962 0.4977558  0.37901789 0.44114922\n",
            "  0.4543728  0.51908092 0.48943304 0.30831777 0.18084624 0.55969704\n",
            "  0.51786534 0.6844878  0.61646601 0.52126401 0.45630274 0.34810235\n",
            "  0.3533687  0.4040657  0.48868684 0.27360864 0.51277722 0.10049385\n",
            "  0.28897009 0.23134683 0.40893231 0.58329626 0.36038636 0.13038971\n",
            "  0.56644321 0.54578886 0.29006155 0.29414247 0.62742289 0.44626839\n",
            "  0.29541559 0.28184065 0.41986507 0.08699886 0.22957273 0.17573173\n",
            "  0.48539645 0.4744205  0.36899005 0.40605168 0.         0.62672397\n",
            "  0.61727434 0.35770039 0.6928666  0.26424114 0.42975408 0.52591591\n",
            "  0.33105938 0.2503839  0.65923347 0.57419505 0.23029611 0.58597015\n",
            "  0.28607976 0.48252978 0.44532236 0.32607785 0.55030152 0.38075797\n",
            "  0.16668155 0.17548795 0.09134223 0.45995285 0.17094586 0.16184664\n",
            "  0.48081622 0.38752022 0.09422732 0.64587584 0.4408862  0.2655405\n",
            "  0.44219798 0.4421359  0.57145231 0.58562436 0.35125663 0.25266481\n",
            "  0.58132367 0.52954949 0.17230273 0.40886343 0.41672187 0.49932397\n",
            "  0.13119051 0.36707563 0.20220559 0.59302406 0.37716983 0.34899516\n",
            "  0.63897198 0.05094577 0.33332825 0.54677032]\n",
            " [0.71848307 0.45787302 0.28627179 0.76165003 0.33920254 1.06422133\n",
            "  0.48990281 0.46667137 0.72785254 0.32568335 0.70035624 0.41313552\n",
            "  0.70772412 0.16048518 0.60535677 0.1055281  1.08049953 0.35755762\n",
            "  0.92294403 0.50184709 0.16674792 0.63792779 1.13934892 0.72721553\n",
            "  0.43128792 0.55269866 0.26028456 0.76880372 0.4339281  0.74982746\n",
            "  0.28750767 0.17392043 0.91621757 0.71675593 0.03518917 0.22280992\n",
            "  0.83100922 0.43833143 0.22442139 0.64654209 0.85519143 0.80148369\n",
            "  0.81548725 0.27472633 0.7215693  0.34125662 0.62672397 0.\n",
            "  0.07042448 0.30031344 0.08976973 0.8909303  0.28742405 0.14225203\n",
            "  0.75237924 0.65480717 0.76196119 0.6407509  0.70982068 0.74054796\n",
            "  0.77739574 0.62767928 0.67938374 0.33453415 0.28387188 0.97088411\n",
            "  0.51556435 0.72083984 0.71028575 0.32432493 0.52503621 0.54513434\n",
            "  0.83364167 0.98747336 0.55394415 0.23779666 0.18635263 0.50399579\n",
            "  0.79016215 0.46341643 0.41007815 0.34535741 0.81206796 0.62643991\n",
            "  0.27771753 1.15608126 0.6338526  1.02300313 1.0381813  0.64368558\n",
            "  0.66834943 0.32650187 0.69958618 0.21422428 0.32066376 0.3244896\n",
            "  0.79814054 0.66139577 0.85682003 0.089019  ]\n",
            " [0.70445924 0.50039512 0.2423064  0.7079018  0.3694288  1.04833647\n",
            "  0.43258522 0.4037986  0.67339421 0.33023999 0.67334965 0.34683092\n",
            "  0.6504735  0.10138817 0.53928783 0.11730758 1.06534758 0.3830546\n",
            "  0.93007326 0.44931942 0.20069879 0.65858256 1.12916875 0.71729208\n",
            "  0.39563456 0.56981223 0.2867596  0.81330163 0.46601039 0.74413716\n",
            "  0.22002852 0.22856132 0.90720396 0.73603896 0.10515092 0.18518215\n",
            "  0.84139898 0.40321569 0.2438497  0.62770406 0.84684656 0.79300292\n",
            "  0.8482298  0.31962601 0.74840261 0.3769418  0.61727434 0.07042448\n",
            "  0.         0.3184337  0.07672927 0.87991374 0.24063844 0.09810978\n",
            "  0.71254525 0.61893661 0.6979034  0.69065883 0.72253404 0.67992808\n",
            "  0.79165282 0.57053344 0.7158703  0.35048293 0.34113223 0.97474651\n",
            "  0.52233189 0.69568412 0.69650673 0.26873882 0.53318905 0.51971931\n",
            "  0.78463893 0.96420051 0.53790742 0.1677109  0.19060979 0.46706857\n",
            "  0.82028115 0.40715311 0.34301897 0.27688447 0.77376727 0.64517898\n",
            "  0.33885082 1.14366744 0.605586   1.00333249 1.03292196 0.58574819\n",
            "  0.6453438  0.35257013 0.7097602  0.27754255 0.34842842 0.34537585\n",
            "  0.73638739 0.64768273 0.82402574 0.12558655]\n",
            " [0.45656042 0.22585489 0.26146457 0.66445558 0.07557051 0.79754775\n",
            "  0.4559777  0.47905898 0.63845749 0.06490921 0.48049492 0.46905483\n",
            "  0.63921208 0.41178906 0.6244641  0.20220619 0.81191198 0.07168447\n",
            "  0.62422972 0.43473725 0.13932355 0.34026793 0.86000112 0.45490426\n",
            "  0.29473592 0.25280489 0.0512321  0.52548953 0.16183676 0.46811005\n",
            "  0.3934969  0.18827299 0.63749561 0.41817758 0.29023697 0.2274644\n",
            "  0.53111181 0.2969403  0.07602125 0.40291481 0.5762642  0.52395917\n",
            "  0.53562778 0.13009965 0.43117201 0.10295681 0.35770039 0.30031344\n",
            "  0.3184337  0.         0.38311573 0.61667435 0.27444021 0.25894512\n",
            "  0.58118126 0.475201   0.74356869 0.42822883 0.4095692  0.69392077\n",
            "  0.4771137  0.5681778  0.41083438 0.03488689 0.20966305 0.67421109\n",
            "  0.22035647 0.49284788 0.44809587 0.33449801 0.22811442 0.33649139\n",
            "  0.7024038  0.74181898 0.3099785  0.42355008 0.13129767 0.35353181\n",
            "  0.50511136 0.42887838 0.47464821 0.4432978  0.62942513 0.3274246\n",
            "  0.2374113  0.88078644 0.42489339 0.7664369  0.75161494 0.58761654\n",
            "  0.43681274 0.04901406 0.40001165 0.23727497 0.0530151  0.02887108\n",
            "  0.75577727 0.40156304 0.64867805 0.21174079]\n",
            " [0.78077588 0.54763829 0.31634762 0.77339079 0.42680439 1.12490982\n",
            "  0.49608894 0.46033398 0.73836611 0.40119021 0.74983159 0.39730921\n",
            "  0.71275711 0.09462311 0.58813787 0.18157103 1.14186868 0.44369113\n",
            "  1.00118836 0.51697578 0.25434008 0.72280432 1.20512614 0.79304447\n",
            "  0.47114781 0.63587651 0.34629272 0.858474   0.52225428 0.81907745\n",
            "  0.27054795 0.2628388  0.98290051 0.80114388 0.11755737 0.26131088\n",
            "  0.91108365 0.47882139 0.30722205 0.7043676  0.92239534 0.86854757\n",
            "  0.90430575 0.36449575 0.80879337 0.43017711 0.6928666  0.08976973\n",
            "  0.07672927 0.38311573 0.         0.95591936 0.31359639 0.17428625\n",
            "  0.78617416 0.69394035 0.7501758  0.72963152 0.79103805 0.73792415\n",
            "  0.85948322 0.63330228 0.76877035 0.41648545 0.37095166 1.04710663\n",
            "  0.59309137 0.77229943 0.77279202 0.33583388 0.60341194 0.59637853\n",
            "  0.85353556 1.04086839 0.61433671 0.19418885 0.26033959 0.54208996\n",
            "  0.87836847 0.47193602 0.39157216 0.3222575  0.84784427 0.71047838\n",
            "  0.36229786 1.21992993 0.68197916 1.08005711 1.10792574 0.64756833\n",
            "  0.72205842 0.41271689 0.77940594 0.2975969  0.40743519 0.40866337\n",
            "  0.7924811  0.72393429 0.89954391 0.17579095]\n",
            " [0.17749026 0.65268329 0.66973383 0.58137132 0.62681574 0.18403217\n",
            "  0.65123299 0.72301077 0.58963188 0.57123285 0.27083585 0.7778584\n",
            "  0.63274148 0.94285656 0.78472175 0.78549096 0.19645334 0.59617064\n",
            "  0.23705726 0.59834997 0.75100279 0.41596135 0.24927796 0.16380472\n",
            "  0.52337756 0.42985861 0.66762579 0.68974749 0.58577352 0.15178326\n",
            "  0.80870945 0.80471198 0.03685896 0.38055471 0.89153841 0.70459945\n",
            "  0.26614763 0.51533283 0.68227029 0.2628072  0.04786244 0.09339147\n",
            "  0.54309169 0.7249316  0.46177723 0.65019911 0.26424114 0.8909303\n",
            "  0.87991374 0.61667435 0.95591936 0.         0.67924986 0.78683737\n",
            "  0.38630207 0.37579293 0.77589249 0.73232788 0.31734262 0.69751567\n",
            "  0.31576921 0.62908239 0.57198708 0.58347106 0.79653372 0.21493564\n",
            "  0.40495565 0.24191604 0.18489535 0.69960054 0.40250796 0.3821525\n",
            "  0.51594423 0.1897789  0.34364665 0.89562752 0.70512331 0.47586272\n",
            "  0.50466361 0.64762551 0.79056541 0.81816609 0.35972858 0.4040477\n",
            "  0.82819505 0.26538673 0.3263194  0.17482521 0.16964571 0.64063166\n",
            "  0.26506039 0.61929145 0.29870796 0.84737886 0.62915892 0.60449432\n",
            "  0.73543328 0.23301114 0.28465064 0.81081035]\n",
            " [0.5019195  0.50029486 0.01378719 0.47556665 0.34976459 0.83527111\n",
            "  0.21243484 0.21315836 0.44247152 0.23560498 0.44667706 0.1946404\n",
            "  0.42616423 0.27218098 0.3615268  0.21447564 0.85345146 0.34305881\n",
            "  0.77383362 0.21594929 0.26664156 0.55924418 0.92629252 0.52381573\n",
            "  0.1632438  0.46708037 0.28376603 0.79359006 0.43152523 0.56007353\n",
            "  0.14100541 0.33897429 0.7103857  0.62637024 0.30929754 0.07122251\n",
            "  0.69792137 0.17135999 0.24150144 0.41741489 0.65298829 0.60035984\n",
            "  0.77967097 0.36625154 0.66400242 0.37465923 0.42975408 0.28742405\n",
            "  0.24063844 0.27444021 0.31359639 0.67924986 0.         0.14581436\n",
            "  0.47258053 0.38190429 0.50019211 0.70256795 0.59234954 0.46629831\n",
            "  0.66242312 0.34678085 0.66968864 0.2873355  0.42974876 0.80818331\n",
            "  0.39115685 0.4715617  0.49479824 0.06048534 0.40511974 0.30034397\n",
            "  0.54632409 0.73960087 0.3387681  0.21675332 0.18710907 0.23077043\n",
            "  0.74347579 0.18432671 0.20029238 0.17708617 0.5343772  0.54046218\n",
            "  0.44515195 0.93615326 0.37828604 0.78408895 0.84220926 0.36415696\n",
            "  0.4261391  0.3234345  0.57242638 0.40635692 0.32644767 0.30081529\n",
            "  0.52657115 0.44807169 0.5885547  0.2555175 ]\n",
            " [0.61045119 0.46674551 0.14589239 0.61940456 0.3226591  0.95298345\n",
            "  0.34872939 0.33065326 0.58565693 0.254847   0.57556717 0.28496604\n",
            "  0.56617228 0.16185462 0.47411744 0.09510651 0.97024303 0.32925371\n",
            "  0.84857424 0.35959506 0.17761891 0.59213596 1.03606988 0.62522389\n",
            "  0.29760208 0.50078234 0.24067442 0.77738753 0.41779891 0.65435081\n",
            "  0.16874687 0.23416991 0.81505505 0.66723892 0.16690339 0.08708603\n",
            "  0.76310926 0.30515171 0.19301735 0.53200341 0.75519796 0.70144116\n",
            "  0.79449068 0.29850632 0.68810154 0.33758974 0.52591591 0.14225203\n",
            "  0.09810978 0.25894512 0.17428625 0.78683737 0.14581436 0.\n",
            "  0.61554339 0.52107213 0.62610236 0.66582799 0.6472221  0.6008733\n",
            "  0.71726867 0.48617409 0.66873711 0.28651549 0.34181786 0.89052839\n",
            "  0.44384696 0.59817767 0.60263202 0.18308436 0.45580244 0.42240084\n",
            "  0.69207825 0.86685927 0.44365607 0.16700476 0.12884642 0.36924308\n",
            "  0.76336887 0.32186461 0.28432398 0.22782492 0.6764126  0.57680349\n",
            "  0.3485923  1.04956156 0.50769327 0.90682052 0.94253205 0.50249518\n",
            "  0.54835864 0.30110563 0.63219886 0.29688896 0.29947932 0.28765618\n",
            "  0.6593619  0.55400551 0.72595268 0.13107837]\n",
            " [0.28805984 0.73792213 0.47024216 0.19525346 0.63399158 0.46015902\n",
            "  0.33836707 0.40870859 0.20431253 0.51665793 0.15389085 0.47917403\n",
            "  0.24981201 0.73767194 0.42369367 0.6607205  0.48031434 0.60676178\n",
            "  0.59926827 0.29353292 0.67172947 0.60462555 0.57574315 0.33160885\n",
            "  0.32180048 0.55394517 0.62555121 0.91417546 0.65202052 0.38076552\n",
            "  0.55829472 0.74444906 0.42272212 0.62043241 0.76807832 0.53020913\n",
            "  0.58207153 0.31521309 0.61186659 0.24406489 0.39537482 0.36933031\n",
            "  0.81193987 0.7112755  0.69843146 0.66535406 0.33105938 0.75237924\n",
            "  0.71254525 0.58118126 0.78617416 0.38630207 0.47258053 0.61554339\n",
            "  0.         0.10598074 0.39059507 0.89618943 0.55275038 0.31230178\n",
            "  0.59617316 0.26378016 0.77577266 0.56181981 0.79076265 0.59470012\n",
            "  0.4724337  0.17121089 0.2896159  0.45938888 0.48206243 0.24696243\n",
            "  0.15044501 0.33010509 0.29899764 0.65815172 0.5969645  0.24896878\n",
            "  0.76871585 0.34880111 0.49199734 0.54270823 0.0637003  0.58354494\n",
            "  0.81772094 0.56882925 0.16956721 0.39159152 0.54530072 0.27037134\n",
            "  0.20041504 0.61274757 0.52442805 0.80654611 0.62200481 0.58752311\n",
            "  0.3492645  0.28932153 0.14162413 0.69850156]\n",
            " [0.2358519  0.63582891 0.37787284 0.24740714 0.52854675 0.48890514\n",
            "  0.28462593 0.35759689 0.24079809 0.41068405 0.10566058 0.42104372\n",
            "  0.2739102  0.65211275 0.4090112  0.56028991 0.50867917 0.501637\n",
            "  0.56093066 0.23329792 0.56749503 0.5194743  0.59655209 0.2782749\n",
            "  0.22381012 0.46079392 0.51967116 0.82680074 0.54964545 0.32911898\n",
            "  0.48220096 0.63967464 0.41242615 0.54452166 0.66874389 0.4345232\n",
            "  0.52761404 0.21656792 0.5067165  0.16741097 0.37178665 0.33379897\n",
            "  0.73572894 0.60529481 0.61858173 0.55997942 0.2503839  0.65480717\n",
            "  0.61893661 0.475201   0.69394035 0.37579293 0.38190429 0.52107213\n",
            "  0.10598074 0.         0.41830447 0.79998823 0.47985624 0.34207089\n",
            "  0.53105174 0.25544191 0.68755365 0.45602622 0.68478403 0.56747694\n",
            "  0.37561307 0.13407974 0.23444038 0.37741509 0.38631885 0.1420169\n",
            "  0.2409469  0.37318902 0.20077382 0.57989907 0.4940518  0.15187551\n",
            "  0.6925495  0.28724056 0.43406952 0.47546555 0.15882427 0.4977952\n",
            "  0.71178371 0.59665306 0.07811349 0.42703789 0.54415032 0.26873758\n",
            "  0.13169454 0.50704233 0.45154636 0.7012463  0.5162464  0.48171018\n",
            "  0.39159119 0.21815741 0.20699152 0.5971898 ]\n",
            " [0.65387673 0.95642661 0.5085428  0.19996881 0.81616312 0.84121559\n",
            "  0.29074492 0.29561509 0.1863646  0.68553089 0.51934485 0.35288012\n",
            "  0.14485604 0.66709742 0.16489719 0.71091558 0.86114018 0.79904815\n",
            "  0.97789396 0.30949115 0.76634719 0.91062021 0.95944595 0.69654647\n",
            "  0.45762509 0.83566545 0.76850271 1.20424917 0.87426111 0.74739963\n",
            "  0.48002982 0.83916209 0.81253679 0.94890773 0.79110795 0.57068215\n",
            "  0.94540595 0.45814826 0.7329625  0.58282326 0.78113109 0.74862602\n",
            "  1.1363835  0.85675189 1.01605406 0.84592004 0.65923347 0.76196119\n",
            "  0.6979034  0.74356869 0.7501758  0.77589249 0.50019211 0.62610236\n",
            "  0.39059507 0.41830447 0.         1.14779099 0.88866122 0.07837999\n",
            "  0.94486738 0.18380375 1.06642244 0.74207324 0.92612306 0.98002596\n",
            "  0.74475006 0.54487879 0.65269637 0.44690627 0.75825803 0.50957057\n",
            "  0.29543176 0.70560739 0.58564081 0.56355657 0.68558648 0.42372312\n",
            "  1.09393099 0.31896262 0.3588394  0.42877368 0.4301902  0.88858728\n",
            "  0.94369552 0.94816391 0.49189902 0.77014225 0.93581131 0.16476223\n",
            "  0.54992297 0.78969915 0.86092515 0.90654661 0.79584201 0.76342689\n",
            "  0.06612025 0.63416802 0.51772832 0.75146361]\n",
            " [0.65421717 0.20263077 0.68947252 1.03256394 0.35338421 0.90395176\n",
            "  0.87087352 0.90278365 1.0138669  0.47288999 0.75333981 0.89707092\n",
            "  1.02650769 0.79204646 1.04452712 0.5817297  0.90993702 0.36023051\n",
            "  0.5892571  0.84055393 0.49354459 0.31900557 0.91119522 0.62374521\n",
            "  0.69052218 0.34351835 0.42836732 0.14622399 0.27573173 0.59884041\n",
            "  0.81780418 0.4668748  0.73149518 0.3560972  0.61250679 0.65329113\n",
            "  0.49904481 0.68970445 0.47599324 0.65812764 0.68462599 0.65255205\n",
            "  0.28001702 0.37162773 0.28416195 0.33149033 0.57419505 0.6407509\n",
            "  0.69065883 0.42822883 0.72963152 0.73232788 0.70256795 0.66582799\n",
            "  0.89618943 0.79998823 1.14779099 0.         0.41508994 1.08849278\n",
            "  0.4324654  0.96533546 0.16816627 0.41738742 0.36121333 0.65327275\n",
            "  0.42443461 0.74968216 0.64785806 0.76240592 0.41423021 0.66443728\n",
            "  1.04077967 0.91355488 0.59924212 0.83209148 0.54102867 0.72856491\n",
            "  0.28786855 0.84552758 0.90283784 0.87000169 0.92396656 0.33464302\n",
            "  0.37703348 0.9452805  0.72709654 0.90714238 0.78646588 0.98484203\n",
            "  0.70273169 0.3793338  0.43425716 0.44073839 0.37706001 0.40185455\n",
            "  1.14896782 0.62343198 0.90559051 0.56508873]\n",
            " [0.2710605  0.36015357 0.5792596  0.72717794 0.38579555 0.49057514\n",
            "  0.66716544 0.72550545 0.71963632 0.39331409 0.39888358 0.75434953\n",
            "  0.74798682 0.80834184 0.8364561  0.60946961 0.49779928 0.35997037\n",
            "  0.22040111 0.62011161 0.54709609 0.10430701 0.5108081  0.23130463\n",
            "  0.48576162 0.16035706 0.45298341 0.38155904 0.31349792 0.19384812\n",
            "  0.73326792 0.57918118 0.31701165 0.06984469 0.69915573 0.58448734\n",
            "  0.12290417 0.48026984 0.48539973 0.31310524 0.26975352 0.24154891\n",
            "  0.25948305 0.48001377 0.15278401 0.39895913 0.23029611 0.70982068\n",
            "  0.72253404 0.4095692  0.79103805 0.31734262 0.59234954 0.6472221\n",
            "  0.55275038 0.47985624 0.88866122 0.41508994 0.         0.8160064\n",
            "  0.07043776 0.7099964  0.2558827  0.37529783 0.5374811  0.27773753\n",
            "  0.20427356 0.384673   0.2673122  0.63663947 0.19165105 0.38291459\n",
            "  0.70314023 0.50111871 0.30703792 0.79530257 0.53196312 0.48183904\n",
            "  0.21637972 0.65075543 0.76483594 0.76483293 0.56186206 0.0999209\n",
            "  0.56859656 0.54148352 0.40204115 0.49211134 0.38808237 0.72734219\n",
            "  0.35388665 0.38985818 0.02840019 0.60404594 0.39782593 0.38662988\n",
            "  0.86926682 0.26423221 0.52214252 0.62130486]\n",
            " [0.57709277 0.90087613 0.47298219 0.12396872 0.76461877 0.76464047\n",
            "  0.25393273 0.27760624 0.1080133  0.63358245 0.44193759 0.34475683\n",
            "  0.06829564 0.66036197 0.17944284 0.68033517 0.78462424 0.74562971\n",
            "  0.90048397 0.26057309 0.7287924  0.84191885 0.88255703 0.61999099\n",
            "  0.40207884 0.76964923 0.72256064 1.13928723 0.81724103 0.67084375\n",
            "  0.468157   0.80297627 0.73415734 0.87745109 0.76762145 0.53751933\n",
            "  0.86965085 0.40155462 0.69000534 0.50782132 0.70296227 0.67093741\n",
            "  1.06615491 0.81191194 0.94633004 0.79508454 0.58597015 0.74054796\n",
            "  0.67992808 0.69392077 0.73792415 0.69751567 0.46629831 0.6008733\n",
            "  0.31230178 0.34207089 0.07837999 1.08849278 0.8160064  0.\n",
            "  0.87085153 0.125743   1.00074956 0.68954325 0.88402366 0.90195859\n",
            "  0.6789922  0.46714597 0.5761349  0.41815714 0.69216001 0.44023344\n",
            "  0.22479462 0.62955091 0.51566893 0.559125   0.64720592 0.36043584\n",
            "  1.02345844 0.28197161 0.35312092 0.42283581 0.35309173 0.81987118\n",
            "  0.90347754 0.8719805  0.41686903 0.69382445 0.85757482 0.10633525\n",
            "  0.47376141 0.73855837 0.78807457 0.8704728  0.74530672 0.71198812\n",
            "  0.06187801 0.55908946 0.44085364 0.72131674]\n",
            " [0.3088058  0.40802629 0.64938221 0.777072   0.4491193  0.47516354\n",
            "  0.73190789 0.79176672 0.77182635 0.46304117 0.4429726  0.82246409\n",
            "  0.80259788 0.87821304 0.89925531 0.67793978 0.47967206 0.42460727\n",
            "  0.16677848 0.68386262 0.61356044 0.15193283 0.47928924 0.26599167\n",
            "  0.55269515 0.22526614 0.51918489 0.37457033 0.37105072 0.2204668\n",
            "  0.80338401 0.64251048 0.30726537 0.08038963 0.76576194 0.65491997\n",
            "  0.06867627 0.54694455 0.55310151 0.36371216 0.27078124 0.25588055\n",
            "  0.23012547 0.54104146 0.15023428 0.45999543 0.28607976 0.77739574\n",
            "  0.79165282 0.4771137  0.85948322 0.31576921 0.66242312 0.71726867\n",
            "  0.59617316 0.53105174 0.94486738 0.4324654  0.07043776 0.87085153\n",
            "  0.         0.76856256 0.26549665 0.4431761  0.59442134 0.22894929\n",
            "  0.27468215 0.42543544 0.30668229 0.7061113  0.26196341 0.44405694\n",
            "  0.74564707 0.50500846 0.3692564  0.86573996 0.60104307 0.54502354\n",
            "  0.18988629 0.71640152 0.83311962 0.83437071 0.59893642 0.15590268\n",
            "  0.62500196 0.51289964 0.45434906 0.48695415 0.35462863 0.78540323\n",
            "  0.40150506 0.45499648 0.09113706 0.6639031  0.46254838 0.45333448\n",
            "  0.92240057 0.31294785 0.5507209  0.68864251]\n",
            " [0.48883109 0.77607823 0.35232903 0.14533898 0.6389734  0.72279707\n",
            "  0.1379853  0.18238804 0.10935829 0.50793806 0.36091748 0.25646819\n",
            "  0.08005055 0.56249526 0.16002388 0.56123021 0.74294802 0.62024036\n",
            "  0.81424989 0.1356507  0.60579486 0.72791972 0.83678793 0.52983602\n",
            "  0.27688296 0.65201034 0.59709728 1.02044691 0.69292271 0.58023907\n",
            "  0.36893022 0.68039617 0.66590132 0.76849509 0.65294247 0.41776262\n",
            "  0.77384357 0.27668447 0.56519768 0.41119242 0.62710365 0.58890863\n",
            "  0.95455805 0.68657233 0.83393249 0.6693887  0.48252978 0.62767928\n",
            "  0.57053344 0.5681778  0.63330228 0.62908239 0.34678085 0.48617409\n",
            "  0.26378016 0.25544191 0.18380375 0.96533546 0.7099964  0.125743\n",
            "  0.76856256 0.         0.88267255 0.56398793 0.7592248  0.82275869\n",
            "  0.56107865 0.38884401 0.48648214 0.3033545  0.57464902 0.32822617\n",
            "  0.24351231 0.59388259 0.40455214 0.46592797 0.52409031 0.23992322\n",
            "  0.91234641 0.16431279 0.26742078 0.33256305 0.31996404 0.7059144\n",
            "  0.77919649 0.83161011 0.32174799 0.65502745 0.79560004 0.01958688\n",
            "  0.38322631 0.61287331 0.68264803 0.74779939 0.6195869  0.58632045\n",
            "  0.18760458 0.46223793 0.40481489 0.60227054]\n",
            " [0.51304048 0.22681023 0.65593999 0.93021606 0.34761933 0.73941045\n",
            "  0.80683928 0.85023574 0.91596402 0.43468002 0.625962   0.85828868\n",
            "  0.93535153 0.81469842 0.98264371 0.59941541 0.74462184 0.33964643\n",
            "  0.42113435 0.76896088 0.51600503 0.1728338  0.74335859 0.47806732\n",
            "  0.61942445 0.23110858 0.43083578 0.13938293 0.25125252 0.44693091\n",
            "  0.80007781 0.51373887 0.56852781 0.19183082 0.65727772 0.63470995\n",
            "  0.33129284 0.61674257 0.47705226 0.53213531 0.52477134 0.49716788\n",
            "  0.14216019 0.40674593 0.11612366 0.33921317 0.44532236 0.67938374\n",
            "  0.7158703  0.41083438 0.76877035 0.57198708 0.66968864 0.66873711\n",
            "  0.77577266 0.68755365 1.06642244 0.16816627 0.2558827  1.00074956\n",
            "  0.26549665 0.88267255 0.         0.38772143 0.42882261 0.48515394\n",
            "  0.32181933 0.61783486 0.50765257 0.72591951 0.30859149 0.5626254\n",
            "  0.92458013 0.75698613 0.49014335 0.83429447 0.53994741 0.64280282\n",
            "  0.13233709 0.78433256 0.86611964 0.84560069 0.79564975 0.19292156\n",
            "  0.45369929 0.77774987 0.61087692 0.74626192 0.61865004 0.90166206\n",
            "  0.57650864 0.36773299 0.27839764 0.50913974 0.37000381 0.3819635\n",
            "  1.05894999 0.49096865 0.76704071 0.59402215]\n",
            " [0.42537846 0.21734281 0.27389943 0.65403911 0.07570235 0.76488888\n",
            "  0.45755495 0.4856791  0.62936482 0.05671574 0.45525578 0.48089093\n",
            "  0.63278484 0.44213384 0.62894783 0.23512868 0.77903664 0.05771621\n",
            "  0.5894643  0.43258445 0.17420994 0.30827436 0.82606104 0.42232432\n",
            "  0.28784167 0.21954375 0.08436349 0.50704034 0.14419204 0.43434973\n",
            "  0.41282205 0.22126231 0.60379746 0.38556118 0.32499079 0.24707726\n",
            "  0.49659465 0.28911024 0.11011919 0.3748759  0.542625   0.49056089\n",
            "  0.50872328 0.15311418 0.4016861  0.10706197 0.32607785 0.33453415\n",
            "  0.35048293 0.03488689 0.41648545 0.58347106 0.2873355  0.28651549\n",
            "  0.56181981 0.45602622 0.74207324 0.41738742 0.37529783 0.68954325\n",
            "  0.4431761  0.56398793 0.38772143 0.         0.23234277 0.63933114\n",
            "  0.18559225 0.46629229 0.41692139 0.34630223 0.19323763 0.31545943\n",
            "  0.68718268 0.71165509 0.2832171  0.44890683 0.16122388 0.34177224\n",
            "  0.47693821 0.43119239 0.48727513 0.46024926 0.60802918 0.29470665\n",
            "  0.26161892 0.84719416 0.40203296 0.73493724 0.7171496  0.58353609\n",
            "  0.41028422 0.05141616 0.36537233 0.26713441 0.0602718  0.02574627\n",
            "  0.75125054 0.37102721 0.62370823 0.24618829]\n",
            " [0.64997957 0.20320979 0.4197591  0.86610551 0.17134726 0.98031947\n",
            "  0.6353958  0.64281904 0.83817011 0.27411829 0.68757776 0.61415504\n",
            "  0.83411724 0.44119117 0.79119627 0.24758254 0.99293339 0.20230093\n",
            "  0.75747058 0.62363107 0.16707774 0.44270967 1.02971666 0.64123585\n",
            "  0.49517292 0.38121627 0.16691801 0.49679575 0.22401742 0.64481132\n",
            "  0.50901651 0.11271172 0.81232541 0.51998556 0.25339535 0.36324663\n",
            "  0.65865528 0.49857321 0.19403431 0.60581245 0.75249514 0.70323975\n",
            "  0.57069084 0.07964993 0.49867122 0.14633461 0.55030152 0.28387188\n",
            "  0.34113223 0.20966305 0.37095166 0.79653372 0.42974876 0.34181786\n",
            "  0.79076265 0.68478403 0.92612306 0.36121333 0.5374811  0.88402366\n",
            "  0.59442134 0.7592248  0.42882261 0.23234277 0.         0.81505251\n",
            "  0.39198806 0.69819936 0.64161809 0.48814039 0.39403203 0.54603475\n",
            "  0.9096778  0.93781962 0.51525245 0.49794079 0.2427277  0.55890939\n",
            "  0.55381064 0.60716046 0.61621524 0.56706377 0.83898496 0.43945998\n",
            "  0.03174794 1.05462347 0.63385589 0.95650881 0.91353427 0.77818547\n",
            "  0.64225823 0.18483394 0.53765963 0.08125038 0.17478501 0.20689781\n",
            "  0.94569067 0.59788018 0.85603864 0.21957642]\n",
            " [0.33660555 0.63525436 0.79660324 0.78971888 0.65970581 0.29727435\n",
            "  0.8238612  0.89238231 0.7949592  0.64613151 0.4626438  0.93808594\n",
            "  0.83549014 1.05204672 0.97255678 0.86719172 0.29431568 0.63226742\n",
            "  0.0640203  0.77155363 0.81349717 0.37752874 0.26467778 0.29977516\n",
            "  0.66916082 0.43534749 0.72106474 0.57239645 0.591155   0.25388971\n",
            "  0.94644063 0.85193726 0.18283172 0.30928365 0.96390702 0.81715574\n",
            "  0.16047234 0.66183173 0.74830903 0.42197141 0.19939041 0.23393368\n",
            "  0.40783808 0.75574062 0.36962886 0.67498761 0.38075797 0.97088411\n",
            "  0.97474651 0.67421109 1.04710663 0.21493564 0.80818331 0.89052839\n",
            "  0.59470012 0.56747694 0.98002596 0.65327275 0.27773753 0.90195859\n",
            "  0.22894929 0.82275869 0.48515394 0.63933114 0.81505251 0.\n",
            "  0.45537197 0.43582757 0.34039899 0.84059056 0.44639454 0.53491689\n",
            "  0.72945905 0.37918521 0.47473804 1.02261263 0.78700978 0.63765846\n",
            "  0.37948437 0.81527244 0.95013796 0.96635351 0.57309808 0.37700138\n",
            "  0.84624333 0.30225536 0.50447412 0.33635062 0.14437198 0.83620081\n",
            "  0.44140987 0.6609665  0.2785505  0.88031228 0.6695952  0.65424112\n",
            "  0.94339925 0.37596399 0.49958064 0.88409236]\n",
            " [0.26354371 0.274599   0.37778679 0.61203571 0.22186194 0.58848702\n",
            "  0.49237197 0.54274453 0.5959786  0.19212142 0.33480604 0.56265606\n",
            "  0.61385904 0.60540385 0.667223   0.41232248 0.60140703 0.19126588\n",
            "  0.40809773 0.45108094 0.35946536 0.17429714 0.64304255 0.25006581\n",
            "  0.30464472 0.09093829 0.26926594 0.46033267 0.19370491 0.25356693\n",
            "  0.53150625 0.40456223 0.42240608 0.23558553 0.50879658 0.38028038\n",
            "  0.31953181 0.30084494 0.29323583 0.24095206 0.36182505 0.31157204\n",
            "  0.4026156  0.32007049 0.28228212 0.24577746 0.16668155 0.51556435\n",
            "  0.52233189 0.22035647 0.59309137 0.40495565 0.39115685 0.44384696\n",
            "  0.4724337  0.37561307 0.74475006 0.42443461 0.20427356 0.6789922\n",
            "  0.27468215 0.56107865 0.32181933 0.18559225 0.39198806 0.45537197\n",
            "  0.         0.3359391  0.25550716 0.43880511 0.01453366 0.24282957\n",
            "  0.61634647 0.5501955  0.17483969 0.59115296 0.3327636  0.32141397\n",
            "  0.36276533 0.47205245 0.57226826 0.56611943 0.50376077 0.15350956\n",
            "  0.42356503 0.66574796 0.30298943 0.56529157 0.53213426 0.57999239\n",
            "  0.28436362 0.21541992 0.1883548  0.44322868 0.2250917  0.2033718\n",
            "  0.73743984 0.21736937 0.49652971 0.42877043]\n",
            " [0.11688414 0.61022695 0.46450984 0.35987669 0.53031495 0.36806338\n",
            "  0.41210608 0.4846296  0.36125961 0.43317678 0.0291318  0.54340309\n",
            "  0.40010053 0.74321961 0.54307939 0.61925286 0.38714813 0.50036663\n",
            "  0.43364693 0.35950116 0.60779176 0.4450939  0.46960324 0.1603981\n",
            "  0.30855941 0.40668212 0.5423928  0.75436182 0.52731769 0.2097539\n",
            "  0.58888063 0.67407808 0.27845974 0.45340832 0.72907711 0.5115545\n",
            "  0.41118039 0.30038453 0.54120561 0.09537973 0.23843743 0.20379319\n",
            "  0.64414283 0.61934898 0.53334369 0.5599369  0.17548795 0.72083984\n",
            "  0.69568412 0.49284788 0.77229943 0.24191604 0.4715617  0.59817767\n",
            "  0.17121089 0.13407974 0.54487879 0.74968216 0.384673   0.46714597\n",
            "  0.42543544 0.38884401 0.61783486 0.46629229 0.69819936 0.43582757\n",
            "  0.3359391  0.         0.11876892 0.4803073  0.34254334 0.17610428\n",
            "  0.32021169 0.26883075 0.18308633 0.68220321 0.54440318 0.2483804\n",
            "  0.60105236 0.41085596 0.55631938 0.59052965 0.17828521 0.42498091\n",
            "  0.72785822 0.47330098 0.09412155 0.31297863 0.41079449 0.40138427\n",
            "  0.05604189 0.51361833 0.35658507 0.72929068 0.52358915 0.49145327\n",
            "  0.51151583 0.12706701 0.16102625 0.65183074]\n",
            " [0.00846475 0.52644902 0.48508937 0.47451064 0.47031291 0.35414712\n",
            "  0.48413821 0.55363546 0.47275607 0.39674026 0.13744465 0.60304057\n",
            "  0.50812663 0.75803653 0.63299456 0.60523783 0.37022305 0.43938597\n",
            "  0.32778925 0.43160192 0.57712988 0.33516428 0.43366868 0.04385752\n",
            "  0.34128748 0.31028317 0.4992988  0.64201603 0.44860829 0.09471401\n",
            "  0.62597649 0.63586187 0.21561999 0.33663723 0.7128096  0.51987677\n",
            "  0.29494067 0.33339159 0.50839324 0.08274751 0.15965838 0.10991603\n",
            "  0.52647331 0.56574453 0.41779425 0.49716907 0.09134223 0.71028575\n",
            "  0.69650673 0.44809587 0.77279202 0.18489535 0.49479824 0.60263202\n",
            "  0.2896159  0.23444038 0.65269637 0.64785806 0.2673122  0.5761349\n",
            "  0.30668229 0.48648214 0.50765257 0.41692139 0.64161809 0.34039899\n",
            "  0.25550716 0.11876892 0.         0.51722059 0.25812406 0.20101133\n",
            "  0.43897324 0.29623145 0.15901813 0.71139526 0.52567622 0.30030822\n",
            "  0.48351368 0.47679809 0.6154518  0.63832965 0.29460279 0.31631749\n",
            "  0.67265853 0.44716104 0.16519744 0.31843657 0.34838246 0.50112631\n",
            "  0.1033663  0.45838807 0.23954292 0.68400583 0.46848514 0.44008522\n",
            "  0.62378811 0.04892469 0.25944631 0.63258135]\n",
            " [0.52379344 0.56030849 0.07305717 0.43916607 0.40992825 0.84771231\n",
            "  0.1656768  0.15520449 0.40473247 0.29338188 0.45367319 0.13468559\n",
            "  0.38339936 0.27858289 0.30334924 0.26403436 0.86645363 0.40252801\n",
            "  0.80964499 0.18116546 0.32342883 0.60976574 0.94362705 0.54957042\n",
            "  0.17622469 0.51835059 0.34419063 0.85146055 0.49042919 0.58911671\n",
            "  0.10924454 0.39415891 0.73222043 0.67436353 0.349987   0.12553512\n",
            "  0.73787859 0.18427091 0.30154292 0.43684227 0.67675576 0.6253129\n",
            "  0.8327504  0.42607019 0.71573754 0.43505749 0.45995285 0.32432493\n",
            "  0.26873882 0.33449801 0.33583388 0.69960054 0.06048534 0.18308436\n",
            "  0.45938888 0.37741509 0.44690627 0.76240592 0.63663947 0.41815714\n",
            "  0.7061113  0.3033545  0.72591951 0.34630223 0.48814039 0.84059056\n",
            "  0.43880511 0.4803073  0.51722059 0.         0.45306843 0.31745419\n",
            "  0.51774425 0.74489581 0.36650612 0.20292737 0.24547983 0.23246741\n",
            "  0.7956855  0.13911675 0.14104456 0.12829993 0.52258619 0.59033805\n",
            "  0.50248732 0.95107135 0.38618769 0.79298282 0.86558379 0.31947173\n",
            "  0.43956573 0.38351098 0.6153603  0.46114339 0.38669289 0.36055441\n",
            "  0.47719156 0.4724795  0.58389203 0.30468367]\n",
            " [0.26600268 0.2694316  0.39171522 0.62405627 0.22508832 0.58635943\n",
            "  0.50676237 0.55726664 0.60841481 0.20299419 0.34249742 0.57713267\n",
            "  0.62682977 0.61718164 0.68154012 0.42232768 0.59890179 0.19488357\n",
            "  0.39802534 0.46529695 0.36742676 0.15977328 0.63845632 0.25020847\n",
            "  0.31908277 0.07749209 0.27618768 0.44734358 0.19051794 0.25078129\n",
            "  0.5453386  0.41050586 0.41882803 0.22140866 0.5175127  0.39329926\n",
            "  0.30825283 0.31524004 0.30191846 0.24803527 0.35863188 0.30924996\n",
            "  0.38814472 0.32354563 0.26777032 0.24769931 0.17094586 0.52503621\n",
            "  0.53318905 0.22811442 0.60341194 0.40250796 0.40511974 0.45580244\n",
            "  0.48206243 0.38631885 0.75825803 0.41423021 0.19165105 0.69216001\n",
            "  0.26196341 0.57464902 0.30859149 0.19323763 0.39403203 0.44639454\n",
            "  0.01453366 0.34254334 0.25812406 0.45306843 0.         0.25504402\n",
            "  0.62679403 0.55143992 0.18566925 0.60420845 0.34320689 0.33512957\n",
            "  0.34824858 0.48651343 0.58672346 0.58028568 0.51209519 0.13897666\n",
            "  0.42570526 0.66185547 0.31286655 0.56488022 0.52624959 0.59351555\n",
            "  0.2919005  0.2203042  0.1767342  0.44738282 0.22977629 0.20978375\n",
            "  0.75042497 0.22187067 0.50267768 0.43779959]\n",
            " [0.20714926 0.49488524 0.29210473 0.36925017 0.38706889 0.53501678\n",
            "  0.29271228 0.35860067 0.35345327 0.27285618 0.15535129 0.4035029\n",
            "  0.37369262 0.57001992 0.45551216 0.44440802 0.55312728 0.35981906\n",
            "  0.51275216 0.24221907 0.43896878 0.4016858  0.62697832 0.23667084\n",
            "  0.1412435  0.33200586 0.38288093 0.70180578 0.40859749 0.28106448\n",
            "  0.42660121 0.50846928 0.41499499 0.44029543 0.55426758 0.33606033\n",
            "  0.45718147 0.13318332 0.37473457 0.11949816 0.36059053 0.31046864\n",
            "  0.62681815 0.46638967 0.50652089 0.41840333 0.16184664 0.54513434\n",
            "  0.51971931 0.33649139 0.59637853 0.3821525  0.30034397 0.42240084\n",
            "  0.24696243 0.1420169  0.50957057 0.66443728 0.38291459 0.44023344\n",
            "  0.44405694 0.32822617 0.5626254  0.31545943 0.54603475 0.53491689\n",
            "  0.24282957 0.17610428 0.20101133 0.31745419 0.25504402 0.\n",
            "  0.38051612 0.44449121 0.07633372 0.51511024 0.37137877 0.10396128\n",
            "  0.58441611 0.28145122 0.41571462 0.43734472 0.29295054 0.37963801\n",
            "  0.57385524 0.63596582 0.0909788  0.48537357 0.54874717 0.34614073\n",
            "  0.12646293 0.36612012 0.35606906 0.56746513 0.37549123 0.34120178\n",
            "  0.49714359 0.15934419 0.31781315 0.47810092]\n",
            " [0.43695671 0.87539452 0.54751572 0.106375   0.76162613 0.55324869\n",
            "  0.3652452  0.42281666 0.13855078 0.63754282 0.3042569  0.49740574\n",
            "  0.18596724 0.79168776 0.38370105 0.75182888 0.57279748 0.73626053\n",
            "  0.73982061 0.33680666 0.77663519 0.75411267 0.67242835 0.4802055\n",
            "  0.41936937 0.70039427 0.74279467 1.06332441 0.78909977 0.52846611\n",
            "  0.60087766 0.85131805 0.55091195 0.77087734 0.85405189 0.61224278\n",
            "  0.72904323 0.41460981 0.72258234 0.39392316 0.53211863 0.51208553\n",
            "  0.96237555 0.83127571 0.84875896 0.79324914 0.48081622 0.83364167\n",
            "  0.78463893 0.7024038  0.85353556 0.51594423 0.54632409 0.69207825\n",
            "  0.15044501 0.2409469  0.29543176 1.04077967 0.70314023 0.22479462\n",
            "  0.74564707 0.24351231 0.92458013 0.68718268 0.9096778  0.72945905\n",
            "  0.61634647 0.32021169 0.43897324 0.51774425 0.62679403 0.38051612\n",
            "  0.         0.41633955 0.44155293 0.70047796 0.69754908 0.35133009\n",
            "  0.91915456 0.38537114 0.5089561  0.57119008 0.15636258 0.73286799\n",
            "  0.93466115 0.65814992 0.31458317 0.4814731  0.66311023 0.23867811\n",
            "  0.35065584 0.73859639 0.67483157 0.91625735 0.74728822 0.71246782\n",
            "  0.23885249 0.43974482 0.23637561 0.79172465]\n",
            " [0.28789911 0.81568712 0.7329132  0.50582845 0.76653478 0.13701852\n",
            "  0.65534179 0.72798109 0.52476112 0.68716137 0.29292585 0.79368804\n",
            "  0.5734347  1.0115983  0.75378595 0.88460962 0.15646337 0.73561277\n",
            "  0.41627343 0.6053608  0.8661794  0.59474069 0.25629412 0.30205455\n",
            "  0.57636572 0.59391068 0.79280023 0.87805768 0.74144475 0.31612047\n",
            "  0.85219323 0.92830854 0.20648141 0.56690618 0.99409927 0.78033494\n",
            "  0.45566646 0.5682413  0.79807342 0.34299114 0.23434466 0.26100499\n",
            "  0.73286498 0.86165559 0.64917868 0.79334582 0.38752022 0.98747336\n",
            "  0.96420051 0.74181898 1.04086839 0.1897789  0.73960087 0.86685927\n",
            "  0.33010509 0.37318902 0.70560739 0.91355488 0.50111871 0.62955091\n",
            "  0.50500846 0.59388259 0.75698613 0.71165509 0.93781962 0.37918521\n",
            "  0.5501955  0.26883075 0.29623145 0.74489581 0.55143992 0.44449121\n",
            "  0.41633955 0.         0.43740118 0.9476909  0.80781335 0.51258588\n",
            "  0.69429103 0.65995687 0.80671398 0.84838086 0.27783737 0.58041522\n",
            "  0.96881318 0.24256818 0.36132489 0.065168   0.26937264 0.60018099\n",
            "  0.31928217 0.7542738  0.47978422 0.978703   0.7643799  0.73533524\n",
            "  0.65373878 0.34067933 0.19023137 0.91555127]\n",
            " [0.16679757 0.43982922 0.32838558 0.44007661 0.34835492 0.51087736\n",
            "  0.36380237 0.42670639 0.42639622 0.25148352 0.1730865  0.46569956\n",
            "  0.44870716 0.59924225 0.53003573 0.44958999 0.5276213  0.31886884\n",
            "  0.44737557 0.31484328 0.4290385  0.32661998 0.59265599 0.18509899\n",
            "  0.19474311 0.26102209 0.35986876 0.62951467 0.35445307 0.2226217\n",
            "  0.47370558 0.49301631 0.37313949 0.36396176 0.55832699 0.36095292\n",
            "  0.38583638 0.18763237 0.36130538 0.09450415 0.31470033 0.26172835\n",
            "  0.55078368 0.43629762 0.43069392 0.37849709 0.09422732 0.55394415\n",
            "  0.53790742 0.3099785  0.61433671 0.34364665 0.3387681  0.44365607\n",
            "  0.29899764 0.20077382 0.58564081 0.59924212 0.30703792 0.51566893\n",
            "  0.3692564  0.40455214 0.49014335 0.2832171  0.51525245 0.47473804\n",
            "  0.17483969 0.18308633 0.15901813 0.36650612 0.18566925 0.07633372\n",
            "  0.44155293 0.43740118 0.         0.55546424 0.37133854 0.17586043\n",
            "  0.50829057 0.35010789 0.47738812 0.49163497 0.33500064 0.30459438\n",
            "  0.54480993 0.60595203 0.12958767 0.4694119  0.50378183 0.42242611\n",
            "  0.12706768 0.33088262 0.28046955 0.54683248 0.34080633 0.30842529\n",
            "  0.57190569 0.11064922 0.34134228 0.4789729 ]\n",
            " [0.71844617 0.63366304 0.2271779  0.61050728 0.489339   1.04868082\n",
            "  0.3352349  0.28480303 0.57461997 0.41074796 0.65596806 0.21437733\n",
            "  0.54269029 0.10416427 0.39944719 0.25279188 1.0671879  0.49466473\n",
            "  0.98598784 0.36869163 0.34032841 0.74908915 1.14199107 0.74054119\n",
            "  0.37490079 0.65668493 0.40764706 0.94434551 0.58389449 0.77626354\n",
            "  0.10040186 0.38600844 0.92701127 0.82168616 0.27277848 0.21091339\n",
            "  0.90621883 0.38309788 0.35991882 0.63330468 0.86973699 0.8171041\n",
            "  0.95758978 0.46263273 0.848416   0.50459122 0.64587584 0.23779666\n",
            "  0.1677109  0.42355008 0.19418885 0.89562752 0.21675332 0.16700476\n",
            "  0.65815172 0.57989907 0.56355657 0.83209148 0.79530257 0.559125\n",
            "  0.86573996 0.46592797 0.83429447 0.44890683 0.49794079 1.02261263\n",
            "  0.59115296 0.68220321 0.71139526 0.20292737 0.60420845 0.51511024\n",
            "  0.70047796 0.9476909  0.55546424 0.         0.29532251 0.43511969\n",
            "  0.92514231 0.31621189 0.20628251 0.13629735 0.72174831 0.73240187\n",
            "  0.4997754  1.15089887 0.5881306  0.99513515 1.05896019 0.47763466\n",
            "  0.63960625 0.46723079 0.77767232 0.44124937 0.46600273 0.45241214\n",
            "  0.61025329 0.66480913 0.78585749 0.27853016]\n",
            " [0.53395461 0.34011581 0.17749439 0.64120672 0.1940178  0.87982329\n",
            "  0.3954712  0.40009861 0.61074313 0.1409015  0.52614286 0.37357063\n",
            "  0.60136062 0.28093799 0.54847257 0.08093079 0.89578175 0.20066209\n",
            "  0.74085539 0.38887819 0.08171256 0.46937029 0.9532481  0.54133385\n",
            "  0.27886325 0.37969858 0.11307314 0.6492299  0.28895326 0.56347484\n",
            "  0.2784644  0.15662046 0.73003733 0.54618435 0.18719295 0.12131655\n",
            "  0.65119507 0.28432303 0.06518259 0.46515091 0.66895777 0.61529095\n",
            "  0.66670648 0.18307661 0.56227152 0.2104478  0.4408862  0.18635263\n",
            "  0.19060979 0.13129767 0.26033959 0.70512331 0.18710907 0.12884642\n",
            "  0.5969645  0.4940518  0.68558648 0.54102867 0.53196312 0.64720592\n",
            "  0.60104307 0.52409031 0.53994741 0.16122388 0.2427277  0.78700978\n",
            "  0.3327636  0.54440318 0.52567622 0.24547983 0.34320689 0.37137877\n",
            "  0.69754908 0.80781335 0.37133854 0.29532251 0.         0.35001701\n",
            "  0.63640746 0.36712734 0.37657216 0.3334636  0.65287073 0.45533599\n",
            "  0.25830655 0.97042302 0.4620528  0.84066146 0.85187203 0.54251635\n",
            "  0.49027289 0.17226539 0.51951277 0.22382053 0.17070827 0.15966669\n",
            "  0.70839917 0.47691539 0.68837932 0.10773813]\n",
            " [0.30564591 0.54479751 0.22622191 0.31238672 0.41736397 0.61635995\n",
            "  0.18883437 0.25494524 0.288897   0.28919386 0.22134    0.3029408\n",
            "  0.29798278 0.50223535 0.35461713 0.41181698 0.6353332  0.39468708\n",
            "  0.61659307 0.13901779 0.42715301 0.49031676 0.71522689 0.33833327\n",
            "  0.07285062 0.41234605 0.39200185 0.7805265  0.45975992 0.38409956\n",
            "  0.34061519 0.5012618  0.51018526 0.53585828 0.51914925 0.28284496\n",
            "  0.56056019 0.0662976  0.37137728 0.21756394 0.45850378 0.41021868\n",
            "  0.71830735 0.48105636 0.59734005 0.44882614 0.2655405  0.50399579\n",
            "  0.46706857 0.35353181 0.54208996 0.47586272 0.23077043 0.36924308\n",
            "  0.24896878 0.15187551 0.42372312 0.72856491 0.48183904 0.36043584\n",
            "  0.54502354 0.23992322 0.64280282 0.34177224 0.55890939 0.63765846\n",
            "  0.32141397 0.2483804  0.30030822 0.23246741 0.33512957 0.10396128\n",
            "  0.35133009 0.51258588 0.17586043 0.43511969 0.35001701 0.\n",
            "  0.67666452 0.17777171 0.31546089 0.34343366 0.30807254 0.46842672\n",
            "  0.58348084 0.72086633 0.15446066 0.56063264 0.64457107 0.25902325\n",
            "  0.21139752 0.39285347 0.45575136 0.56548901 0.4009158  0.36625789\n",
            "  0.42049784 0.2616969  0.35790715 0.44986857]\n",
            " [0.48702784 0.35061821 0.7297356  0.93983422 0.45171022 0.65593322\n",
            "  0.85418888 0.90550473 0.93040126 0.51561764 0.61494655 0.9233513\n",
            "  0.95602202 0.91628581 1.0280811  0.70297477 0.6582667  0.43742253\n",
            "  0.31685111 0.81109388 0.62402852 0.18849281 0.64354077 0.44633619\n",
            "  0.66700208 0.27756906 0.5336199  0.19315326 0.35623404 0.40506967\n",
            "  0.88008147 0.63090382 0.49364679 0.14841134 0.77081898 0.71843619\n",
            "  0.24223227 0.66288049 0.57704369 0.52731599 0.46036614 0.44493713\n",
            "  0.04325618 0.52329047 0.08050729 0.44944796 0.44219798 0.79016215\n",
            "  0.82028115 0.50511136 0.87836847 0.50466361 0.74347579 0.76336887\n",
            "  0.76871585 0.6925495  1.09393099 0.28786855 0.21637972 1.02345844\n",
            "  0.18988629 0.91234641 0.13233709 0.47693821 0.55381064 0.37948437\n",
            "  0.36276533 0.60105236 0.48351368 0.7956855  0.34824858 0.58441611\n",
            "  0.91915456 0.69429103 0.50829057 0.92514231 0.63640746 0.67666452\n",
            "  0.         0.83451532 0.93245211 0.92051244 0.77811561 0.2096882\n",
            "  0.58022477 0.68017189 0.61444135 0.67354241 0.52038513 0.93046183\n",
            "  0.56914478 0.4677271  0.24451582 0.63277139 0.47196319 0.47685442\n",
            "  1.07856532 0.4796166  0.7359041  0.70258079]\n",
            " [0.48173209 0.6482529  0.19124419 0.30145587 0.50312527 0.77531793\n",
            "  0.02834653 0.07717435 0.26652887 0.37456169 0.38199874 0.13380518\n",
            "  0.24433247 0.40642164 0.19943674 0.39850392 0.79493644 0.4888672\n",
            "  0.79420041 0.05541103 0.44831065 0.64606881 0.88026587 0.51570374\n",
            "  0.16751619 0.56049691 0.45068515 0.9176137  0.56980544 0.56184329\n",
            "  0.21603306 0.52190981 0.68287891 0.69977789 0.4886617  0.25554788\n",
            "  0.73594211 0.17186674 0.41413727 0.39416975 0.63346347 0.58650714\n",
            "  0.87465656 0.53827364 0.75412979 0.53181209 0.4421359  0.46341643\n",
            "  0.40715311 0.42887838 0.47193602 0.64762551 0.18432671 0.32186461\n",
            "  0.34880111 0.28724056 0.31896262 0.84552758 0.65075543 0.28197161\n",
            "  0.71640152 0.16431279 0.78433256 0.43119239 0.60716046 0.81527244\n",
            "  0.47205245 0.41085596 0.47679809 0.13911675 0.48651343 0.28145122\n",
            "  0.38537114 0.65995687 0.35010789 0.31621189 0.36712734 0.17777171\n",
            "  0.83451532 0.         0.14683194 0.19402489 0.41234146 0.6248442\n",
            "  0.6249292  0.8824043  0.32138591 0.71425742 0.81716428 0.18079677\n",
            "  0.38288788 0.47637145 0.62588879 0.58941477 0.48173818 0.45072766\n",
            "  0.34235524 0.43936459 0.48411522 0.43951792]\n",
            " [0.62096631 0.70048781 0.21351012 0.41267687 0.54984389 0.92186366\n",
            "  0.15363178 0.08631612 0.37672765 0.43439377 0.52765316 0.0130278\n",
            "  0.34072102 0.30881377 0.19684998 0.37733129 0.94142911 0.54329644\n",
            "  0.92476219 0.20144195 0.44923439 0.74524925 1.02592261 0.65235514\n",
            "  0.28325922 0.65489239 0.48124724 0.99239542 0.63143292 0.69629249\n",
            "  0.12300709 0.51480044 0.82526979 0.8068468  0.4415642  0.25562264\n",
            "  0.85960878 0.2899999  0.43670794 0.53278241 0.77396118 0.72534698\n",
            "  0.97032219 0.55951564 0.85217189 0.57413697 0.57145231 0.41007815\n",
            "  0.34301897 0.47464821 0.39157216 0.79056541 0.20029238 0.28432398\n",
            "  0.49199734 0.43406952 0.3588394  0.90283784 0.76483594 0.35312092\n",
            "  0.83311962 0.26742078 0.86611964 0.48727513 0.61621524 0.95013796\n",
            "  0.57226826 0.55631938 0.6154518  0.14104456 0.58672346 0.41571462\n",
            "  0.5089561  0.80671398 0.47738812 0.20628251 0.37657216 0.31546089\n",
            "  0.93245211 0.14683194 0.         0.07018761 0.55501686 0.72522617\n",
            "  0.62729089 1.02870905 0.46533028 0.86107138 0.9596848  0.27675412\n",
            "  0.52552116 0.52361333 0.74198437 0.57968222 0.52641343 0.50110724\n",
            "  0.40402347 0.57505658 0.6294375  0.41520836]\n",
            " [0.6444883  0.66744473 0.19085365 0.47779648 0.51694803 0.95837477\n",
            "  0.20812912 0.15025978 0.44181328 0.41092781 0.56260078 0.07813262\n",
            "  0.40792414 0.23863174 0.26590943 0.32272118 0.97759451 0.51402714\n",
            "  0.93676875 0.2491784  0.40035334 0.7358082  1.05864123 0.67258131\n",
            "  0.29794282 0.6438557  0.44312471 0.96727059 0.60375208 0.71377292\n",
            "  0.05934562 0.4616597  0.85178398 0.80169081 0.37789674 0.21671661\n",
            "  0.86600064 0.30558263 0.39663963 0.55659746 0.79793517 0.7474894\n",
            "  0.95675548 0.51582572 0.84094944 0.53880935 0.58562436 0.34535741\n",
            "  0.27688447 0.4432978  0.3222575  0.81816609 0.17708617 0.22782492\n",
            "  0.54270823 0.47546555 0.42877368 0.87000169 0.76483293 0.42283581\n",
            "  0.83437071 0.33256305 0.84560069 0.46024926 0.56706377 0.96635351\n",
            "  0.56611943 0.59052965 0.63832965 0.12829993 0.58028568 0.43734472\n",
            "  0.57119008 0.84838086 0.49163497 0.13629735 0.3334636  0.34343366\n",
            "  0.92051244 0.19402489 0.07018761 0.         0.60630059 0.71675438\n",
            "  0.57566593 1.06376385 0.49733945 0.90019951 0.98585296 0.34324617\n",
            "  0.55466441 0.49156672 0.74364891 0.52469162 0.49316108 0.47106145\n",
            "  0.47417664 0.59513928 0.67668019 0.35850351]\n",
            " [0.29127643 0.77442329 0.53159854 0.23038428 0.67836032 0.41176379\n",
            "  0.40143395 0.47124198 0.24717133 0.56557818 0.17071747 0.54223628\n",
            "  0.29562289 0.80065656 0.47878138 0.71872823 0.43180277 0.65014198\n",
            "  0.58426078 0.35712385 0.72595073 0.6230523  0.52946939 0.3331508\n",
            "  0.38081746 0.5804542  0.67536188 0.9325238  0.68935762 0.37918981\n",
            "  0.6219433  0.79770101 0.39491707 0.63099516 0.82682476 0.59055724\n",
            "  0.57765512 0.3739029  0.66440179 0.2658959  0.37603048 0.3580964\n",
            "  0.82107152 0.75933903 0.71141625 0.70937017 0.35125663 0.81206796\n",
            "  0.77376727 0.62942513 0.84784427 0.35972858 0.5343772  0.6764126\n",
            "  0.0637003  0.15882427 0.4301902  0.92396656 0.56186206 0.35309173\n",
            "  0.59893642 0.31996404 0.79564975 0.60802918 0.83898496 0.57309808\n",
            "  0.50376077 0.17828521 0.29460279 0.52258619 0.51209519 0.29295054\n",
            "  0.15636258 0.27783737 0.33500064 0.72174831 0.65287073 0.30807254\n",
            "  0.77811561 0.41234146 0.55501686 0.60630059 0.         0.60272975\n",
            "  0.86674299 0.51955944 0.20716535 0.34137678 0.51006458 0.32451993\n",
            "  0.22124781 0.65831068 0.53397384 0.85854928 0.66782728 0.63377231\n",
            "  0.3822793  0.30470044 0.08790848 0.75587001]\n",
            " [0.32211754 0.26040326 0.52686629 0.74284107 0.29400854 0.58267249\n",
            "  0.64452463 0.69610347 0.73060642 0.32250843 0.43311439 0.71577985\n",
            "  0.75318348 0.73553143 0.81861233 0.52957769 0.59117739 0.27061448\n",
            "  0.31819555 0.60175909 0.4610684  0.02204813 0.60904754 0.28960429\n",
            "  0.4573283  0.07602411 0.36665229 0.33064836 0.21560355 0.26466831\n",
            "  0.67944879 0.48712129 0.40834673 0.09086462 0.61312369 0.52233423\n",
            "  0.2192143  0.45319244 0.40325644 0.33960821 0.35622925 0.31979079\n",
            "  0.25036901 0.38514934 0.1294426  0.30412356 0.25266481 0.62643991\n",
            "  0.64517898 0.3274246  0.71047838 0.4040477  0.54046218 0.57680349\n",
            "  0.58354494 0.4977952  0.88858728 0.33464302 0.0999209  0.81987118\n",
            "  0.15590268 0.7059144  0.19292156 0.29470665 0.43945998 0.37700138\n",
            "  0.15350956 0.42498091 0.31631749 0.59033805 0.13897666 0.37963801\n",
            "  0.73286799 0.58041522 0.30459438 0.73240187 0.45533599 0.46842672\n",
            "  0.2096882  0.6248442  0.72522617 0.71675438 0.60272975 0.\n",
            "  0.47031836 0.63879196 0.42036362 0.57817274 0.48710109 0.72435616\n",
            "  0.38383638 0.3013853  0.10804557 0.50807697 0.30846751 0.30204312\n",
            "  0.87647314 0.29805994 0.5756735  0.53743572]\n",
            " [0.68103283 0.22988429 0.43578833 0.88884567 0.20257295 1.01195345\n",
            "  0.65324459 0.65760922 0.86032979 0.30125598 0.71678217 0.62584692\n",
            "  0.85490847 0.43723851 0.80583643 0.25352755 1.02460561 0.23352791\n",
            "  0.78843762 0.64354857 0.17913922 0.47317556 1.06145714 0.67265187\n",
            "  0.51842356 0.41273113 0.19239447 0.51572286 0.25509985 0.67648655\n",
            "  0.51701314 0.11470677 0.84405576 0.55008032 0.24539547 0.37702747\n",
            "  0.68953266 0.52213569 0.21489455 0.63586758 0.78420328 0.73488799\n",
            "  0.59581322 0.10851239 0.52686508 0.17800851 0.58132367 0.27771753\n",
            "  0.33885082 0.2374113  0.36229786 0.82819505 0.44515195 0.3485923\n",
            "  0.81772094 0.71178371 0.94369552 0.37703348 0.56859656 0.90347754\n",
            "  0.62500196 0.77919649 0.45369929 0.26161892 0.03174794 0.84624333\n",
            "  0.42356503 0.72785822 0.67265853 0.50248732 0.42570526 0.57385524\n",
            "  0.93466115 0.96881318 0.54480993 0.4997754  0.25830655 0.58348084\n",
            "  0.58022477 0.6249292  0.62729089 0.57566593 0.86674299 0.47031836\n",
            "  0.         1.08637045 0.66223264 0.98788287 0.94520963 0.79799144\n",
            "  0.67186893 0.21513303 0.56905778 0.06509781 0.20504202 0.23640918\n",
            "  0.96498273 0.62867492 0.88519593 0.22176406]\n",
            " [0.43922884 0.89733318 0.92748495 0.74834144 0.8869416  0.10882697\n",
            "  0.88121773 0.95418023 0.76672508 0.83648087 0.50151855 1.01573534\n",
            "  0.81507091 1.2035146  0.99159239 1.05069559 0.08869268 0.85668301\n",
            "  0.36346826 0.82947917 1.01600158 0.64572995 0.03988404 0.4291749\n",
            "  0.77610191 0.67874415 0.9315157  0.8733251  0.83786935 0.41293208\n",
            "  1.0601913  1.06839776 0.24349367 0.59094255 1.15691768 0.96604417\n",
            "  0.44648424 0.76791784 0.94733573 0.51937351 0.30457262 0.3569829\n",
            "  0.70984517 0.98540028 0.66170914 0.90867518 0.52954949 1.15608126\n",
            "  1.14366744 0.88078644 1.21992993 0.26538673 0.93615326 1.04956156\n",
            "  0.56882925 0.59665306 0.94816391 0.9452805  0.54148352 0.8719805\n",
            "  0.51289964 0.83161011 0.77774987 0.84719416 1.05462347 0.30225536\n",
            "  0.66574796 0.47330098 0.44716104 0.95107135 0.66185547 0.63596582\n",
            "  0.65814992 0.24256818 0.60595203 1.15089887 0.97042302 0.72086633\n",
            "  0.68017189 0.8824043  1.02870905 1.06376385 0.51955944 0.63879196\n",
            "  1.08637045 0.         0.56652045 0.17820223 0.15990424 0.83908021\n",
            "  0.51155825 0.88109721 0.53092207 1.10896922 0.89081783 0.86751882\n",
            "  0.8960944  0.49599706 0.43166342 1.07619652]\n",
            " [0.16816056 0.56921356 0.37163173 0.3254532  0.47146727 0.46191263\n",
            "  0.32516474 0.39671319 0.31781778 0.36208929 0.06840361 0.45251119\n",
            "  0.34857386 0.65028428 0.46813679 0.53420262 0.48087256 0.44306107\n",
            "  0.49287009 0.27225724 0.5299286  0.44195248 0.56154837 0.20822362\n",
            "  0.21507113 0.38583419 0.47227145 0.74997037 0.48360601 0.25850396\n",
            "  0.49480455 0.59918132 0.36180364 0.46644487 0.64399172 0.42072999\n",
            "  0.45372772 0.20693384 0.46545903 0.09096415 0.31454713 0.27109548\n",
            "  0.65761785 0.5542475  0.54053127 0.50237163 0.17230273 0.6338526\n",
            "  0.605586   0.42489339 0.68197916 0.3263194  0.37828604 0.50769327\n",
            "  0.16956721 0.07811349 0.49189902 0.72709654 0.40204115 0.41686903\n",
            "  0.45434906 0.32174799 0.61087692 0.40203296 0.63385589 0.50447412\n",
            "  0.30298943 0.09412155 0.16519744 0.38618769 0.31286655 0.0909788\n",
            "  0.31458317 0.36132489 0.12958767 0.5881306  0.4620528  0.15446066\n",
            "  0.61444135 0.32138591 0.46533028 0.49733945 0.20716535 0.42036362\n",
            "  0.66223264 0.56652045 0.         0.4070068  0.49593213 0.33686474\n",
            "  0.06324824 0.45187188 0.37377273 0.65762882 0.46149464 0.4277351\n",
            "  0.46809999 0.14228275 0.2268367  0.56846983]\n",
            " [0.3099746  0.82293194 0.77665209 0.57025517 0.78534149 0.07185817\n",
            "  0.71107412 0.78395885 0.58853301 0.71483577 0.33931431 0.84804816\n",
            "  0.63693703 1.05514599 0.81504763 0.91895003 0.09133081 0.75440211\n",
            "  0.38024509 0.66025213 0.89504436 0.59055088 0.19113717 0.31533344\n",
            "  0.62137361 0.5998609  0.81765705 0.86151869 0.75256828 0.3190601\n",
            "  0.90121682 0.95429441 0.17994188 0.55455794 1.02772592 0.82105553\n",
            "  0.43176925 0.61318474 0.82641625 0.37650892 0.22260361 0.2606483\n",
            "  0.71025774 0.88211623 0.63494223 0.8107376  0.40886343 1.02300313\n",
            "  1.00333249 0.7664369  1.08005711 0.17482521 0.78408895 0.90682052\n",
            "  0.39159152 0.42703789 0.77014225 0.90714238 0.49211134 0.69382445\n",
            "  0.48695415 0.65502745 0.74626192 0.73493724 0.95650881 0.33635062\n",
            "  0.56529157 0.31297863 0.31843657 0.79298282 0.56488022 0.48537357\n",
            "  0.4814731  0.065168   0.4694119  0.99513515 0.84066146 0.56063264\n",
            "  0.67354241 0.71425742 0.86107138 0.90019951 0.34137678 0.57817274\n",
            "  0.98788287 0.17820223 0.4070068  0.         0.21417763 0.66196215\n",
            "  0.35891916 0.77504073 0.47345371 1.0017824  0.78509376 0.75769682\n",
            "  0.71869077 0.36588213 0.25349595 0.9481903 ]\n",
            " [0.34180545 0.74728189 0.83207311 0.73816863 0.74959325 0.16095723\n",
            "  0.82087792 0.89263945 0.74960887 0.71351938 0.43984646 0.94702266\n",
            "  0.79453686 1.10113567 0.95250216 0.9327948  0.15425346 0.72016977\n",
            "  0.20396406 0.76799564 0.88968836 0.49223501 0.12473076 0.31880335\n",
            "  0.68954727 0.53339392 0.80123167 0.71353212 0.69285407 0.28884993\n",
            "  0.97435665 0.936628   0.13441502 0.4336184  1.03560882 0.86279518\n",
            "  0.28742107 0.68160674 0.82191935 0.42930895 0.18922845 0.2421146\n",
            "  0.55058148 0.84780563 0.50253627 0.76900455 0.41672187 1.0381813\n",
            "  1.03292196 0.75161494 1.10792574 0.16964571 0.84220926 0.94253205\n",
            "  0.54530072 0.54415032 0.93581131 0.78646588 0.38808237 0.85757482\n",
            "  0.35462863 0.79560004 0.61865004 0.7171496  0.91353427 0.14437198\n",
            "  0.53213426 0.41079449 0.34838246 0.86558379 0.52624959 0.54874717\n",
            "  0.66311023 0.26937264 0.50378183 1.05896019 0.85187203 0.64457107\n",
            "  0.52038513 0.81716428 0.9596848  0.98585296 0.51006458 0.48710109\n",
            "  0.94520963 0.15990424 0.49593213 0.21417763 0.         0.80637512\n",
            "  0.43439286 0.74648254 0.38046443 0.97245235 0.75585672 0.7355047\n",
            "  0.891595   0.39418059 0.42674977 0.95475363]\n",
            " [0.50325872 0.79566452 0.37001122 0.13690864 0.65849753 0.73033695\n",
            "  0.1537998  0.19306159 0.10141348 0.52746437 0.37380341 0.26627592\n",
            "  0.06533584 0.57531081 0.15430231 0.57863054 0.75049474 0.63981038\n",
            "  0.82874769 0.15455512 0.62420204 0.74637302 0.84510259 0.54463281\n",
            "  0.29646854 0.6709118  0.61631432 1.03953603 0.71249485 0.59517671\n",
            "  0.38164425 0.69870099 0.67748137 0.78627889 0.66936032 0.43525424\n",
            "  0.78974082 0.29626846 0.5841513  0.42680278 0.63981272 0.60252423\n",
            "  0.97274597 0.70573457 0.85220076 0.68889058 0.49932397 0.64368558\n",
            "  0.58574819 0.58761654 0.64756833 0.64063166 0.36415696 0.50249518\n",
            "  0.27037134 0.26873758 0.16476223 0.98484203 0.72734219 0.10633525\n",
            "  0.78540323 0.01958688 0.90166206 0.58353609 0.77818547 0.83620081\n",
            "  0.57999239 0.40138427 0.50112631 0.31947173 0.59351555 0.34614073\n",
            "  0.23867811 0.60018099 0.42242611 0.47763466 0.54251635 0.25902325\n",
            "  0.93046183 0.18079677 0.27675412 0.34324617 0.32451993 0.72435616\n",
            "  0.79799144 0.83908021 0.33686474 0.66196215 0.80637512 0.\n",
            "  0.39777406 0.63238152 0.6998963  0.76613759 0.63907249 0.60583687\n",
            "  0.16821271 0.47797884 0.41045414 0.61967176]\n",
            " [0.10563271 0.55768769 0.41824731 0.37561343 0.47467857 0.40925372\n",
            "  0.38764392 0.4587559  0.37165686 0.37729207 0.05067974 0.51280373\n",
            "  0.40560371 0.6964249  0.53114691 0.56597955 0.42762339 0.44484938\n",
            "  0.431033   0.33475758 0.55252403 0.40470058 0.50443182 0.14701197\n",
            "  0.26470547 0.35921432 0.48640048 0.71443968 0.47400991 0.19775671\n",
            "  0.54874345 0.61836096 0.3000353  0.42074253 0.67568516 0.46228697\n",
            "  0.395985   0.25650882 0.48567686 0.04469068 0.25155938 0.20787912\n",
            "  0.61239813 0.56335736 0.49810684 0.50445457 0.13119051 0.66834943\n",
            "  0.6453438  0.43681274 0.72205842 0.26506039 0.4261391  0.54835864\n",
            "  0.20041504 0.13169454 0.54992297 0.70273169 0.35388665 0.47376141\n",
            "  0.40150506 0.38322631 0.57650864 0.41028422 0.64225823 0.44140987\n",
            "  0.28436362 0.05604189 0.1033663  0.43956573 0.2919005  0.12646293\n",
            "  0.35065584 0.31928217 0.12706768 0.63960625 0.49027289 0.21139752\n",
            "  0.56914478 0.38288788 0.52552116 0.55466441 0.22124781 0.38383638\n",
            "  0.67186893 0.51155825 0.06324824 0.35891916 0.43439286 0.39777406\n",
            "  0.         0.45774698 0.32549034 0.67331792 0.46770288 0.43547258\n",
            "  0.52268306 0.08965445 0.21546066 0.59787731]\n",
            " [0.4668002  0.17687451 0.3104749  0.70498353 0.02680899 0.80208684\n",
            "  0.5032365  0.52767377 0.67999879 0.10511167 0.50363476 0.51805814\n",
            "  0.68259641 0.4490527  0.67267568 0.23526336 0.81556892 0.03105651\n",
            "  0.60820224 0.48041169 0.160098   0.31184634 0.85842807 0.46056444\n",
            "  0.3375693  0.22989116 0.06642439 0.47882499 0.11670426 0.4685145\n",
            "  0.44102958 0.19115875 0.63767715 0.39101366 0.31183572 0.27526661\n",
            "  0.51260814 0.33915911 0.1097929  0.42098793 0.57691432 0.52595534\n",
            "  0.4963197  0.10738179 0.39634092 0.05655925 0.36707563 0.32650187\n",
            "  0.35257013 0.04901406 0.41271689 0.61929145 0.3234345  0.30110563\n",
            "  0.61274757 0.50704233 0.78969915 0.3793338  0.38985818 0.73855837\n",
            "  0.45499648 0.61287331 0.36773299 0.05141616 0.18483394 0.6609665\n",
            "  0.21541992 0.51361833 0.45838807 0.38351098 0.2203042  0.36612012\n",
            "  0.73859639 0.7542738  0.33088262 0.46723079 0.17226539 0.39285347\n",
            "  0.4677271  0.47637145 0.52361333 0.49156672 0.65831068 0.3013853\n",
            "  0.21513303 0.88109721 0.45187188 0.77504073 0.74648254 0.63238152\n",
            "  0.45774698 0.         0.38343671 0.22809456 0.01010933 0.02670967\n",
            "  0.80034752 0.41381605 0.67207743 0.2376258 ]\n",
            " [0.24347945 0.36701472 0.55949733 0.69884281 0.38130133 0.47530227\n",
            "  0.64182077 0.70102245 0.69143146 0.37967702 0.37057618 0.73132753\n",
            "  0.72001624 0.79374777 0.81031531 0.59800299 0.4834541  0.35426194\n",
            "  0.22481599 0.59430254 0.53859225 0.1175562  0.50158883 0.20434983\n",
            "  0.46171115 0.15690986 0.44506192 0.40676947 0.31448197 0.1689166\n",
            "  0.71343072 0.57398697 0.3010658  0.09710398 0.69020998 0.56718795\n",
            "  0.13168801 0.45602863 0.47537837 0.28472887 0.25086937 0.21911922\n",
            "  0.28766782 0.4771988  0.1791155  0.39650471 0.20220559 0.69958618\n",
            "  0.7097602  0.40001165 0.77940594 0.29870796 0.57242638 0.63219886\n",
            "  0.52442805 0.45154636 0.86092515 0.43425716 0.02840019 0.78807457\n",
            "  0.09113706 0.68264803 0.27839764 0.36537233 0.53765963 0.2785505\n",
            "  0.1883548  0.35658507 0.23954292 0.6153603  0.1767342  0.35606906\n",
            "  0.67483157 0.47978422 0.28046955 0.77767232 0.51951277 0.45575136\n",
            "  0.24451582 0.62588879 0.74198437 0.74364891 0.53397384 0.10804557\n",
            "  0.56905778 0.53092207 0.37377273 0.47345371 0.38046443 0.6998963\n",
            "  0.32549034 0.38343671 0.         0.60181979 0.39182546 0.37832667\n",
            "  0.84115911 0.23583596 0.4953626  0.61152343]\n",
            " [0.69245896 0.2827317  0.39833279 0.86400741 0.2228603  1.03004297\n",
            "  0.61773745 0.61608589 0.83403588 0.29637608 0.71583412 0.57920658\n",
            "  0.82518113 0.37442444 0.76347083 0.20244945 1.04362434 0.25255284\n",
            "  0.8244402  0.61268567 0.14214096 0.51323905 1.08583612 0.68810731\n",
            "  0.49710008 0.44496481 0.18696389 0.57770415 0.29325195 0.69656802\n",
            "  0.46551551 0.06751054 0.8656265  0.59170433 0.18118284 0.33608652\n",
            "  0.72639452 0.50166827 0.19476534 0.64011966 0.80494499 0.75404885\n",
            "  0.65074182 0.12487132 0.57526633 0.20532467 0.59302406 0.21422428\n",
            "  0.27754255 0.23727497 0.2975969  0.84737886 0.40635692 0.29688896\n",
            "  0.80654611 0.7012463  0.90654661 0.44073839 0.60404594 0.8704728\n",
            "  0.6639031  0.74779939 0.50913974 0.26713441 0.08125038 0.88031228\n",
            "  0.44322868 0.72929068 0.68400583 0.46114339 0.44738282 0.56746513\n",
            "  0.91625735 0.978703   0.54683248 0.44124937 0.22382053 0.56548901\n",
            "  0.63277139 0.58941477 0.57968222 0.52469162 0.85854928 0.50807697\n",
            "  0.06509781 1.10896922 0.65762882 1.0017824  0.97245235 0.76613759\n",
            "  0.67331792 0.22809456 0.60181979 0.         0.21826412 0.2440898\n",
            "  0.93144979 0.63813555 0.88333396 0.1665494 ]\n",
            " [0.47689624 0.17443015 0.31363621 0.71287629 0.02384012 0.81201512\n",
            "  0.50875568 0.53201842 0.68765224 0.11240326 0.51350265 0.52107762\n",
            "  0.68975031 0.44562135 0.67747838 0.23116879 0.8254604  0.03794113\n",
            "  0.61651998 0.48672451 0.15398156 0.31846014 0.86803783 0.47056972\n",
            "  0.34478947 0.23766012 0.06167214 0.47905536 0.11875467 0.47830785\n",
            "  0.44196641 0.1823599  0.64742108 0.39775795 0.30519754 0.27657617\n",
            "  0.52064864 0.34654344 0.10705314 0.43102808 0.58669429 0.53581109\n",
            "  0.4999254  0.09727613 0.40136486 0.05012239 0.37716983 0.32066376\n",
            "  0.34842842 0.0530151  0.40743519 0.62915892 0.32644767 0.29947932\n",
            "  0.62200481 0.5162464  0.79584201 0.37706001 0.39782593 0.74530672\n",
            "  0.46254838 0.6195869  0.37000381 0.0602718  0.17478501 0.6695952\n",
            "  0.2250917  0.52358915 0.46848514 0.38669289 0.22977629 0.37549123\n",
            "  0.74728822 0.7643799  0.34080633 0.46600273 0.17070827 0.4009158\n",
            "  0.47196319 0.48173818 0.52641343 0.49316108 0.66782728 0.30846751\n",
            "  0.20504202 0.89081783 0.46149464 0.78509376 0.75585672 0.63907249\n",
            "  0.46770288 0.01010933 0.39182546 0.21826412 0.         0.03482404\n",
            "  0.8071252  0.42392532 0.68195509 0.23198038]\n",
            " [0.44853005 0.2000816  0.28765308 0.67833286 0.05274059 0.78652749\n",
            "  0.4774526  0.5030783  0.65329986 0.0784528  0.48068725 0.49522747\n",
            "  0.65591514 0.43965039 0.64753523 0.22859069 0.80041331 0.04310759\n",
            "  0.60301733 0.45406277 0.16047239 0.31414749 0.84574207 0.44423345\n",
            "  0.31088412 0.22829532 0.06683349 0.49708128 0.1332798  0.45459208\n",
            "  0.42178021 0.20127312 0.62403006 0.39256008 0.31255193 0.25568832\n",
            "  0.50879704 0.31245378 0.10171796 0.39965256 0.56299637 0.51135863\n",
            "  0.5070626  0.12791109 0.40341171 0.08323075 0.34899516 0.3244896\n",
            "  0.34537585 0.02887108 0.40866337 0.60449432 0.30081529 0.28765618\n",
            "  0.58752311 0.48171018 0.76342689 0.40185455 0.38662988 0.71198812\n",
            "  0.45333448 0.58632045 0.3819635  0.02574627 0.20689781 0.65424112\n",
            "  0.2033718  0.49145327 0.44008522 0.36055441 0.20978375 0.34120178\n",
            "  0.71246782 0.73533524 0.30842529 0.45241214 0.15966669 0.36625789\n",
            "  0.47685442 0.45072766 0.50110724 0.47106145 0.63377231 0.30204312\n",
            "  0.23640918 0.86751882 0.4277351  0.75769682 0.7355047  0.60583687\n",
            "  0.43547258 0.02670967 0.37832667 0.2440898  0.03482404 0.\n",
            "  0.77376519 0.39465655 0.64915215 0.23553945]\n",
            " [0.62418605 0.96217144 0.53357357 0.15406203 0.82637895 0.7902301\n",
            "  0.3141521  0.33274663 0.1510657  0.69534646 0.48770533 0.39661534\n",
            "  0.12359848 0.71265983 0.21815463 0.74019808 0.80997337 0.80724156\n",
            "  0.94501202 0.32237771 0.78991914 0.89850727 0.90908836 0.66753279\n",
            "  0.46365838 0.8278664  0.78440858 1.1977516  0.87832035 0.71825773\n",
            "  0.52203542 0.86394151 0.7717265  0.93183494 0.82583012 0.59775484\n",
            "  0.91842562 0.46300798 0.75169132 0.55871039 0.74401292 0.71480365\n",
            "  1.12142829 0.87373039 1.00209246 0.8568811  0.63897198 0.79814054\n",
            "  0.73638739 0.75577727 0.7924811  0.73543328 0.52657115 0.6593619\n",
            "  0.3492645  0.39159119 0.06612025 1.14896782 0.86926682 0.06187801\n",
            "  0.92240057 0.18760458 1.05894999 0.75125054 0.94569067 0.94339925\n",
            "  0.73743984 0.51151583 0.62378811 0.47719156 0.75042497 0.49714359\n",
            "  0.23885249 0.65373878 0.57190569 0.61025329 0.70839917 0.42049784\n",
            "  1.07856532 0.34235524 0.40402347 0.47417664 0.3822793  0.87647314\n",
            "  0.96498273 0.8960944  0.46809999 0.71869077 0.891595   0.16821271\n",
            "  0.52268306 0.80034752 0.84115911 0.93144979 0.8071252  0.77376519\n",
            "  0.         0.60968817 0.46856696 0.78112196]\n",
            " [0.0570876  0.49129858 0.43807276 0.46434247 0.42688772 0.40293886\n",
            "  0.44861705 0.51650551 0.45895549 0.34895373 0.13615554 0.56284574\n",
            "  0.49079493 0.70989063 0.60348151 0.55638422 0.41910384 0.39607518\n",
            "  0.35686163 0.39672175 0.52919964 0.31835659 0.4821081  0.07749474\n",
            "  0.29731026 0.28135593 0.45267987 0.62793004 0.41104117 0.12261728\n",
            "  0.58080284 0.58886545 0.26267734 0.33124252 0.6640776  0.47159371\n",
            "  0.31180594 0.28958577 0.46054229 0.05135275 0.20495372 0.15285741\n",
            "  0.52286406 0.52117684 0.40923639 0.45455231 0.05094577 0.66139577\n",
            "  0.64768273 0.40156304 0.72393429 0.23301114 0.44807169 0.55400551\n",
            "  0.28932153 0.21815741 0.63416802 0.62343198 0.26423221 0.55908946\n",
            "  0.31294785 0.46223793 0.49096865 0.37102721 0.59788018 0.37596399\n",
            "  0.21736937 0.12706701 0.04892469 0.4724795  0.22187067 0.15934419\n",
            "  0.43974482 0.34067933 0.11064922 0.66480913 0.47691539 0.2616969\n",
            "  0.4796166  0.43936459 0.57505658 0.59513928 0.30470044 0.29805994\n",
            "  0.62867492 0.49599706 0.14228275 0.36588213 0.39418059 0.47797884\n",
            "  0.08965445 0.41381605 0.23583596 0.63813555 0.42392532 0.39465655\n",
            "  0.60968817 0.         0.282933   0.58392767]\n",
            " [0.25401257 0.77101919 0.58411322 0.31778478 0.68966928 0.32387141\n",
            "  0.47614424 0.54765782 0.33507817 0.58710901 0.16846847 0.61649551\n",
            "  0.38344758 0.85910168 0.56440902 0.75911042 0.34390196 0.66003445\n",
            "  0.51677046 0.4287445  0.75675724 0.59461058 0.44174015 0.29102182\n",
            "  0.4284203  0.56427485 0.6971542  0.90069798 0.68832316 0.33100078\n",
            "  0.68733603 0.82570146 0.31809734 0.59198588 0.86861142 0.63900814\n",
            "  0.52140795 0.42081037 0.6920341  0.2564012  0.30764149 0.29915752\n",
            "  0.77814737 0.7767622  0.67447687 0.71966259 0.33332825 0.85682003\n",
            "  0.82402574 0.64867805 0.89954391 0.28465064 0.5885547  0.72595268\n",
            "  0.14162413 0.20699152 0.51772832 0.90559051 0.52214252 0.44085364\n",
            "  0.5507209  0.40481489 0.76704071 0.62370823 0.85603864 0.49958064\n",
            "  0.49652971 0.16102625 0.25944631 0.58389203 0.50267768 0.31781315\n",
            "  0.23637561 0.19023137 0.34134228 0.78585749 0.68837932 0.35790715\n",
            "  0.7359041  0.48411522 0.6294375  0.67668019 0.08790848 0.5756735\n",
            "  0.88519593 0.43166342 0.2268367  0.25349595 0.42674977 0.41045414\n",
            "  0.21546066 0.67207743 0.4953626  0.88333396 0.68195509 0.64915215\n",
            "  0.46856696 0.282933   0.         0.79424002]\n",
            " [0.64089779 0.37571345 0.25027081 0.72822676 0.25103995 0.98667103\n",
            "  0.4674111  0.45741145 0.69605214 0.24123643 0.63317692 0.41548671\n",
            "  0.68151072 0.2269655  0.60297519 0.04104201 1.00243716 0.26867342\n",
            "  0.83532591 0.47014215 0.07855518 0.54891736 1.05823183 0.64703095\n",
            "  0.37737465 0.46380352 0.1713279  0.68833815 0.3465116  0.66726003\n",
            "  0.29923285 0.10750473 0.83490694 0.62773714 0.08089836 0.18454252\n",
            "  0.74278194 0.38358594 0.13615417 0.57286711 0.7736798  0.72020657\n",
            "  0.72872877 0.19413315 0.63320631 0.25492214 0.54677032 0.089019\n",
            "  0.12558655 0.21174079 0.17579095 0.81081035 0.2555175  0.13107837\n",
            "  0.69850156 0.5971898  0.75146361 0.56508873 0.62130486 0.72131674\n",
            "  0.68864251 0.60227054 0.59402215 0.24618829 0.21957642 0.88409236\n",
            "  0.42877043 0.65183074 0.63258135 0.30468367 0.43779959 0.47810092\n",
            "  0.79172465 0.91555127 0.4789729  0.27853016 0.10773813 0.44986857\n",
            "  0.70258079 0.43951792 0.41520836 0.35850351 0.75587001 0.53743572\n",
            "  0.22176406 1.07619652 0.56846983 0.9481903  0.95475363 0.61967176\n",
            "  0.59787731 0.2376258  0.61152343 0.1665494  0.23198038 0.23553945\n",
            "  0.78112196 0.58392767 0.79424002 0.        ]]\n"
          ]
        }
      ],
      "source": [
        "q = np.random.random((100,2))\n",
        "a,b = np.atleast_2d(q[:,0], q[:,1])\n",
        "c = np.sqrt( (a-a.T)**2 + (b-b.T)**2)\n",
        "print(c)"
      ]
    },
    {
      "cell_type": "markdown",
      "metadata": {
        "id": "I8zXbv3P0ZQD"
      },
      "source": [
        "#### 53. How to convert a float (32 bits) array into an integer (32 bits) in place? \n",
        "(**hint**: astype(copy=False))"
      ]
    },
    {
      "cell_type": "code",
      "execution_count": 53,
      "metadata": {
        "id": "_2gbpv7_0ZQD",
        "colab": {
          "base_uri": "https://localhost:8080/"
        },
        "outputId": "e4965e0b-8c7c-498b-a26f-2c1abd495acd"
      },
      "outputs": [
        {
          "output_type": "stream",
          "name": "stdout",
          "text": [
            "[0 1 2 3 4 5 6 7 8 9]\n"
          ]
        }
      ],
      "source": [
        "a = np.arange(10, dtype=np.float32)\n",
        "a = a.astype(np.int32, copy=False)\n",
        "print(a)"
      ]
    },
    {
      "cell_type": "markdown",
      "metadata": {
        "id": "zTCXvbdw0ZQD"
      },
      "source": [
        "#### 54. How to read the following file? (★★☆) \n",
        "(**hint**: np.genfromtxt)"
      ]
    },
    {
      "cell_type": "markdown",
      "metadata": {
        "id": "a4nFMSbZ0ZQD"
      },
      "source": [
        "```\n",
        "1, 2, 3, 4, 5\n",
        "6,  ,  , 7, 8\n",
        " ,  , 9,10,11\n",
        "```"
      ]
    },
    {
      "cell_type": "code",
      "execution_count": 116,
      "metadata": {
        "id": "hzLa7us10ZQE",
        "colab": {
          "base_uri": "https://localhost:8080/"
        },
        "outputId": "d3cd2d50-d615-4e62-f4ce-be40ed269813"
      },
      "outputs": [
        {
          "output_type": "stream",
          "name": "stdout",
          "text": [
            "[[ 1  2  3  4  5]\n",
            " [ 6 -1 -1  7  8]\n",
            " [-1 -1  9 10 11]]\n"
          ]
        }
      ],
      "source": [
        "from io import StringIO\n",
        "\n",
        "a = StringIO('''1, 2, 3, 4, 5\n",
        "                6,  ,  , 7, 8\n",
        "                 ,  , 9,10,11\n",
        "''')\n",
        "x = np.genfromtxt(a, delimiter=\",\", dtype=np.int64)\n",
        "print(x)"
      ]
    },
    {
      "cell_type": "markdown",
      "metadata": {
        "id": "G6niFDVI0ZQE"
      },
      "source": [
        "#### 55. What is the equivalent of enumerate for numpy arrays? (★★☆) \n",
        "(**hint**: np.ndenumerate, np.ndindex)"
      ]
    },
    {
      "cell_type": "code",
      "execution_count": 55,
      "metadata": {
        "id": "qvV2J3Eh0ZQE",
        "colab": {
          "base_uri": "https://localhost:8080/"
        },
        "outputId": "4a64acb8-f0a4-4d0b-b93c-7f49e9a0b762"
      },
      "outputs": [
        {
          "output_type": "stream",
          "name": "stdout",
          "text": [
            "(0, 0) 0\n",
            "(0, 1) 1\n",
            "(0, 2) 2\n",
            "(1, 0) 3\n",
            "(1, 1) 4\n",
            "(1, 2) 5\n",
            "(2, 0) 6\n",
            "(2, 1) 7\n",
            "(2, 2) 8\n",
            "(0, 0) 0\n",
            "(0, 1) 1\n",
            "(0, 2) 2\n",
            "(1, 0) 3\n",
            "(1, 1) 4\n",
            "(1, 2) 5\n",
            "(2, 0) 6\n",
            "(2, 1) 7\n",
            "(2, 2) 8\n"
          ]
        }
      ],
      "source": [
        "Z = np.arange(9).reshape(3,3)\n",
        "for index, value in np.ndenumerate(Z):\n",
        "    print(index, value)\n",
        "for index in np.ndindex(Z.shape):\n",
        "    print(index, Z[index])"
      ]
    },
    {
      "cell_type": "markdown",
      "metadata": {
        "id": "CDFuzLjc0ZQE"
      },
      "source": [
        "#### 56. Generate a generic 2D Gaussian-like array (★★☆) \n",
        "(**hint**: np.meshgrid, np.exp)"
      ]
    },
    {
      "cell_type": "code",
      "execution_count": 56,
      "metadata": {
        "id": "ptEjJ7pO0ZQF",
        "colab": {
          "base_uri": "https://localhost:8080/"
        },
        "outputId": "934593f7-f137-48c1-cbcb-263698a45dae"
      },
      "outputs": [
        {
          "output_type": "stream",
          "name": "stdout",
          "text": [
            "[[0.36787944 0.44822088 0.51979489 0.57375342 0.60279818 0.60279818\n",
            "  0.57375342 0.51979489 0.44822088 0.36787944]\n",
            " [0.44822088 0.54610814 0.63331324 0.69905581 0.73444367 0.73444367\n",
            "  0.69905581 0.63331324 0.54610814 0.44822088]\n",
            " [0.51979489 0.63331324 0.73444367 0.81068432 0.85172308 0.85172308\n",
            "  0.81068432 0.73444367 0.63331324 0.51979489]\n",
            " [0.57375342 0.69905581 0.81068432 0.89483932 0.9401382  0.9401382\n",
            "  0.89483932 0.81068432 0.69905581 0.57375342]\n",
            " [0.60279818 0.73444367 0.85172308 0.9401382  0.98773022 0.98773022\n",
            "  0.9401382  0.85172308 0.73444367 0.60279818]\n",
            " [0.60279818 0.73444367 0.85172308 0.9401382  0.98773022 0.98773022\n",
            "  0.9401382  0.85172308 0.73444367 0.60279818]\n",
            " [0.57375342 0.69905581 0.81068432 0.89483932 0.9401382  0.9401382\n",
            "  0.89483932 0.81068432 0.69905581 0.57375342]\n",
            " [0.51979489 0.63331324 0.73444367 0.81068432 0.85172308 0.85172308\n",
            "  0.81068432 0.73444367 0.63331324 0.51979489]\n",
            " [0.44822088 0.54610814 0.63331324 0.69905581 0.73444367 0.73444367\n",
            "  0.69905581 0.63331324 0.54610814 0.44822088]\n",
            " [0.36787944 0.44822088 0.51979489 0.57375342 0.60279818 0.60279818\n",
            "  0.57375342 0.51979489 0.44822088 0.36787944]]\n"
          ]
        }
      ],
      "source": [
        "a, b = np.meshgrid(np.linspace(-1,1,10), np.linspace(-1,1,10))\n",
        "c = np.sqrt(a*a+b*b)\n",
        "sigma, mu = 1.0, 0.0\n",
        "d = np.exp(-( (c-mu)**2 / ( 2.0 * sigma**2 ) ) )\n",
        "print(d)"
      ]
    },
    {
      "cell_type": "markdown",
      "metadata": {
        "id": "UMqXdBTO0ZQF"
      },
      "source": [
        "#### 57. How to randomly place p elements in a 2D array? (★★☆) \n",
        "(**hint**: np.put, np.random.choice)"
      ]
    },
    {
      "cell_type": "code",
      "execution_count": 57,
      "metadata": {
        "id": "bt399TIY0ZQF",
        "colab": {
          "base_uri": "https://localhost:8080/"
        },
        "outputId": "5c8866d9-8785-4762-f4da-63110eb6680d"
      },
      "outputs": [
        {
          "output_type": "stream",
          "name": "stdout",
          "text": [
            "[[0. 0. 0. 0. 0. 0. 0. 0. 0. 0.]\n",
            " [0. 0. 0. 0. 0. 0. 0. 0. 0. 0.]\n",
            " [0. 1. 0. 1. 0. 0. 0. 0. 0. 0.]\n",
            " [0. 0. 0. 0. 0. 0. 0. 0. 0. 0.]\n",
            " [0. 0. 0. 0. 0. 0. 0. 0. 0. 0.]\n",
            " [0. 0. 0. 0. 0. 0. 0. 0. 0. 0.]\n",
            " [0. 0. 0. 0. 0. 0. 0. 0. 0. 0.]\n",
            " [0. 0. 0. 0. 0. 0. 0. 1. 0. 0.]\n",
            " [0. 0. 0. 0. 0. 0. 0. 0. 0. 0.]\n",
            " [0. 0. 0. 0. 0. 0. 0. 0. 0. 0.]]\n"
          ]
        }
      ],
      "source": [
        "a = 10\n",
        "b = 3\n",
        "c = np.zeros((a,a))\n",
        "np.put(c, np.random.choice(range(a*a), b, replace=False),1)\n",
        "print(c)"
      ]
    },
    {
      "cell_type": "markdown",
      "metadata": {
        "id": "oD2Bnc6B0ZQF"
      },
      "source": [
        "#### 58. Subtract the mean of each row of a matrix (★★☆) \n",
        "(**hint**: mean(axis=,keepdims=))"
      ]
    },
    {
      "cell_type": "code",
      "execution_count": 59,
      "metadata": {
        "id": "qWZYaf6m0ZQF",
        "colab": {
          "base_uri": "https://localhost:8080/"
        },
        "outputId": "00bc35bc-b39a-4974-ef04-62dfe5f5249c"
      },
      "outputs": [
        {
          "output_type": "stream",
          "name": "stdout",
          "text": [
            "[[ 0.19360366  0.03455431  0.12749027  0.31926934 -0.43531032  0.38188835\n",
            "  -0.29881983 -0.30619757 -0.12130117  0.10482296]\n",
            " [ 0.26893931 -0.63645717  0.00220872  0.13526853  0.27709367 -0.3402351\n",
            "   0.25357551  0.18695659  0.28757595 -0.434926  ]\n",
            " [ 0.2433214   0.33623059 -0.55360212 -0.17773651  0.10215551  0.06724261\n",
            "   0.30647456  0.06160336  0.18269792 -0.56838731]\n",
            " [-0.03708564 -0.06714205 -0.5261636   0.12485504 -0.14594929 -0.08412994\n",
            "   0.25887792 -0.34265882  0.40770204  0.41169433]\n",
            " [-0.03171058 -0.28996079 -0.32073172 -0.2510989   0.16193242  0.35338773\n",
            "   0.31945381  0.10098937 -0.49811031  0.45584896]]\n"
          ]
        }
      ],
      "source": [
        "a = np.random.rand(5, 10)\n",
        "b = a - a.mean(axis=1, keepdims=True)\n",
        "print(b)"
      ]
    },
    {
      "cell_type": "markdown",
      "metadata": {
        "id": "OSjYXRh80ZQG"
      },
      "source": [
        "#### 59. How to sort an array by the nth column? (★★☆) \n",
        "(**hint**: argsort)"
      ]
    },
    {
      "cell_type": "code",
      "execution_count": 60,
      "metadata": {
        "id": "Rratfkag0ZQG",
        "colab": {
          "base_uri": "https://localhost:8080/"
        },
        "outputId": "fbff0a01-d148-443b-8b26-c6bbe0f1664a"
      },
      "outputs": [
        {
          "output_type": "stream",
          "name": "stdout",
          "text": [
            "[[3 7 5]\n",
            " [3 8 7]\n",
            " [6 5 7]]\n",
            "[[6 5 7]\n",
            " [3 7 5]\n",
            " [3 8 7]]\n"
          ]
        }
      ],
      "source": [
        "Z = np.random.randint(0,10,(3,3))\n",
        "print(Z)\n",
        "print(Z[Z[:,1].argsort()])"
      ]
    },
    {
      "cell_type": "markdown",
      "metadata": {
        "id": "n6qBqddt0ZQG"
      },
      "source": [
        "#### 60. How to tell if a given 2D array has null columns? (★★☆) \n",
        "(**hint**: any, ~)"
      ]
    },
    {
      "cell_type": "code",
      "execution_count": 61,
      "metadata": {
        "id": "JWR09Iel0ZQG",
        "colab": {
          "base_uri": "https://localhost:8080/"
        },
        "outputId": "0eedea1b-4784-4050-c5ce-1f266a288330"
      },
      "outputs": [
        {
          "output_type": "stream",
          "name": "stdout",
          "text": [
            "True\n"
          ]
        }
      ],
      "source": [
        "q = np.random.randint(0,3,(3,10))\n",
        "print((~q.any(axis=0)).any())"
      ]
    },
    {
      "cell_type": "markdown",
      "metadata": {
        "id": "0LnFkUFD0ZQH"
      },
      "source": [
        "#### 61. Find the nearest value from a given value in an array (★★☆) \n",
        "(**hint**: np.abs, argmin, flat)"
      ]
    },
    {
      "cell_type": "code",
      "execution_count": 62,
      "metadata": {
        "id": "TjiPGHl_0ZQH",
        "colab": {
          "base_uri": "https://localhost:8080/"
        },
        "outputId": "5d8d9a8d-bfc3-40ef-f6f8-f78850f3ef32"
      },
      "outputs": [
        {
          "output_type": "stream",
          "name": "stdout",
          "text": [
            "0.4880771327611205\n"
          ]
        }
      ],
      "source": [
        "a = np.random.uniform(0,1,10)\n",
        "b = 0.5\n",
        "c = a.flat[np.abs(a - b).argmin()]\n",
        "print(c)"
      ]
    },
    {
      "cell_type": "markdown",
      "metadata": {
        "id": "aCkufXzT0ZQH"
      },
      "source": [
        "#### 62. Considering two arrays with shape (1,3) and (3,1), how to compute their sum using an iterator? (★★☆) \n",
        "(**hint**: np.nditer)"
      ]
    },
    {
      "cell_type": "code",
      "execution_count": 63,
      "metadata": {
        "id": "1T6DYu1F0ZQH",
        "colab": {
          "base_uri": "https://localhost:8080/"
        },
        "outputId": "8bdb37f9-ff14-460d-be0c-7c32ff03da42"
      },
      "outputs": [
        {
          "output_type": "stream",
          "name": "stdout",
          "text": [
            "[[0 1 2]\n",
            " [1 2 3]\n",
            " [2 3 4]]\n"
          ]
        }
      ],
      "source": [
        "a = np.arange(3).reshape(3,1)\n",
        "b = np.arange(3).reshape(1,3)\n",
        "i = np.nditer([a,b,None])\n",
        "for x,y,z in i: \n",
        "  z[...] = x + y\n",
        "print(i.operands[2])"
      ]
    },
    {
      "cell_type": "markdown",
      "metadata": {
        "id": "3re4ZnUe0ZQI"
      },
      "source": [
        "#### 63. Create an array class that has a name attribute (★★☆) \n",
        "(**hint**: class method)"
      ]
    },
    {
      "cell_type": "code",
      "execution_count": 64,
      "metadata": {
        "id": "hrsAwe340ZQI",
        "colab": {
          "base_uri": "https://localhost:8080/"
        },
        "outputId": "37088efc-386e-4985-836d-5510418b48fd"
      },
      "outputs": [
        {
          "output_type": "stream",
          "name": "stdout",
          "text": [
            "range_10\n"
          ]
        }
      ],
      "source": [
        "class NamedArray(np.ndarray):\n",
        "    def __new__(cls, array, name=\"no name\"):\n",
        "        obj = np.asarray(array).view(cls)\n",
        "        obj.name = name\n",
        "        return obj\n",
        "    def __array_finalize__(self, obj):\n",
        "        if obj is None: return\n",
        "        self.info = getattr(obj, 'name', \"no name\")\n",
        "\n",
        "Z = NamedArray(np.arange(10), \"range_10\")\n",
        "print (Z.name)"
      ]
    },
    {
      "cell_type": "markdown",
      "metadata": {
        "id": "ul2uG8mc0ZQI"
      },
      "source": [
        "#### 64. Consider a given vector, how to add 1 to each element indexed by a second vector (be careful with repeated indices)? (★★★) \n",
        "(**hint**: np.bincount | np.add.at)"
      ]
    },
    {
      "cell_type": "code",
      "execution_count": 65,
      "metadata": {
        "id": "CFjkVHnX0ZQJ",
        "colab": {
          "base_uri": "https://localhost:8080/"
        },
        "outputId": "d83e48ff-08c3-4ba6-f5da-f3cc826c05cc"
      },
      "outputs": [
        {
          "output_type": "stream",
          "name": "stdout",
          "text": [
            "[1. 3. 3. 3. 1. 6. 3. 4. 2. 4.]\n"
          ]
        }
      ],
      "source": [
        "a = np.ones(10)\n",
        "b = np.random.randint(0,len(a),20)\n",
        "np.add.at(a, b, 1)\n",
        "print(a)"
      ]
    },
    {
      "cell_type": "markdown",
      "metadata": {
        "id": "JcdgO8s60ZQJ"
      },
      "source": [
        "#### 65. How to accumulate elements of a vector (X) to an array (F) based on an index list (I)? (★★★) \n",
        "(**hint**: np.bincount)"
      ]
    },
    {
      "cell_type": "code",
      "execution_count": 66,
      "metadata": {
        "id": "mlnSYrC40ZQK",
        "colab": {
          "base_uri": "https://localhost:8080/"
        },
        "outputId": "b4dc0071-08b0-4160-d14d-df2a75b32d08"
      },
      "outputs": [
        {
          "output_type": "stream",
          "name": "stdout",
          "text": [
            "[0. 7. 0. 6. 5. 0. 0. 0. 0. 3.]\n"
          ]
        }
      ],
      "source": [
        "a = [1,2,3,4,5,6]\n",
        "b = [1,3,9,3,4,1]\n",
        "c = np.bincount(b,a)\n",
        "print(c)"
      ]
    },
    {
      "cell_type": "markdown",
      "metadata": {
        "id": "tweplFTu0ZQK"
      },
      "source": [
        "#### 66. Considering a (w,h,3) image of (dtype=ubyte), compute the number of unique colors (★★★) \n",
        "(**hint**: np.unique)"
      ]
    },
    {
      "cell_type": "code",
      "execution_count": 67,
      "metadata": {
        "id": "caEN20mn0ZQL",
        "colab": {
          "base_uri": "https://localhost:8080/"
        },
        "outputId": "e257af56-4d15-4009-a79f-87833f583d5d"
      },
      "outputs": [
        {
          "output_type": "stream",
          "name": "stdout",
          "text": [
            "64\n"
          ]
        }
      ],
      "source": [
        "w, h = 256, 256\n",
        "a = np.random.randint(0, 4, (h, w, 3)).astype(np.ubyte)\n",
        "colors = np.unique(a.reshape(-1, 3), axis=0)\n",
        "b = len(colors)\n",
        "print(b)"
      ]
    },
    {
      "cell_type": "markdown",
      "metadata": {
        "id": "aDOQ1cBV0ZQL"
      },
      "source": [
        "#### 67. Considering a four dimensions array, how to get sum over the last two axis at once? (★★★) \n",
        "(**hint**: sum(axis=(-2,-1)))"
      ]
    },
    {
      "cell_type": "code",
      "execution_count": 68,
      "metadata": {
        "id": "AVzC_VV-0ZQL",
        "colab": {
          "base_uri": "https://localhost:8080/"
        },
        "outputId": "15bb689e-bb9b-41c2-81c1-1d0d900ffbf8"
      },
      "outputs": [
        {
          "output_type": "stream",
          "name": "stdout",
          "text": [
            "[[54 51 72 63]\n",
            " [25 66 50 53]\n",
            " [44 50 63 48]]\n"
          ]
        }
      ],
      "source": [
        "a = np.random.randint(0,10,(3,4,3,4))\n",
        "sum = a.sum(axis=(-2,-1))\n",
        "print(sum)"
      ]
    },
    {
      "cell_type": "markdown",
      "metadata": {
        "id": "IdRKt4ob0ZQL"
      },
      "source": [
        "#### 68. Considering a one-dimensional vector D, how to compute means of subsets of D using a vector S of same size describing subset  indices? (★★★) \n",
        "(**hint**: np.bincount)"
      ]
    },
    {
      "cell_type": "code",
      "execution_count": 69,
      "metadata": {
        "id": "ulUitF1l0ZQM",
        "colab": {
          "base_uri": "https://localhost:8080/"
        },
        "outputId": "48418e87-bd2a-4a20-e9a3-97f4562b3870"
      },
      "outputs": [
        {
          "output_type": "stream",
          "name": "stdout",
          "text": [
            "[0.4734908  0.41849013 0.41328435 0.27742905 0.43046835 0.62170759\n",
            " 0.42868329 0.44650647 0.51596897 0.37713732]\n"
          ]
        }
      ],
      "source": [
        "a = np.random.uniform(0,1,100)\n",
        "b = np.random.randint(0,10,100)\n",
        "a_sums = np.bincount(b, weights=a)\n",
        "a_counts = np.bincount(b)\n",
        "a_means = a_sums / a_counts\n",
        "print(a_means)\n"
      ]
    },
    {
      "cell_type": "markdown",
      "metadata": {
        "id": "WZyRbqOk0ZQM"
      },
      "source": [
        "#### 69. How to get the diagonal of a dot product? (★★★) \n",
        "(**hint**: np.diag)"
      ]
    },
    {
      "cell_type": "code",
      "execution_count": 71,
      "metadata": {
        "id": "5rhSU0c80ZQN",
        "colab": {
          "base_uri": "https://localhost:8080/"
        },
        "outputId": "ee5ec6aa-0c5a-481e-95e8-54dd131e80d2"
      },
      "outputs": [
        {
          "output_type": "stream",
          "name": "stdout",
          "text": [
            "[1.78412708 0.72536412 0.94083838 0.90654514 0.83980191]\n"
          ]
        }
      ],
      "source": [
        "a = np.random.uniform(0,1,(5,5))\n",
        "b = np.random.uniform(0,1,(5,5))\n",
        "print(np.diag(np.dot(a, b)))"
      ]
    },
    {
      "cell_type": "markdown",
      "metadata": {
        "id": "IlU6bfrt0ZQO"
      },
      "source": [
        "#### 70. Consider the vector \\[1, 2, 3, 4, 5\\], how to build a new vector with 3 consecutive zeros interleaved between each value? (★★★) \n",
        "(**hint**: array\\[::4\\])"
      ]
    },
    {
      "cell_type": "code",
      "execution_count": 72,
      "metadata": {
        "id": "hOwPxBcq0ZQO",
        "colab": {
          "base_uri": "https://localhost:8080/"
        },
        "outputId": "aa37bc31-89ff-492c-c6b2-f259f3ca0d87"
      },
      "outputs": [
        {
          "output_type": "stream",
          "name": "stdout",
          "text": [
            "[1. 0. 0. 0. 2. 0. 0. 0. 3. 0. 0. 0. 4. 0. 0. 0. 5.]\n"
          ]
        }
      ],
      "source": [
        "a = np.array([1,2,3,4,5])\n",
        "n = 3\n",
        "b = np.zeros(len(a) + (len(a)-1)*(n))\n",
        "b[::n+1] = a\n",
        "print(b)"
      ]
    },
    {
      "cell_type": "markdown",
      "metadata": {
        "id": "G2t3PWEZ0ZQP"
      },
      "source": [
        "#### 71. Consider an array of dimension (5,5,3), how to mulitply it by an array with dimensions (5,5)? (★★★) \n",
        "(**hint**: array\\[:, :, None\\])"
      ]
    },
    {
      "cell_type": "code",
      "execution_count": 73,
      "metadata": {
        "collapsed": true,
        "id": "CNXZ_J320ZQP",
        "colab": {
          "base_uri": "https://localhost:8080/"
        },
        "outputId": "d27094a6-3ee9-4525-b236-c0d880e72a9b"
      },
      "outputs": [
        {
          "output_type": "stream",
          "name": "stdout",
          "text": [
            "[[[2. 2. 2.]\n",
            "  [2. 2. 2.]\n",
            "  [2. 2. 2.]\n",
            "  [2. 2. 2.]\n",
            "  [2. 2. 2.]]\n",
            "\n",
            " [[2. 2. 2.]\n",
            "  [2. 2. 2.]\n",
            "  [2. 2. 2.]\n",
            "  [2. 2. 2.]\n",
            "  [2. 2. 2.]]\n",
            "\n",
            " [[2. 2. 2.]\n",
            "  [2. 2. 2.]\n",
            "  [2. 2. 2.]\n",
            "  [2. 2. 2.]\n",
            "  [2. 2. 2.]]\n",
            "\n",
            " [[2. 2. 2.]\n",
            "  [2. 2. 2.]\n",
            "  [2. 2. 2.]\n",
            "  [2. 2. 2.]\n",
            "  [2. 2. 2.]]\n",
            "\n",
            " [[2. 2. 2.]\n",
            "  [2. 2. 2.]\n",
            "  [2. 2. 2.]\n",
            "  [2. 2. 2.]\n",
            "  [2. 2. 2.]]]\n"
          ]
        }
      ],
      "source": [
        "a = np.ones((5,5,3))\n",
        "b = 2*np.ones((5,5))\n",
        "print(a * b[:,:,None])"
      ]
    },
    {
      "cell_type": "markdown",
      "metadata": {
        "id": "TPsV9tAl0ZQP"
      },
      "source": [
        "#### 72. How to swap two rows of an array? (★★★) \n",
        "(**hint**: array\\[\\[\\]\\] = array\\[\\[\\]\\])"
      ]
    },
    {
      "cell_type": "code",
      "execution_count": 76,
      "metadata": {
        "id": "j8AdN6yt0ZQQ",
        "colab": {
          "base_uri": "https://localhost:8080/"
        },
        "outputId": "e792146a-54ee-47d5-98ce-6914fb270067"
      },
      "outputs": [
        {
          "output_type": "stream",
          "name": "stdout",
          "text": [
            "Before swapping\n",
            " [[ 0  1  2  3  4]\n",
            " [ 5  6  7  8  9]\n",
            " [10 11 12 13 14]\n",
            " [15 16 17 18 19]\n",
            " [20 21 22 23 24]]\n",
            "After swapping\n",
            " [[ 5  6  7  8  9]\n",
            " [ 0  1  2  3  4]\n",
            " [10 11 12 13 14]\n",
            " [15 16 17 18 19]\n",
            " [20 21 22 23 24]]\n"
          ]
        }
      ],
      "source": [
        "a = np.arange(25).reshape(5,5)\n",
        "print('Before swapping\\n',a)\n",
        "a[[0,1]] = a[[1,0]]\n",
        "print('After swapping\\n',a)"
      ]
    },
    {
      "cell_type": "markdown",
      "metadata": {
        "id": "ADLG5wGU0ZQQ"
      },
      "source": [
        "#### 73. Consider a set of 10 triplets describing 10 triangles (with shared vertices), find the set of unique line segments composing all the  triangles (★★★) \n",
        "(**hint**: repeat, np.roll, np.sort, view, np.unique)"
      ]
    },
    {
      "cell_type": "code",
      "execution_count": 77,
      "metadata": {
        "id": "U9tOvPz50ZQR",
        "colab": {
          "base_uri": "https://localhost:8080/"
        },
        "outputId": "3fd5ec00-25b3-4057-e468-595928a72b2d"
      },
      "outputs": [
        {
          "output_type": "stream",
          "name": "stdout",
          "text": [
            "[( 8, 47) ( 8, 86) (30, 36) (30, 55) (33, 45) (33, 82) (34, 68) (34, 72)\n",
            " (35, 55) (35, 60) (35, 86) (35, 90) (36, 55) (37, 49) (37, 64) (38, 62)\n",
            " (38, 83) (40, 51) (40, 67) (45, 82) (47, 86) (49, 64) (51, 67) (55, 90)\n",
            " (60, 86) (62, 83) (68, 72) (80, 83) (80, 90) (83, 90)]\n"
          ]
        }
      ],
      "source": [
        "faces = np.random.randint(0,100,(10,3))\n",
        "a = np.roll(faces.repeat(2,axis=1),-1,axis=1)\n",
        "a = a.reshape(len(a)*3,2)\n",
        "a = np.sort(a,axis=1)\n",
        "b = a.view( dtype=[('p0',a.dtype),('p1',a.dtype)] )\n",
        "b = np.unique(b)\n",
        "print(b)"
      ]
    },
    {
      "cell_type": "markdown",
      "metadata": {
        "id": "gXsxvKfz0ZQR"
      },
      "source": [
        "#### 74. Given an array C that is a bincount, how to produce an array A such that np.bincount(A) == C? (★★★) \n",
        "(**hint**: np.repeat)"
      ]
    },
    {
      "cell_type": "code",
      "execution_count": 78,
      "metadata": {
        "id": "uhQp2mqK0ZQS",
        "colab": {
          "base_uri": "https://localhost:8080/"
        },
        "outputId": "461e9d74-b5d4-457c-f975-0f5bb3ced1c1"
      },
      "outputs": [
        {
          "output_type": "stream",
          "name": "stdout",
          "text": [
            "[1 1 2 3 4 4 6]\n"
          ]
        }
      ],
      "source": [
        "a = np.bincount([1,1,2,3,4,4,6])\n",
        "b = np.repeat(np.arange(len(a)),a)\n",
        "print(b)"
      ]
    },
    {
      "cell_type": "markdown",
      "metadata": {
        "id": "1lmGmZVZ0ZQS"
      },
      "source": [
        "#### 75. How to compute averages using a sliding window over an array? (★★★) \n",
        "(**hint**: np.cumsum)"
      ]
    },
    {
      "cell_type": "code",
      "execution_count": 79,
      "metadata": {
        "id": "wU3Vw10O0ZQS",
        "colab": {
          "base_uri": "https://localhost:8080/"
        },
        "outputId": "aba6d20e-0c89-49a9-b51f-a4a053c7160e"
      },
      "outputs": [
        {
          "output_type": "stream",
          "name": "stdout",
          "text": [
            "[ 1.  2.  3.  4.  5.  6.  7.  8.  9. 10. 11. 12. 13. 14. 15. 16. 17. 18.]\n"
          ]
        }
      ],
      "source": [
        "def average(a, n=3) :\n",
        "    r = np.cumsum(a, dtype=float)\n",
        "    r[n:] = r[n:] - r[:-n]\n",
        "    return r[n - 1:] / n\n",
        "a = np.arange(20)\n",
        "print(average(a, n=3))"
      ]
    },
    {
      "cell_type": "markdown",
      "metadata": {
        "id": "dqbf_gQ90ZQT"
      },
      "source": [
        "#### 76. Consider a one-dimensional array Z, build a two-dimensional array whose first row is (Z\\[0\\],Z\\[1\\],Z\\[2\\]) and each subsequent row is  shifted by 1 (last row should be (Z\\[-3\\],Z\\[-2\\],Z\\[-1\\]) (★★★) \n",
        "(**hint**: from numpy.lib import stride_tricks)"
      ]
    },
    {
      "cell_type": "code",
      "execution_count": 80,
      "metadata": {
        "id": "ZxDmNtH_0ZQT",
        "colab": {
          "base_uri": "https://localhost:8080/"
        },
        "outputId": "bb077092-8f9c-4974-c0ec-fbb5f51c7123"
      },
      "outputs": [
        {
          "output_type": "stream",
          "name": "stdout",
          "text": [
            "[[0 1 2]\n",
            " [1 2 3]\n",
            " [2 3 4]\n",
            " [3 4 5]\n",
            " [4 5 6]\n",
            " [5 6 7]\n",
            " [6 7 8]\n",
            " [7 8 9]]\n"
          ]
        }
      ],
      "source": [
        "from numpy.lib import stride_tricks\n",
        "\n",
        "def rolling(a, window):\n",
        "    shape = (a.size - window + 1, window)\n",
        "    strides = (a.strides[0], a.strides[0])\n",
        "    return stride_tricks.as_strided(a, shape=shape, strides=strides)\n",
        "Z = rolling(np.arange(10), 3)\n",
        "print(Z)"
      ]
    },
    {
      "cell_type": "markdown",
      "metadata": {
        "id": "FJqBCZHR0ZQT"
      },
      "source": [
        "#### 77. How to negate a boolean, or to change the sign of a float inplace? (★★★) \n",
        "(**hint**: np.logical_not, np.negative)"
      ]
    },
    {
      "cell_type": "code",
      "execution_count": 81,
      "metadata": {
        "id": "O7Eta7cH0ZQT",
        "colab": {
          "base_uri": "https://localhost:8080/"
        },
        "outputId": "f551ad57-1788-4cf0-9075-e0bc3ec02cf9"
      },
      "outputs": [
        {
          "output_type": "stream",
          "name": "stdout",
          "text": [
            "[0 1 0 0 1 1 0 0 1 0 1 1 1 1 0 1 1 1 1 0 1 0 1 0 0 1 1 0 1 1 0 0 0 1 1 1 0\n",
            " 0 1 1 0 1 0 0 0 1 0 0 0 0 1 1 1 1 1 0 0 1 1 1 1 1 1 1 1 0 1 1 0 1 0 0 1 0\n",
            " 0 0 1 0 0 1 0 0 1 1 0 1 1 1 0 0 0 1 1 0 1 0 0 1 1 0]\n",
            "[ 0.62304549 -0.81965872  0.76979561 -0.34330347 -0.45689968  0.03050836\n",
            "  0.31300532 -0.01294723  0.52003102 -0.30116332 -0.81636367  0.59984371\n",
            "  0.04234731 -0.27409942  0.13801481 -0.36099899 -0.27201524  0.53593384\n",
            " -0.00590686  0.15939821  0.96604253 -0.55963784  0.67179592  0.84003323\n",
            " -0.54004806  0.63372706 -0.77724029  0.9834759   0.97397389 -0.75932674\n",
            " -0.31188876 -0.07619019 -0.19466209  0.99658623  0.82705274 -0.77764661\n",
            "  0.96668731  0.60582164  0.94642348  0.49658759  0.62401467 -0.30744993\n",
            "  0.68746948 -0.77380619 -0.08372455  0.82283792  0.60988307 -0.44358203\n",
            "  0.01418441  0.09021608  0.14056353 -0.50396204 -0.54555125 -0.78884919\n",
            " -0.20648467 -0.93892012  0.42689843  0.4021642   0.69971762  0.06920078\n",
            "  0.58047228 -0.45591603  0.86331383 -0.910204    0.7875218   0.36893136\n",
            " -0.05164208 -0.27643358  0.286556    0.86989347 -0.11047297 -0.23903193\n",
            " -0.17999806  0.78923587 -0.65691901 -0.56043374  0.82476752  0.30424913\n",
            "  0.01136109 -0.56474418 -0.83564644 -0.79569871  0.79780532 -0.83253879\n",
            " -0.06869009  0.46569611  0.77308858  0.46189585  0.68120612 -0.21516625\n",
            " -0.55293824  0.04841361 -0.41462997  0.73364471 -0.59917188 -0.4032004\n",
            " -0.54977371 -0.07617536 -0.82047487  0.9804847 ]\n"
          ]
        }
      ],
      "source": [
        "a = np.random.randint(0,2,100)\n",
        "np.logical_not(a, out=a)\n",
        "print(a)\n",
        "a = np.random.uniform(-1.0,1.0,100)\n",
        "np.negative(a, out=a)\n",
        "print(a)"
      ]
    },
    {
      "cell_type": "markdown",
      "metadata": {
        "id": "NFk7Pp5d0ZQU"
      },
      "source": [
        "#### 78. Consider 2 sets of points P0,P1 describing lines (2d) and a point p, how to compute distance from p to each line i  (P0\\[i\\],P1\\[i\\])? (★★★)"
      ]
    },
    {
      "cell_type": "code",
      "execution_count": 82,
      "metadata": {
        "id": "qQFurA4J0ZQU",
        "colab": {
          "base_uri": "https://localhost:8080/"
        },
        "outputId": "a334a5bf-7d4e-424b-997c-17a7e5a285df"
      },
      "outputs": [
        {
          "output_type": "stream",
          "name": "stdout",
          "text": [
            "[ 4.46709178  3.29518859 14.05219857  6.13327719 17.71871689  7.71925833\n",
            " 10.63260492  8.42752211 12.63951605  3.04300648]\n"
          ]
        }
      ],
      "source": [
        "def distance(P0, P1, p):\n",
        "    T = P1 - P0\n",
        "    L = (T**2).sum(axis=1)\n",
        "    U = -((P0[:,0]-p[...,0])*T[:,0] + (P0[:,1]-p[...,1])*T[:,1]) / L\n",
        "    U = U.reshape(len(U),1)\n",
        "    D = P0 + U*T - p\n",
        "    return np.sqrt((D**2).sum(axis=1))\n",
        "\n",
        "P0 = np.random.uniform(-10,10,(10,2))\n",
        "P1 = np.random.uniform(-10,10,(10,2))\n",
        "p  = np.random.uniform(-10,10,( 1,2))\n",
        "print(distance(P0, P1, p))"
      ]
    },
    {
      "cell_type": "markdown",
      "metadata": {
        "id": "FTloOXzq0ZQU"
      },
      "source": [
        "#### 79. Consider 2 sets of points P0,P1 describing lines (2d) and a set of points P, how to compute distance from each point j (P\\[j\\]) to each line i (P0\\[i\\],P1\\[i\\])? (★★★)"
      ]
    },
    {
      "cell_type": "code",
      "execution_count": 83,
      "metadata": {
        "id": "5D1o_0p50ZQV",
        "colab": {
          "base_uri": "https://localhost:8080/"
        },
        "outputId": "024f0b84-206d-43fc-e11d-8eb1b76769f1"
      },
      "outputs": [
        {
          "output_type": "stream",
          "name": "stdout",
          "text": [
            "[[1.29686292e+01 7.38198514e+00 1.05140239e+00 7.42788817e+00\n",
            "  6.46386133e+00 2.93505844e+00 6.44506233e-01 9.25515877e+00\n",
            "  5.49119233e+00 4.20515529e+00]\n",
            " [1.18255803e+01 9.72159891e+00 2.33974304e-01 6.36227092e+00\n",
            "  5.92506418e+00 8.74142447e-01 1.71698688e+00 9.56092524e+00\n",
            "  3.93469408e+00 2.01398739e+00]\n",
            " [5.17423002e+00 8.80522872e+00 6.76198023e+00 3.43047555e-01\n",
            "  9.34582512e-01 4.18684021e+00 9.75040809e-01 3.11663385e+00\n",
            "  2.25917258e+00 2.56332646e+00]\n",
            " [8.89295912e+00 2.11687433e+00 2.36341582e+00 3.00881884e+00\n",
            "  3.02387175e-02 4.09723325e+00 1.00075101e+01 2.48269497e-01\n",
            "  3.45701256e+00 6.42737962e+00]\n",
            " [4.01131741e+00 4.23751362e-01 7.36494954e+00 1.80086121e+00\n",
            "  4.24116304e+00 1.14995171e+00 7.34928636e+00 2.66290412e+00\n",
            "  1.72204541e+00 1.26061544e+00]\n",
            " [1.14999509e+01 1.16659536e+00 3.73044448e-03 5.73850334e+00\n",
            "  3.40794258e+00 4.68591906e+00 6.80188671e+00 4.42911352e+00\n",
            "  5.30844145e+00 6.57661658e+00]\n",
            " [1.17112798e+00 2.85316701e+00 1.26571400e+01 6.91620814e+00\n",
            "  8.78019378e+00 6.59273594e+00 4.79415819e+00 5.90500236e+00\n",
            "  7.16746944e+00 4.07391285e+00]\n",
            " [4.40541682e+00 3.71827738e+00 7.19034832e+00 1.29105422e+00\n",
            "  3.00419546e+00 2.39575272e+00 4.07560029e+00 4.47263011e-01\n",
            "  1.99356126e+00 2.90714308e-01]\n",
            " [3.36174978e+00 5.24145033e+00 8.32382403e+00 2.28530784e+00\n",
            "  3.65327575e+00 3.98505575e+00 2.53046280e+00 5.15022692e-01\n",
            "  3.29393004e+00 1.94656292e+00]\n",
            " [7.27007459e+00 9.28652167e+00 4.71761052e+00 1.77648808e+00\n",
            "  1.27624873e+00 2.68396976e+00 1.40074837e+00 5.25620449e+00\n",
            "  3.45423497e-01 1.22931284e+00]]\n"
          ]
        }
      ],
      "source": [
        "P0 = np.random.uniform(-10, 10, (10,2))\n",
        "P1 = np.random.uniform(-10,10,(10,2))\n",
        "p = np.random.uniform(-10, 10, (10,2))\n",
        "print(np.array([distance(P0,P1,p_i) for p_i in p]))"
      ]
    },
    {
      "cell_type": "markdown",
      "metadata": {
        "id": "ljZt-L2a0ZQV"
      },
      "source": [
        "#### 80. Consider an arbitrary array, write a function that extract a subpart with a fixed shape and centered on a given element (pad with a `fill` value when necessary) (★★★) \n",
        "(**hint**: minimum, maximum)"
      ]
    },
    {
      "cell_type": "code",
      "execution_count": 84,
      "metadata": {
        "id": "6HaodUWh0ZQV",
        "colab": {
          "base_uri": "https://localhost:8080/"
        },
        "outputId": "79d104b7-fad7-43ef-e05f-47b02b684850"
      },
      "outputs": [
        {
          "output_type": "stream",
          "name": "stdout",
          "text": [
            "[[1 9 7 0 5 5 0 9 6 8]\n",
            " [3 5 5 4 6 4 0 7 7 2]\n",
            " [8 6 3 9 7 6 5 6 1 3]\n",
            " [7 4 6 7 1 5 5 4 4 5]\n",
            " [7 5 6 2 6 8 8 8 5 7]\n",
            " [3 8 1 2 7 9 8 7 9 4]\n",
            " [7 9 2 1 1 0 6 3 7 6]\n",
            " [3 2 2 2 4 2 8 0 4 2]\n",
            " [7 6 2 2 8 8 9 4 8 3]\n",
            " [2 6 1 9 7 9 5 8 9 0]]\n",
            "[[0 0 0 0 0]\n",
            " [0 1 9 7 0]\n",
            " [0 3 5 5 4]\n",
            " [0 8 6 3 9]\n",
            " [0 7 4 6 7]]\n"
          ]
        },
        {
          "output_type": "stream",
          "name": "stderr",
          "text": [
            "/usr/local/lib/python3.7/dist-packages/ipykernel_launcher.py:23: FutureWarning: Using a non-tuple sequence for multidimensional indexing is deprecated; use `arr[tuple(seq)]` instead of `arr[seq]`. In the future this will be interpreted as an array index, `arr[np.array(seq)]`, which will result either in an error or a different result.\n"
          ]
        }
      ],
      "source": [
        "Z = np.random.randint(0,10,(10,10))\n",
        "shape = (5,5)\n",
        "fill  = 0\n",
        "position = (1,1)\n",
        "\n",
        "R = np.ones(shape, dtype=Z.dtype)*fill\n",
        "P  = np.array(list(position)).astype(int)\n",
        "Rs = np.array(list(R.shape)).astype(int)\n",
        "Zs = np.array(list(Z.shape)).astype(int)\n",
        "\n",
        "R_start = np.zeros((len(shape),)).astype(int)\n",
        "R_stop  = np.array(list(shape)).astype(int)\n",
        "Z_start = (P-Rs//2)\n",
        "Z_stop  = (P+Rs//2)+Rs%2\n",
        "\n",
        "R_start = (R_start - np.minimum(Z_start,0)).tolist()\n",
        "Z_start = (np.maximum(Z_start,0)).tolist()\n",
        "R_stop = np.maximum(R_start, (R_stop - np.maximum(Z_stop-Zs,0))).tolist()\n",
        "Z_stop = (np.minimum(Z_stop,Zs)).tolist()\n",
        "\n",
        "r = [slice(start,stop) for start,stop in zip(R_start,R_stop)]\n",
        "z = [slice(start,stop) for start,stop in zip(Z_start,Z_stop)]\n",
        "R[r] = Z[z]\n",
        "print(Z)\n",
        "print(R)"
      ]
    },
    {
      "cell_type": "markdown",
      "metadata": {
        "id": "3LMXGVgd0ZQW"
      },
      "source": [
        "#### 81. Consider an array Z = \\[1,2,3,4,5,6,7,8,9,10,11,12,13,14\\], how to generate an array R = \\[\\[1,2,3,4\\], \\[2,3,4,5\\], \\[3,4,5,6\\], ..., \\[11,12,13,14\\]\\]? (★★★) \n",
        "(**hint**: stride\\_tricks.as\\_strided)"
      ]
    },
    {
      "cell_type": "code",
      "execution_count": 86,
      "metadata": {
        "id": "juQp7Q0b0ZQW",
        "colab": {
          "base_uri": "https://localhost:8080/"
        },
        "outputId": "a9679eb3-f6d3-4856-f319-2dcdb9c1c7f8"
      },
      "outputs": [
        {
          "output_type": "stream",
          "name": "stdout",
          "text": [
            "[[ 1  2  3  4]\n",
            " [ 2  3  4  5]\n",
            " [ 3  4  5  6]\n",
            " [ 4  5  6  7]\n",
            " [ 5  6  7  8]\n",
            " [ 6  7  8  9]\n",
            " [ 7  8  9 10]\n",
            " [ 8  9 10 11]\n",
            " [ 9 10 11 12]\n",
            " [10 11 12 13]\n",
            " [11 12 13 14]]\n"
          ]
        }
      ],
      "source": [
        "a = np.arange(1,15,dtype=np.uint32)\n",
        "b = stride_tricks.as_strided(a,(11,4),(4,4))\n",
        "print(b)"
      ]
    },
    {
      "cell_type": "markdown",
      "metadata": {
        "id": "9AqPPkUb0ZQX"
      },
      "source": [
        "#### 82. Compute a matrix rank (★★★) \n",
        "(**hint**: np.linalg.svd) (suggestion: np.linalg.svd)"
      ]
    },
    {
      "cell_type": "code",
      "execution_count": 87,
      "metadata": {
        "id": "qbCXG2PT0ZQX",
        "colab": {
          "base_uri": "https://localhost:8080/"
        },
        "outputId": "6f3e9e2b-76a6-404d-c8f5-3a3236b10c1a"
      },
      "outputs": [
        {
          "output_type": "stream",
          "name": "stdout",
          "text": [
            "10\n"
          ]
        }
      ],
      "source": [
        "a = np.random.uniform(0,1,(10,10))\n",
        "x, y, z = np.linalg.svd(a)\n",
        "rank = np.sum(y > 1e-10)\n",
        "print(rank)"
      ]
    },
    {
      "cell_type": "markdown",
      "metadata": {
        "id": "-ttMdNHC0ZQX"
      },
      "source": [
        "#### 83. How to find the most frequent value in an array? \n",
        "(**hint**: np.bincount, argmax)"
      ]
    },
    {
      "cell_type": "code",
      "execution_count": 88,
      "metadata": {
        "id": "ONDFqCb00ZQY",
        "colab": {
          "base_uri": "https://localhost:8080/"
        },
        "outputId": "7811dfb0-1851-46e9-f56f-9d59f2c987a6"
      },
      "outputs": [
        {
          "output_type": "stream",
          "name": "stdout",
          "text": [
            "0\n"
          ]
        }
      ],
      "source": [
        "Z = np.random.randint(0,10,50)\n",
        "print(np.bincount(Z).argmax())"
      ]
    },
    {
      "cell_type": "markdown",
      "metadata": {
        "id": "PB8ZctnZ0ZQY"
      },
      "source": [
        "#### 84. Extract all the contiguous 3x3 blocks from a random 10x10 matrix (★★★) \n",
        "(**hint**: stride\\_tricks.as\\_strided)"
      ]
    },
    {
      "cell_type": "code",
      "execution_count": 89,
      "metadata": {
        "id": "iElWk46u0ZQZ",
        "colab": {
          "base_uri": "https://localhost:8080/"
        },
        "outputId": "dfe59df5-ecf1-4a46-f668-092a5d0f278d"
      },
      "outputs": [
        {
          "output_type": "stream",
          "name": "stdout",
          "text": [
            "[[[[4 0 2]\n",
            "   [4 0 2]\n",
            "   [3 0 1]]\n",
            "\n",
            "  [[0 2 0]\n",
            "   [0 2 2]\n",
            "   [0 1 0]]\n",
            "\n",
            "  [[2 0 3]\n",
            "   [2 2 3]\n",
            "   [1 0 4]]\n",
            "\n",
            "  [[0 3 2]\n",
            "   [2 3 3]\n",
            "   [0 4 1]]\n",
            "\n",
            "  [[3 2 2]\n",
            "   [3 3 0]\n",
            "   [4 1 4]]\n",
            "\n",
            "  [[2 2 0]\n",
            "   [3 0 1]\n",
            "   [1 4 2]]\n",
            "\n",
            "  [[2 0 2]\n",
            "   [0 1 0]\n",
            "   [4 2 2]]\n",
            "\n",
            "  [[0 2 1]\n",
            "   [1 0 4]\n",
            "   [2 2 3]]]\n",
            "\n",
            "\n",
            " [[[4 0 2]\n",
            "   [3 0 1]\n",
            "   [0 1 0]]\n",
            "\n",
            "  [[0 2 2]\n",
            "   [0 1 0]\n",
            "   [1 0 0]]\n",
            "\n",
            "  [[2 2 3]\n",
            "   [1 0 4]\n",
            "   [0 0 4]]\n",
            "\n",
            "  [[2 3 3]\n",
            "   [0 4 1]\n",
            "   [0 4 2]]\n",
            "\n",
            "  [[3 3 0]\n",
            "   [4 1 4]\n",
            "   [4 2 0]]\n",
            "\n",
            "  [[3 0 1]\n",
            "   [1 4 2]\n",
            "   [2 0 1]]\n",
            "\n",
            "  [[0 1 0]\n",
            "   [4 2 2]\n",
            "   [0 1 2]]\n",
            "\n",
            "  [[1 0 4]\n",
            "   [2 2 3]\n",
            "   [1 2 0]]]\n",
            "\n",
            "\n",
            " [[[3 0 1]\n",
            "   [0 1 0]\n",
            "   [4 2 4]]\n",
            "\n",
            "  [[0 1 0]\n",
            "   [1 0 0]\n",
            "   [2 4 0]]\n",
            "\n",
            "  [[1 0 4]\n",
            "   [0 0 4]\n",
            "   [4 0 0]]\n",
            "\n",
            "  [[0 4 1]\n",
            "   [0 4 2]\n",
            "   [0 0 0]]\n",
            "\n",
            "  [[4 1 4]\n",
            "   [4 2 0]\n",
            "   [0 0 1]]\n",
            "\n",
            "  [[1 4 2]\n",
            "   [2 0 1]\n",
            "   [0 1 4]]\n",
            "\n",
            "  [[4 2 2]\n",
            "   [0 1 2]\n",
            "   [1 4 1]]\n",
            "\n",
            "  [[2 2 3]\n",
            "   [1 2 0]\n",
            "   [4 1 3]]]\n",
            "\n",
            "\n",
            " [[[0 1 0]\n",
            "   [4 2 4]\n",
            "   [0 4 4]]\n",
            "\n",
            "  [[1 0 0]\n",
            "   [2 4 0]\n",
            "   [4 4 3]]\n",
            "\n",
            "  [[0 0 4]\n",
            "   [4 0 0]\n",
            "   [4 3 3]]\n",
            "\n",
            "  [[0 4 2]\n",
            "   [0 0 0]\n",
            "   [3 3 3]]\n",
            "\n",
            "  [[4 2 0]\n",
            "   [0 0 1]\n",
            "   [3 3 2]]\n",
            "\n",
            "  [[2 0 1]\n",
            "   [0 1 4]\n",
            "   [3 2 2]]\n",
            "\n",
            "  [[0 1 2]\n",
            "   [1 4 1]\n",
            "   [2 2 0]]\n",
            "\n",
            "  [[1 2 0]\n",
            "   [4 1 3]\n",
            "   [2 0 3]]]\n",
            "\n",
            "\n",
            " [[[4 2 4]\n",
            "   [0 4 4]\n",
            "   [1 3 2]]\n",
            "\n",
            "  [[2 4 0]\n",
            "   [4 4 3]\n",
            "   [3 2 1]]\n",
            "\n",
            "  [[4 0 0]\n",
            "   [4 3 3]\n",
            "   [2 1 1]]\n",
            "\n",
            "  [[0 0 0]\n",
            "   [3 3 3]\n",
            "   [1 1 2]]\n",
            "\n",
            "  [[0 0 1]\n",
            "   [3 3 2]\n",
            "   [1 2 2]]\n",
            "\n",
            "  [[0 1 4]\n",
            "   [3 2 2]\n",
            "   [2 2 0]]\n",
            "\n",
            "  [[1 4 1]\n",
            "   [2 2 0]\n",
            "   [2 0 1]]\n",
            "\n",
            "  [[4 1 3]\n",
            "   [2 0 3]\n",
            "   [0 1 2]]]\n",
            "\n",
            "\n",
            " [[[0 4 4]\n",
            "   [1 3 2]\n",
            "   [4 3 0]]\n",
            "\n",
            "  [[4 4 3]\n",
            "   [3 2 1]\n",
            "   [3 0 1]]\n",
            "\n",
            "  [[4 3 3]\n",
            "   [2 1 1]\n",
            "   [0 1 4]]\n",
            "\n",
            "  [[3 3 3]\n",
            "   [1 1 2]\n",
            "   [1 4 4]]\n",
            "\n",
            "  [[3 3 2]\n",
            "   [1 2 2]\n",
            "   [4 4 0]]\n",
            "\n",
            "  [[3 2 2]\n",
            "   [2 2 0]\n",
            "   [4 0 3]]\n",
            "\n",
            "  [[2 2 0]\n",
            "   [2 0 1]\n",
            "   [0 3 0]]\n",
            "\n",
            "  [[2 0 3]\n",
            "   [0 1 2]\n",
            "   [3 0 2]]]\n",
            "\n",
            "\n",
            " [[[1 3 2]\n",
            "   [4 3 0]\n",
            "   [3 2 3]]\n",
            "\n",
            "  [[3 2 1]\n",
            "   [3 0 1]\n",
            "   [2 3 3]]\n",
            "\n",
            "  [[2 1 1]\n",
            "   [0 1 4]\n",
            "   [3 3 3]]\n",
            "\n",
            "  [[1 1 2]\n",
            "   [1 4 4]\n",
            "   [3 3 1]]\n",
            "\n",
            "  [[1 2 2]\n",
            "   [4 4 0]\n",
            "   [3 1 3]]\n",
            "\n",
            "  [[2 2 0]\n",
            "   [4 0 3]\n",
            "   [1 3 0]]\n",
            "\n",
            "  [[2 0 1]\n",
            "   [0 3 0]\n",
            "   [3 0 2]]\n",
            "\n",
            "  [[0 1 2]\n",
            "   [3 0 2]\n",
            "   [0 2 0]]]\n",
            "\n",
            "\n",
            " [[[4 3 0]\n",
            "   [3 2 3]\n",
            "   [3 2 3]]\n",
            "\n",
            "  [[3 0 1]\n",
            "   [2 3 3]\n",
            "   [2 3 3]]\n",
            "\n",
            "  [[0 1 4]\n",
            "   [3 3 3]\n",
            "   [3 3 0]]\n",
            "\n",
            "  [[1 4 4]\n",
            "   [3 3 1]\n",
            "   [3 0 4]]\n",
            "\n",
            "  [[4 4 0]\n",
            "   [3 1 3]\n",
            "   [0 4 1]]\n",
            "\n",
            "  [[4 0 3]\n",
            "   [1 3 0]\n",
            "   [4 1 2]]\n",
            "\n",
            "  [[0 3 0]\n",
            "   [3 0 2]\n",
            "   [1 2 3]]\n",
            "\n",
            "  [[3 0 2]\n",
            "   [0 2 0]\n",
            "   [2 3 3]]]]\n"
          ]
        }
      ],
      "source": [
        "a = np.random.randint(0,5,(10,10))\n",
        "n = 3\n",
        "x = 1 + (a.shape[0]-3)\n",
        "y = 1 + (a.shape[1]-3)\n",
        "z = stride_tricks.as_strided(a, shape=(x, y, n, n), strides=a.strides + a.strides)\n",
        "print(z)"
      ]
    },
    {
      "cell_type": "markdown",
      "metadata": {
        "id": "IhgHHwIh0ZQZ"
      },
      "source": [
        "#### 85. Create a 2D array subclass such that Z\\[i,j\\] == Z\\[j,i\\] (★★★) \n",
        "(**hint**: class method)"
      ]
    },
    {
      "cell_type": "code",
      "execution_count": 90,
      "metadata": {
        "id": "vYNns71C0ZQa",
        "colab": {
          "base_uri": "https://localhost:8080/"
        },
        "outputId": "d108605a-f7ee-4c90-e3be-7ac03cef938f"
      },
      "outputs": [
        {
          "output_type": "stream",
          "name": "stdout",
          "text": [
            "[[ 3 14  4  7 10]\n",
            " [14  8  6  0 13]\n",
            " [ 4  6  7 42 10]\n",
            " [ 7  0 42  5 17]\n",
            " [10 13 10 17  0]]\n"
          ]
        }
      ],
      "source": [
        "class Symetric(np.ndarray):\n",
        "    def __setitem__(self, index, value):\n",
        "        i,j = index\n",
        "        super(Symetric, self).__setitem__((i,j), value)\n",
        "        super(Symetric, self).__setitem__((j,i), value)\n",
        "\n",
        "def symetric(Z):\n",
        "    return np.asarray(Z + Z.T - np.diag(Z.diagonal())).view(Symetric)\n",
        "\n",
        "S = symetric(np.random.randint(0,10,(5,5)))\n",
        "S[2,3] = 42\n",
        "print(S)"
      ]
    },
    {
      "cell_type": "markdown",
      "metadata": {
        "id": "VK9p_5990ZQa"
      },
      "source": [
        "#### 86. Consider a set of p matrices wich shape (n,n) and a set of p vectors with shape (n,1). How to compute the sum of of the p matrix products at once? (result has shape (n,1)) (★★★) \n",
        "(**hint**: np.tensordot)"
      ]
    },
    {
      "cell_type": "code",
      "execution_count": 91,
      "metadata": {
        "id": "5MX_Aa5K0ZQa",
        "colab": {
          "base_uri": "https://localhost:8080/"
        },
        "outputId": "f738ea4f-9926-4a7d-fe16-11e439248d6d"
      },
      "outputs": [
        {
          "output_type": "stream",
          "name": "stdout",
          "text": [
            "[[200.]\n",
            " [200.]\n",
            " [200.]\n",
            " [200.]\n",
            " [200.]\n",
            " [200.]\n",
            " [200.]\n",
            " [200.]\n",
            " [200.]\n",
            " [200.]\n",
            " [200.]\n",
            " [200.]\n",
            " [200.]\n",
            " [200.]\n",
            " [200.]\n",
            " [200.]\n",
            " [200.]\n",
            " [200.]\n",
            " [200.]\n",
            " [200.]]\n"
          ]
        }
      ],
      "source": [
        "a, b = 10, 20\n",
        "x = np.ones((a,b,b))\n",
        "y = np.ones((a,b,1))\n",
        "z = np.tensordot(x, y, axes=[[0, 2], [0, 1]])\n",
        "print(z)"
      ]
    },
    {
      "cell_type": "markdown",
      "metadata": {
        "id": "qDdwNiL60ZQb"
      },
      "source": [
        "#### 87. Consider a 16x16 array, how to get the block-sum (block size is 4x4)? (★★★) \n",
        "(**hint**: np.add.reduceat)"
      ]
    },
    {
      "cell_type": "code",
      "execution_count": 93,
      "metadata": {
        "id": "W-dicdmw0ZQb",
        "colab": {
          "base_uri": "https://localhost:8080/"
        },
        "outputId": "5a31ba05-8ee0-426d-abfb-8e98f1d1d033"
      },
      "outputs": [
        {
          "output_type": "stream",
          "name": "stdout",
          "text": [
            "input array\n",
            "[[1. 1. 1. 1. 1. 1. 1. 1. 1. 1. 1. 1. 1. 1. 1. 1.]\n",
            " [1. 1. 1. 1. 1. 1. 1. 1. 1. 1. 1. 1. 1. 1. 1. 1.]\n",
            " [1. 1. 1. 1. 1. 1. 1. 1. 1. 1. 1. 1. 1. 1. 1. 1.]\n",
            " [1. 1. 1. 1. 1. 1. 1. 1. 1. 1. 1. 1. 1. 1. 1. 1.]\n",
            " [1. 1. 1. 1. 1. 1. 1. 1. 1. 1. 1. 1. 1. 1. 1. 1.]\n",
            " [1. 1. 1. 1. 1. 1. 1. 1. 1. 1. 1. 1. 1. 1. 1. 1.]\n",
            " [1. 1. 1. 1. 1. 1. 1. 1. 1. 1. 1. 1. 1. 1. 1. 1.]\n",
            " [1. 1. 1. 1. 1. 1. 1. 1. 1. 1. 1. 1. 1. 1. 1. 1.]\n",
            " [1. 1. 1. 1. 1. 1. 1. 1. 1. 1. 1. 1. 1. 1. 1. 1.]\n",
            " [1. 1. 1. 1. 1. 1. 1. 1. 1. 1. 1. 1. 1. 1. 1. 1.]\n",
            " [1. 1. 1. 1. 1. 1. 1. 1. 1. 1. 1. 1. 1. 1. 1. 1.]\n",
            " [1. 1. 1. 1. 1. 1. 1. 1. 1. 1. 1. 1. 1. 1. 1. 1.]\n",
            " [1. 1. 1. 1. 1. 1. 1. 1. 1. 1. 1. 1. 1. 1. 1. 1.]\n",
            " [1. 1. 1. 1. 1. 1. 1. 1. 1. 1. 1. 1. 1. 1. 1. 1.]\n",
            " [1. 1. 1. 1. 1. 1. 1. 1. 1. 1. 1. 1. 1. 1. 1. 1.]\n",
            " [1. 1. 1. 1. 1. 1. 1. 1. 1. 1. 1. 1. 1. 1. 1. 1.]]\n",
            "Block sum array\n",
            "[[16. 16. 16. 16.]\n",
            " [16. 16. 16. 16.]\n",
            " [16. 16. 16. 16.]\n",
            " [16. 16. 16. 16.]]\n"
          ]
        }
      ],
      "source": [
        "a = np.ones((16,16))\n",
        "b = 4\n",
        "x = np.add.reduceat(np.add.reduceat(a, np.arange(0, a.shape[0], b), axis=0),\n",
        "                                       np.arange(0, a.shape[1], b), axis=1)\n",
        "print ('input array')\n",
        "print (a)\n",
        "print(\"Block sum array\")\n",
        "print(x)"
      ]
    },
    {
      "cell_type": "markdown",
      "metadata": {
        "id": "uWLJX16o0ZQb"
      },
      "source": [
        "#### 88. How to implement the Game of Life using numpy arrays? (★★★)"
      ]
    },
    {
      "cell_type": "code",
      "execution_count": 94,
      "metadata": {
        "id": "VNbHo4mD0ZQc",
        "colab": {
          "base_uri": "https://localhost:8080/"
        },
        "outputId": "615ae511-3cd5-4b35-eef4-69921b800d20"
      },
      "outputs": [
        {
          "output_type": "stream",
          "name": "stdout",
          "text": [
            "[[0 0 0 0 0 0 0 0 0 0 0 0 0 0 0 0 0 0 0 0 0 0 0 0 0 0 0 0 0 0 0 0 0 0 0 0\n",
            "  0 0 0 0 0 0 0 0 0 0 0 0 0 0]\n",
            " [0 0 0 0 0 0 0 1 1 0 0 0 0 0 0 0 0 0 0 0 0 0 0 0 0 0 0 0 0 0 0 0 0 0 0 0\n",
            "  0 0 0 0 0 0 0 0 0 0 0 0 0 0]\n",
            " [0 0 0 0 0 0 1 0 0 1 0 0 0 0 0 0 0 0 0 0 0 0 0 1 0 0 0 0 0 0 0 0 0 0 0 0\n",
            "  0 0 0 0 0 0 0 0 0 0 1 0 0 0]\n",
            " [0 0 0 0 0 0 0 1 1 0 0 0 0 1 1 1 0 0 0 0 0 0 1 1 1 0 0 0 0 0 0 0 0 0 0 0\n",
            "  0 0 0 0 0 0 0 0 0 1 0 1 0 0]\n",
            " [0 0 0 0 0 0 0 0 0 0 0 0 0 0 0 0 0 0 0 0 1 0 0 0 0 1 0 0 0 0 0 0 0 0 0 0\n",
            "  0 0 0 0 0 0 0 0 0 1 0 1 0 0]\n",
            " [0 0 0 0 0 0 0 0 0 0 0 0 1 0 0 1 0 0 1 0 0 0 0 0 1 1 0 0 0 0 0 0 0 0 0 0\n",
            "  0 0 0 0 0 0 0 0 0 0 1 0 0 0]\n",
            " [0 0 0 0 0 0 0 0 0 0 0 0 1 1 1 1 0 0 1 0 0 0 0 0 1 1 0 0 0 0 0 0 0 0 0 0\n",
            "  0 0 0 0 0 0 0 0 0 0 0 0 0 0]\n",
            " [0 0 0 0 0 0 0 0 0 0 0 0 0 0 0 0 0 1 0 1 0 0 0 1 0 0 0 0 0 0 0 0 0 0 0 1\n",
            "  1 0 0 0 0 0 0 0 0 0 0 0 0 0]\n",
            " [0 0 0 0 0 0 0 0 0 0 0 0 0 0 0 0 0 0 0 0 1 0 1 0 0 1 0 1 0 0 0 0 0 0 1 0\n",
            "  0 1 0 0 0 0 0 0 0 0 0 0 0 0]\n",
            " [0 0 0 0 0 0 0 0 0 0 0 0 0 0 0 0 0 0 0 0 1 0 0 1 0 1 1 0 1 1 0 0 1 1 0 1\n",
            "  0 1 0 0 0 0 0 0 0 0 0 0 0 0]\n",
            " [0 0 0 0 0 0 0 1 1 0 0 0 0 0 0 0 0 0 0 0 0 1 1 1 1 0 1 1 0 1 0 1 1 1 1 0\n",
            "  1 0 0 0 0 0 0 0 0 0 0 0 0 0]\n",
            " [0 0 0 0 0 0 1 1 0 0 0 0 0 0 0 0 0 0 0 0 0 1 1 1 1 1 0 0 0 0 0 0 1 0 0 0\n",
            "  0 0 0 0 0 0 0 0 0 0 0 1 1 0]\n",
            " [0 0 0 0 0 0 0 0 1 0 0 0 0 0 0 0 0 0 0 0 0 0 0 0 0 1 1 0 0 0 0 0 1 1 0 0\n",
            "  0 0 0 0 0 0 0 0 0 0 0 1 1 0]\n",
            " [0 0 0 0 0 0 0 0 0 0 0 0 0 0 0 0 0 0 0 0 0 0 0 0 0 0 0 0 0 1 0 1 1 0 0 0\n",
            "  0 0 0 0 0 0 0 0 0 0 0 0 0 0]\n",
            " [0 0 0 0 0 0 0 0 0 0 0 0 0 0 0 0 0 0 0 0 0 0 0 0 0 0 0 0 0 1 0 1 0 0 1 0\n",
            "  0 0 0 0 0 0 0 0 0 0 0 0 0 0]\n",
            " [0 0 0 0 0 0 0 0 0 0 0 0 0 0 0 0 0 0 0 0 0 0 0 0 0 0 0 0 0 0 0 0 1 1 1 0\n",
            "  0 0 0 0 0 0 0 0 0 0 0 0 0 0]\n",
            " [0 0 0 0 0 0 0 0 0 0 0 0 0 0 0 0 0 0 0 0 0 1 0 1 0 0 0 0 0 0 0 1 0 1 0 0\n",
            "  0 0 0 0 0 0 0 0 0 0 0 0 0 0]\n",
            " [0 0 0 0 0 0 0 0 0 0 0 0 0 0 0 0 0 0 0 0 0 1 0 0 1 1 0 0 0 0 0 0 0 1 0 0\n",
            "  0 0 0 0 0 0 0 0 0 0 0 0 0 0]\n",
            " [0 0 0 0 0 0 0 0 0 0 0 0 0 0 0 0 0 0 0 0 0 0 0 1 0 0 0 0 0 1 0 0 0 1 0 0\n",
            "  0 0 0 0 0 0 0 0 0 0 0 0 0 0]\n",
            " [0 0 1 1 0 0 0 0 0 0 0 0 0 0 0 0 0 0 0 0 0 0 0 0 0 0 0 0 1 0 0 0 1 0 0 0\n",
            "  0 0 0 0 0 0 0 0 0 0 0 0 0 0]\n",
            " [0 0 0 0 0 0 0 0 0 0 0 0 0 0 0 0 0 0 0 0 0 0 0 0 0 0 0 0 1 0 0 0 0 0 1 0\n",
            "  1 0 0 0 0 0 0 0 0 0 0 0 0 0]\n",
            " [0 0 0 0 0 0 0 0 0 0 0 0 0 0 0 0 0 0 0 0 0 0 0 0 0 0 0 0 1 1 1 0 0 1 1 0\n",
            "  1 0 0 0 0 0 0 0 0 0 0 0 0 0]\n",
            " [0 0 0 0 0 0 0 0 0 0 0 0 0 0 0 0 0 0 0 0 0 0 0 0 0 0 0 0 0 0 1 1 0 1 1 1\n",
            "  0 0 0 0 0 0 0 0 0 0 0 0 0 0]\n",
            " [0 0 0 0 0 0 0 0 0 0 0 0 0 0 0 0 0 0 0 0 0 0 0 0 0 0 0 0 0 0 0 1 0 0 0 0\n",
            "  0 0 0 0 0 0 0 0 0 0 0 0 0 0]\n",
            " [0 0 0 0 0 0 0 0 0 0 0 0 0 0 0 0 0 0 0 0 0 0 0 0 0 0 0 0 0 0 0 0 0 0 0 0\n",
            "  0 0 0 0 0 0 0 0 0 1 0 0 0 0]\n",
            " [0 0 0 0 0 0 0 0 0 0 0 0 0 0 0 0 0 0 0 0 0 0 0 0 0 0 0 0 0 0 0 0 0 0 0 0\n",
            "  0 0 0 0 0 0 0 0 1 1 1 0 0 0]\n",
            " [0 0 0 0 0 0 0 0 0 0 0 0 0 0 0 0 0 0 0 0 0 0 0 0 0 0 0 0 0 0 0 0 0 0 0 1\n",
            "  1 0 0 0 0 0 0 0 1 0 1 1 0 0]\n",
            " [0 0 0 0 0 0 0 0 0 0 0 0 0 0 0 0 0 0 1 1 0 0 0 0 0 0 0 0 0 0 0 0 0 0 0 1\n",
            "  1 0 0 0 0 0 0 1 1 0 1 0 0 0]\n",
            " [0 0 0 0 0 0 0 0 0 0 0 0 0 0 0 0 0 0 1 1 0 0 0 0 0 1 1 1 0 0 0 0 0 0 0 0\n",
            "  0 0 0 0 0 0 0 0 0 1 0 0 0 0]\n",
            " [0 0 0 0 0 0 0 0 0 0 0 0 0 0 0 0 0 0 0 0 0 0 0 0 0 0 0 0 0 0 0 0 0 0 0 0\n",
            "  0 0 0 0 0 0 0 1 0 0 0 0 0 0]\n",
            " [0 0 0 0 0 0 0 0 0 0 0 0 0 0 0 0 0 0 0 0 0 0 0 0 0 0 0 0 0 0 0 0 0 0 0 0\n",
            "  0 0 0 0 0 1 1 0 0 0 0 0 0 0]\n",
            " [0 0 0 0 0 0 0 0 0 0 0 0 0 0 0 0 0 0 0 0 0 0 0 0 0 0 0 0 0 0 0 0 0 0 0 0\n",
            "  0 0 0 0 0 0 1 0 1 0 0 0 0 0]\n",
            " [0 0 0 0 0 0 0 0 0 0 0 0 0 0 0 0 0 0 0 0 0 0 0 0 0 0 0 0 0 0 0 0 0 0 0 0\n",
            "  0 0 0 1 1 0 0 0 1 0 0 0 0 0]\n",
            " [0 0 0 0 0 0 0 0 0 0 0 0 0 0 0 0 0 0 0 0 0 0 0 0 0 0 0 0 0 0 0 0 0 0 0 0\n",
            "  0 0 0 0 0 1 0 1 0 0 0 0 0 0]\n",
            " [0 0 0 0 0 0 0 0 0 0 0 0 0 0 0 0 0 0 0 0 0 0 0 0 0 0 0 0 0 1 1 0 0 0 0 0\n",
            "  0 0 0 0 0 0 1 1 0 0 0 0 0 0]\n",
            " [0 0 1 1 0 0 0 0 0 0 0 0 0 0 1 1 0 0 0 1 1 0 0 0 0 0 0 0 1 0 0 1 0 0 0 0\n",
            "  0 0 0 0 0 0 0 0 0 0 0 0 0 0]\n",
            " [0 0 1 1 0 0 0 0 0 0 0 0 1 0 0 1 0 0 1 0 0 1 0 0 0 0 0 0 0 1 0 1 0 0 0 0\n",
            "  0 0 0 0 0 0 1 0 0 0 0 0 0 0]\n",
            " [0 0 0 0 0 0 0 0 0 0 0 0 1 0 0 1 0 0 1 1 1 0 0 0 0 0 0 0 0 0 1 0 0 0 0 0\n",
            "  0 0 0 0 1 1 1 0 0 0 0 0 0 0]\n",
            " [0 0 0 0 0 0 0 0 0 0 0 0 0 1 1 0 0 0 0 1 1 0 0 0 0 0 0 0 0 0 0 0 0 0 0 0\n",
            "  0 0 0 0 0 0 0 0 0 0 0 0 0 0]\n",
            " [0 0 0 0 0 0 0 1 1 1 0 0 0 0 0 0 0 0 0 0 0 0 0 0 0 0 0 0 0 0 0 0 0 0 0 0\n",
            "  0 0 1 1 0 0 0 0 0 0 0 0 0 0]\n",
            " [0 0 0 0 0 0 1 1 0 1 1 0 0 0 0 0 0 0 1 1 0 0 0 0 1 0 0 0 0 0 0 0 0 0 0 0\n",
            "  0 1 0 1 0 0 0 0 0 0 0 0 0 0]\n",
            " [0 0 0 0 0 0 1 1 0 0 0 1 0 0 0 0 0 0 1 1 1 0 0 0 0 1 0 0 0 0 0 0 0 0 0 0\n",
            "  0 1 0 0 1 0 0 1 1 0 0 0 0 0]\n",
            " [0 0 0 0 0 0 0 0 1 1 0 0 1 0 0 1 1 0 0 1 0 1 0 0 0 0 0 0 0 0 0 0 0 1 0 1\n",
            "  0 0 0 1 0 0 0 1 1 0 0 0 0 0]\n",
            " [0 0 0 0 0 0 0 0 0 0 0 0 1 0 0 1 1 0 0 0 0 0 1 0 0 0 0 0 0 0 0 0 0 1 0 1\n",
            "  0 1 1 0 0 0 0 0 0 0 0 0 0 0]\n",
            " [0 0 0 0 0 0 0 0 0 0 0 1 1 0 0 0 0 0 0 0 1 0 1 0 0 0 0 0 0 0 0 0 0 1 0 0\n",
            "  0 1 1 0 0 0 0 0 0 0 0 0 0 0]\n",
            " [0 0 0 0 0 0 0 0 0 0 0 0 0 0 0 0 0 0 0 0 0 0 0 0 0 0 0 0 0 0 0 0 0 0 1 1\n",
            "  1 0 0 0 0 0 0 0 0 0 0 0 0 0]\n",
            " [0 0 0 0 0 0 0 0 0 0 0 0 0 0 0 0 0 0 0 0 0 0 0 0 0 0 0 0 0 0 0 0 0 0 0 1\n",
            "  1 0 0 0 0 0 0 0 0 0 0 0 0 0]\n",
            " [0 0 0 0 0 0 0 0 0 0 0 0 0 0 0 0 0 0 0 0 0 0 0 0 0 0 0 0 0 0 0 0 0 0 0 0\n",
            "  0 0 0 0 0 0 0 0 0 0 0 0 0 0]\n",
            " [0 0 0 0 0 0 0 0 0 0 0 0 0 0 0 0 0 0 0 0 0 0 0 0 0 0 0 0 0 0 0 0 0 0 0 0\n",
            "  0 0 0 0 0 0 0 0 0 0 0 0 0 0]\n",
            " [0 0 0 0 0 0 0 0 0 0 0 0 0 0 0 0 0 0 0 0 0 0 0 0 0 0 0 0 0 0 0 0 0 0 0 0\n",
            "  0 0 0 0 0 0 0 0 0 0 0 0 0 0]]\n"
          ]
        }
      ],
      "source": [
        "def iterate(Z):\n",
        "    # Count neighbours\n",
        "    N = (Z[0:-2,0:-2] + Z[0:-2,1:-1] + Z[0:-2,2:] +\n",
        "         Z[1:-1,0:-2]                + Z[1:-1,2:] +\n",
        "         Z[2:  ,0:-2] + Z[2:  ,1:-1] + Z[2:  ,2:])\n",
        "\n",
        "    # Apply rules\n",
        "    birth = (N==3) & (Z[1:-1,1:-1]==0)\n",
        "    survive = ((N==2) | (N==3)) & (Z[1:-1,1:-1]==1)\n",
        "    Z[...] = 0\n",
        "    Z[1:-1,1:-1][birth | survive] = 1\n",
        "    return Z\n",
        "\n",
        "Z = np.random.randint(0,2,(50,50))\n",
        "for i in range(100): Z = iterate(Z)\n",
        "print(Z)"
      ]
    },
    {
      "cell_type": "markdown",
      "metadata": {
        "id": "BIfZ31aZ0ZQc"
      },
      "source": [
        "#### 89. How to get the n largest values of an array (★★★) \n",
        "(**hint**: np.argsort | np.argpartition)"
      ]
    },
    {
      "cell_type": "code",
      "execution_count": 95,
      "metadata": {
        "id": "UJPnPMJB0ZQc",
        "colab": {
          "base_uri": "https://localhost:8080/"
        },
        "outputId": "43201672-4c55-4173-c34c-dbd9e7018743"
      },
      "outputs": [
        {
          "output_type": "stream",
          "name": "stdout",
          "text": [
            "[9999 9998 9997 9996 9995]\n"
          ]
        }
      ],
      "source": [
        "a = np.arange(10000)\n",
        "np.random.shuffle(a)\n",
        "n = 5\n",
        "print (a[np.argpartition(-a,n)[:n]])"
      ]
    },
    {
      "cell_type": "markdown",
      "metadata": {
        "id": "wUgKMtkC0ZQd"
      },
      "source": [
        "#### 90. Given an arbitrary number of vectors, build the cartesian product (every combinations of every item) (★★★) \n",
        "(**hint**: np.indices)"
      ]
    },
    {
      "cell_type": "code",
      "execution_count": 97,
      "metadata": {
        "scrolled": true,
        "id": "eyPO37c-0ZQd",
        "colab": {
          "base_uri": "https://localhost:8080/"
        },
        "outputId": "69b63c7c-9263-4348-9a86-494434d18bad"
      },
      "outputs": [
        {
          "output_type": "stream",
          "name": "stdout",
          "text": [
            "[[1 4 6]\n",
            " [1 4 7]\n",
            " [1 5 6]\n",
            " [1 5 7]\n",
            " [2 4 6]\n",
            " [2 4 7]\n",
            " [2 5 6]\n",
            " [2 5 7]\n",
            " [3 4 6]\n",
            " [3 4 7]\n",
            " [3 5 6]\n",
            " [3 5 7]]\n"
          ]
        }
      ],
      "source": [
        "def cartesian(arrays):\n",
        "    arrays = [np.asarray(a) for a in arrays]\n",
        "    shape = (len(x) for x in arrays)\n",
        "\n",
        "    ix = np.indices(shape, dtype=int)\n",
        "    ix = ix.reshape(len(arrays), -1).T\n",
        "\n",
        "    for n, arr in enumerate(arrays):\n",
        "        ix[:, n] = arrays[n][ix[:, n]]\n",
        "\n",
        "    return ix\n",
        "\n",
        "print (cartesian(([1, 2, 3], [4, 5], [6, 7])))"
      ]
    },
    {
      "cell_type": "markdown",
      "metadata": {
        "id": "OYhEdcKf0ZQe"
      },
      "source": [
        "#### 91. How to create a record array from a regular array? (★★★) \n",
        "(**hint**: np.core.records.fromarrays)"
      ]
    },
    {
      "cell_type": "code",
      "execution_count": 98,
      "metadata": {
        "id": "sShAzUEj0ZQf",
        "colab": {
          "base_uri": "https://localhost:8080/"
        },
        "outputId": "2515f120-2c49-486b-ad86-4b5f776ea17a"
      },
      "outputs": [
        {
          "output_type": "stream",
          "name": "stdout",
          "text": [
            "[(b'Hello', 2.5, 3) (b'World', 3.6, 2)]\n"
          ]
        }
      ],
      "source": [
        "a = np.array([(\"Hello\", 2.5, 3),\n",
        "              (\"World\", 3.6, 2)])\n",
        "b = np.core.records.fromarrays(a.T, names='col1, col2, col3', formats = 'S8, f8, i8')\n",
        "print(b)"
      ]
    },
    {
      "cell_type": "markdown",
      "metadata": {
        "id": "7sGTo9x_0ZQg"
      },
      "source": [
        "#### 92. Consider a large vector Z, compute Z to the power of 3 using 3 different methods (★★★) \n",
        "(**hint**: np.power, \\*, np.einsum)"
      ]
    },
    {
      "cell_type": "code",
      "execution_count": 99,
      "metadata": {
        "id": "nq-n6cxB0ZQg",
        "colab": {
          "base_uri": "https://localhost:8080/"
        },
        "outputId": "2a7ca301-9303-49f3-effc-0328a0e54d9f"
      },
      "outputs": [
        {
          "output_type": "stream",
          "name": "stdout",
          "text": [
            "1 loop, best of 5: 3.72 s per loop\n",
            "10 loops, best of 5: 155 ms per loop\n",
            "10 loops, best of 5: 123 ms per loop\n"
          ]
        }
      ],
      "source": [
        "x = np.random.rand(int(5e7))\n",
        "\n",
        "%timeit np.power(x,3)\n",
        "%timeit x*x*x\n",
        "%timeit np.einsum('i,i,i->i',x,x,x)"
      ]
    },
    {
      "cell_type": "markdown",
      "metadata": {
        "id": "COBq2ChH0ZQg"
      },
      "source": [
        "#### 93. Consider two arrays A and B of shape (8,3) and (2,2). How to find rows of A that contain elements of each row of B regardless of the order of the elements in B? (★★★) \n",
        "(**hint**: np.where)"
      ]
    },
    {
      "cell_type": "code",
      "execution_count": 100,
      "metadata": {
        "id": "lKwE4e9k0ZQh",
        "colab": {
          "base_uri": "https://localhost:8080/"
        },
        "outputId": "9fc5aabb-2add-413a-baf6-239e55452d3a"
      },
      "outputs": [
        {
          "output_type": "stream",
          "name": "stdout",
          "text": [
            "[1 2 4 6 7]\n"
          ]
        }
      ],
      "source": [
        "a = np.random.randint(0,5,(8,3))\n",
        "b = np.random.randint(0,5,(2,2))\n",
        "x = (a[..., np.newaxis, np.newaxis] == b)\n",
        "rows = np.where(x.any((3,1)).all(1))[0]\n",
        "print(rows)"
      ]
    },
    {
      "cell_type": "markdown",
      "metadata": {
        "id": "OkIohQOY0ZQh"
      },
      "source": [
        "#### 94. Considering a 10x3 matrix, extract rows with unequal values (e.g. \\[2,2,3\\]) (★★★)"
      ]
    },
    {
      "cell_type": "code",
      "execution_count": 104,
      "metadata": {
        "id": "nwzJY0ru0ZQh",
        "colab": {
          "base_uri": "https://localhost:8080/"
        },
        "outputId": "4ebc67f9-8d26-4c98-802b-41b1b9ba48ef"
      },
      "outputs": [
        {
          "output_type": "stream",
          "name": "stdout",
          "text": [
            "[[4 2 1]\n",
            " [2 0 3]\n",
            " [2 3 3]\n",
            " [2 3 4]\n",
            " [2 2 0]\n",
            " [3 2 1]\n",
            " [3 2 2]\n",
            " [4 0 0]\n",
            " [2 0 2]\n",
            " [0 4 1]]\n",
            "[[4 2 1]\n",
            " [2 0 3]\n",
            " [2 3 3]\n",
            " [2 3 4]\n",
            " [2 2 0]\n",
            " [3 2 1]\n",
            " [3 2 2]\n",
            " [4 0 0]\n",
            " [2 0 2]\n",
            " [0 4 1]]\n"
          ]
        }
      ],
      "source": [
        "a = np.random.randint(0,5,(10,3))\n",
        "print(a)\n",
        "b = np.all(a[:,1:] == a[:,:-1], axis=1)\n",
        "c = a[~b]\n",
        "print(c)"
      ]
    },
    {
      "cell_type": "markdown",
      "metadata": {
        "id": "Cl2OwMGo0ZQh"
      },
      "source": [
        "#### 95. Convert a vector of ints into a matrix binary representation (★★★) \n",
        "(**hint**: np.unpackbits)"
      ]
    },
    {
      "cell_type": "code",
      "execution_count": 105,
      "metadata": {
        "id": "gcYUrGLp0ZQi",
        "colab": {
          "base_uri": "https://localhost:8080/"
        },
        "outputId": "4a869332-4181-409b-beac-37d0b1491ab8"
      },
      "outputs": [
        {
          "output_type": "stream",
          "name": "stdout",
          "text": [
            "[[0 0 0 0 0 0 0 0]\n",
            " [0 0 0 0 0 0 0 1]\n",
            " [0 0 0 0 0 0 1 0]\n",
            " [0 0 0 0 0 0 1 1]\n",
            " [0 0 0 0 1 1 1 1]\n",
            " [0 0 0 1 0 0 0 0]\n",
            " [0 0 1 0 0 0 0 0]\n",
            " [0 1 0 0 0 0 0 0]\n",
            " [1 0 0 0 0 0 0 0]]\n"
          ]
        }
      ],
      "source": [
        "I = np.array([0, 1, 2, 3, 15, 16, 32, 64, 128], dtype=np.uint8)\n",
        "print(np.unpackbits(I[:, np.newaxis], axis=1))"
      ]
    },
    {
      "cell_type": "markdown",
      "metadata": {
        "id": "BBYONKIQ0ZQi"
      },
      "source": [
        "#### 96. Given a two dimensional array, how to extract unique rows? (★★★) \n",
        "(**hint**: np.ascontiguousarray)"
      ]
    },
    {
      "cell_type": "code",
      "execution_count": 106,
      "metadata": {
        "id": "H2Hb7q0_0ZQi",
        "colab": {
          "base_uri": "https://localhost:8080/"
        },
        "outputId": "f708847d-6f4b-4971-c14b-fa7211a5069a"
      },
      "outputs": [
        {
          "output_type": "stream",
          "name": "stdout",
          "text": [
            "[[0 0 0]\n",
            " [0 0 1]\n",
            " [0 1 0]\n",
            " [1 0 0]\n",
            " [1 0 1]]\n"
          ]
        }
      ],
      "source": [
        "Z = np.random.randint(0,2,(6,3))\n",
        "T = np.ascontiguousarray(Z).view(np.dtype((np.void, Z.dtype.itemsize * Z.shape[1])))\n",
        "_, idx = np.unique(T, return_index=True)\n",
        "uZ = Z[idx]\n",
        "print(uZ)"
      ]
    },
    {
      "cell_type": "markdown",
      "metadata": {
        "id": "Zrc7h4VU0ZQi"
      },
      "source": [
        "#### 97. Considering 2 vectors A & B, write the einsum equivalent of inner, outer, sum, and mul function (★★★) \n",
        "(**hint**: np.einsum)"
      ]
    },
    {
      "cell_type": "code",
      "execution_count": 108,
      "metadata": {
        "id": "rPpukvnl0ZQi",
        "colab": {
          "base_uri": "https://localhost:8080/"
        },
        "outputId": "bafb1f45-281c-4f77-8942-9e7df6c7475d"
      },
      "outputs": [
        {
          "output_type": "stream",
          "name": "stdout",
          "text": [
            "5.411209649538408\n",
            "[0.3194463  0.05743891 0.03183174 0.06554293 0.32968102 0.32338163\n",
            " 0.03425635 0.20718636 0.42817721 0.67517173]\n",
            "2.472114188216418\n",
            "[[0.3194463  0.09140473 0.04203361 0.47917635 0.61852745 0.64956526\n",
            "  0.8031766  0.52132136 0.40131894 0.64499553]\n",
            " [0.20074069 0.05743891 0.02641401 0.30111537 0.38868387 0.4081881\n",
            "  0.50471777 0.32759938 0.25218961 0.40531647]\n",
            " [0.24191425 0.06922011 0.03183174 0.36287661 0.46840613 0.49191083\n",
            "  0.60823953 0.3947927  0.30391578 0.48845021]\n",
            " [0.04369466 0.01250257 0.00574946 0.06554293 0.08460372 0.08884915\n",
            "  0.10986049 0.07130763 0.0548934  0.08822409]\n",
            " [0.17026792 0.04871959 0.02240432 0.25540556 0.32968102 0.34622447\n",
            "  0.42810078 0.27786925 0.21390682 0.34378876]\n",
            " [0.15903416 0.04550522 0.02092615 0.23855468 0.30792967 0.32338163\n",
            "  0.39985599 0.25953628 0.19979389 0.32110662]\n",
            " [0.01362473 0.00389851 0.00179278 0.02043739 0.02638087 0.02770466\n",
            "  0.03425635 0.02223492 0.01711669 0.02750976]\n",
            " [0.12695608 0.03632656 0.01670523 0.19043686 0.24581853 0.25815375\n",
            "  0.3192028  0.20718636 0.15949435 0.25633762]\n",
            " [0.34082525 0.09752199 0.04484671 0.51124524 0.65992241 0.69303743\n",
            "  0.85692921 0.5562108  0.42817721 0.68816187]\n",
            " [0.33439164 0.09568111 0.04400016 0.50159468 0.64746533 0.67995526\n",
            "  0.84075332 0.54571145 0.4200947  0.67517173]]\n"
          ]
        }
      ],
      "source": [
        "x = np.random.uniform(0,1,10)\n",
        "y = np.random.uniform(0,1,10)\n",
        "\n",
        "print(np.einsum('i->', x))\n",
        "print(np.einsum('i,i->i', x, y))\n",
        "print(np.einsum('i,i', x, y))\n",
        "print(np.einsum('i,j->ij', x, y))  "
      ]
    },
    {
      "cell_type": "markdown",
      "metadata": {
        "id": "NUr1qwE_0ZQj"
      },
      "source": [
        "#### 98. Considering a path described by two vectors (X,Y), how to sample it using equidistant samples (★★★)? \n",
        "(**hint**: np.cumsum, np.interp)"
      ]
    },
    {
      "cell_type": "code",
      "execution_count": 109,
      "metadata": {
        "collapsed": true,
        "id": "imLyba1n0ZQj"
      },
      "outputs": [],
      "source": [
        "phi = np.arange(0, 10*np.pi, 0.1)\n",
        "a = 1\n",
        "x = a*phi*np.cos(phi)\n",
        "y = a*phi*np.sin(phi)\n",
        "\n",
        "dr = (np.diff(x)**2 + np.diff(y)**2)**.5\n",
        "r = np.zeros_like(x)\n",
        "r[1:] = np.cumsum(dr)                \n",
        "r_int = np.linspace(0, r.max(), 200) \n",
        "x_int = np.interp(r_int, r, x)       \n",
        "y_int = np.interp(r_int, r, y)"
      ]
    },
    {
      "cell_type": "markdown",
      "metadata": {
        "id": "8Ei4QglA0ZQj"
      },
      "source": [
        "#### 99. Given an integer n and a 2D array X, select from X the rows which can be interpreted as draws from a multinomial distribution with n degrees, i.e., the rows which only contain integers and which sum to n. (★★★) \n",
        "(**hint**: np.logical\\_and.reduce, np.mod)"
      ]
    },
    {
      "cell_type": "code",
      "execution_count": 110,
      "metadata": {
        "id": "yXIBe2670ZQj",
        "colab": {
          "base_uri": "https://localhost:8080/"
        },
        "outputId": "cf3b4faf-897b-4399-dde2-ef0e3c2d21a9"
      },
      "outputs": [
        {
          "output_type": "stream",
          "name": "stdout",
          "text": [
            "[[2. 0. 1. 1.]]\n"
          ]
        }
      ],
      "source": [
        "a = np.asarray([[1.0, 0.0, 3.0, 8.0],\n",
        "                [2.0, 0.0, 1.0, 1.0],\n",
        "                [1.5, 2.5, 1.0, 0.0]])\n",
        "n = 4\n",
        "b = np.logical_and.reduce(np.mod(a, 1) == 0, axis=-1)\n",
        "b &= (a.sum(axis=-1) == n)\n",
        "print(a[b])"
      ]
    },
    {
      "cell_type": "markdown",
      "metadata": {
        "id": "sPWyqFfD0ZQj"
      },
      "source": [
        "#### 100. Compute bootstrapped 95% confidence intervals for the mean of a 1D array X (i.e., resample the elements of an array with replacement N times, compute the mean of each sample, and then compute percentiles over the means). (★★★) \n",
        "(**hint**: np.percentile)"
      ]
    },
    {
      "cell_type": "code",
      "execution_count": 111,
      "metadata": {
        "id": "JS3Qjx770ZQk",
        "colab": {
          "base_uri": "https://localhost:8080/"
        },
        "outputId": "d5a1c9b0-2da0-4bdc-a2ae-45733c772925"
      },
      "outputs": [
        {
          "output_type": "stream",
          "name": "stdout",
          "text": [
            "[-0.17784225  0.20238028]\n"
          ]
        }
      ],
      "source": [
        "a = np.random.randn(100) \n",
        "n = 1000\n",
        "index = np.random.randint(0, a.size, (n, a.size))\n",
        "mean = a[index].mean(axis=1)\n",
        "confint = np.percentile(mean, [2.5, 97.5])\n",
        "print(confint)"
      ]
    }
  ],
  "metadata": {
    "kernelspec": {
      "display_name": "Python 3",
      "language": "python",
      "name": "python3"
    },
    "language_info": {
      "codemirror_mode": {
        "name": "ipython",
        "version": 3
      },
      "file_extension": ".py",
      "mimetype": "text/x-python",
      "name": "python",
      "nbconvert_exporter": "python",
      "pygments_lexer": "ipython3",
      "version": "3.8.3"
    },
    "colab": {
      "name": "Numpy_tasks.ipynb",
      "provenance": [],
      "collapsed_sections": []
    }
  },
  "nbformat": 4,
  "nbformat_minor": 0
}